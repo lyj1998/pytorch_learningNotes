{
 "cells": [
  {
   "cell_type": "markdown",
   "metadata": {
    "cellType": "markdown",
    "uuid": "d8d08384-dfae-4f34-9e4f-89f04d5bcea5"
   },
   "source": [
    "# 1.数据类型"
   ]
  },
  {
   "cell_type": "markdown",
   "metadata": {
    "cellType": "markdown",
    "uuid": "9e8cdf88-3a64-40f2-9672-7097aa291600"
   },
   "source": [
    "## 类型推断"
   ]
  },
  {
   "cell_type": "code",
   "execution_count": 1,
   "metadata": {
    "uuid": "50052b49-4715-45bb-b2e7-8902744e24b5"
   },
   "outputs": [
    {
     "name": "stdout",
     "output_type": "stream",
     "text": [
      "torch.FloatTensor\n",
      "<class 'torch.Tensor'>\n",
      "True\n"
     ]
    }
   ],
   "source": [
    "import torch\n",
    "# type check\n",
    "a = torch.randn(2,3)\n",
    "print(a.type())\n",
    "print(type(a))\n",
    "print(isinstance(a,torch.FloatTensor))"
   ]
  },
  {
   "cell_type": "code",
   "execution_count": 3,
   "metadata": {
    "uuid": "f2bf951d-8ccc-4d36-8d42-3c9e64d7cbd1"
   },
   "outputs": [
    {
     "name": "stdout",
     "output_type": "stream",
     "text": [
      "True\n"
     ]
    }
   ],
   "source": [
    "data = a\n",
    "data = data.cuda()\n",
    "print(isinstance(data,torch.cuda.FloatTensor))"
   ]
  },
  {
   "cell_type": "markdown",
   "metadata": {
    "cellType": "markdown",
    "uuid": "56e75277-70bc-4744-8130-0c1d55198ed6"
   },
   "source": [
    "## 标量（标量dimsension 0/rank 0(常用于loss)）"
   ]
  },
  {
   "cell_type": "code",
   "execution_count": 4,
   "metadata": {
    "uuid": "f991c9de-7c50-4dfe-8b0e-c9485978d59a"
   },
   "outputs": [
    {
     "name": "stdout",
     "output_type": "stream",
     "text": [
      "tensor(1.3000)\n",
      "torch.Size([])\n",
      "0\n",
      "torch.Size([])\n"
     ]
    }
   ],
   "source": [
    "# 标量dimsension 0/rank 0(常用于loss)\n",
    "b = torch.tensor(1.3)\n",
    "print(b)\n",
    "print(b.shape)   #shape是成员\n",
    "print(len(b.shape))\n",
    "print(b.size())#size()是成员函数"
   ]
  },
  {
   "cell_type": "markdown",
   "metadata": {
    "cellType": "markdown",
    "uuid": "98213857-7c00-4183-b811-3ea57859e397"
   },
   "source": [
    "## 张量（张量dimension为1，常用于bias）"
   ]
  },
  {
   "cell_type": "code",
   "execution_count": 10,
   "metadata": {
    "uuid": "cac927c9-7a03-48a7-bf15-8035a223df1b"
   },
   "outputs": [
    {
     "name": "stdout",
     "output_type": "stream",
     "text": [
      "tensor([1.1000])\n",
      "torch.FloatTensor\n"
     ]
    }
   ],
   "source": [
    "print(torch.tensor([1.1]))\n",
    "a = torch.tensor([1.1,2.1])\n",
    "print(a.type())"
   ]
  },
  {
   "cell_type": "code",
   "execution_count": 17,
   "metadata": {
    "uuid": "67950aec-a53d-45d5-9d37-ffd4383afaf5"
   },
   "outputs": [
    {
     "data": {
      "text/plain": [
       "tensor([-8.0832e+25])"
      ]
     },
     "execution_count": 17,
     "metadata": {},
     "output_type": "execute_result"
    }
   ],
   "source": [
    "torch.FloatTensor(1)#这个1就是dimension了"
   ]
  },
  {
   "cell_type": "code",
   "execution_count": 18,
   "metadata": {
    "uuid": "ea758c66-617b-46e1-8d24-f2364815dbc6"
   },
   "outputs": [
    {
     "data": {
      "text/plain": [
       "tensor([-8.0831e+25,  4.5797e-41])"
      ]
     },
     "execution_count": 18,
     "metadata": {},
     "output_type": "execute_result"
    }
   ],
   "source": [
    "torch.FloatTensor(2)"
   ]
  },
  {
   "cell_type": "code",
   "execution_count": 23,
   "metadata": {
    "uuid": "d1dc3d05-0091-4ff5-96ea-00923817c624"
   },
   "outputs": [],
   "source": [
    "import numpy as np\n",
    "data   = np.ones(2)\n",
    "torch_data = torch.from_numpy(data)"
   ]
  },
  {
   "cell_type": "code",
   "execution_count": 28,
   "metadata": {
    "uuid": "355afbf3-ae02-4768-b677-828cbb68aea9"
   },
   "outputs": [
    {
     "data": {
      "text/plain": [
       "tensor([1., 1.], dtype=torch.float64)"
      ]
     },
     "execution_count": 28,
     "metadata": {},
     "output_type": "execute_result"
    }
   ],
   "source": [
    "torch_data"
   ]
  },
  {
   "cell_type": "code",
   "execution_count": 27,
   "metadata": {
    "uuid": "761f835d-5fd7-44c9-ad30-337d10cfef5a"
   },
   "outputs": [
    {
     "name": "stdout",
     "output_type": "stream",
     "text": [
      "torch.Size([2])\n",
      "torch.DoubleTensor\n"
     ]
    }
   ],
   "source": [
    "print(torch_data.shape)\n",
    "print(torch_data.type())"
   ]
  },
  {
   "cell_type": "markdown",
   "metadata": {
    "cellType": "markdown",
    "uuid": "822a301b-8f09-4da8-8dd1-9ead2b723bb8"
   },
   "source": [
    "## 张量dimension2(常用于batch,linear input的输入)"
   ]
  },
  {
   "cell_type": "code",
   "execution_count": 29,
   "metadata": {
    "uuid": "664cfc0d-f52c-4cba-b726-9e8f72381662"
   },
   "outputs": [
    {
     "name": "stdout",
     "output_type": "stream",
     "text": [
      "tensor([[ 1.0152, -0.0950,  0.4634],\n",
      "        [ 0.2911, -1.7506,  0.6098]])\n"
     ]
    }
   ],
   "source": [
    "d = torch.randn(2,3)#正态分布，同时用FloatTensor也可以\n",
    "print(d)"
   ]
  },
  {
   "cell_type": "code",
   "execution_count": 30,
   "metadata": {
    "uuid": "e44f305b-524c-4ba4-bc4a-f9172abdbe8d"
   },
   "outputs": [
    {
     "name": "stdout",
     "output_type": "stream",
     "text": [
      "torch.Size([2, 3])\n"
     ]
    }
   ],
   "source": [
    "print(d.shape)"
   ]
  },
  {
   "cell_type": "code",
   "execution_count": 31,
   "metadata": {
    "uuid": "ef48e752-4d27-478c-bd86-05a874c77f3d"
   },
   "outputs": [],
   "source": [
    "d = torch.FloatTensor(2,3)"
   ]
  },
  {
   "cell_type": "code",
   "execution_count": 32,
   "metadata": {
    "uuid": "8e8998a6-5ea8-46f8-ad6f-3ea932cc00be"
   },
   "outputs": [
    {
     "data": {
      "text/plain": [
       "tensor([[-8.0829e+25,  4.5797e-41,  6.8410e+00],\n",
       "        [ 3.0740e-41,  0.0000e+00,  0.0000e+00]])"
      ]
     },
     "execution_count": 32,
     "metadata": {},
     "output_type": "execute_result"
    }
   ],
   "source": [
    "d"
   ]
  },
  {
   "cell_type": "markdown",
   "metadata": {
    "cellType": "markdown",
    "uuid": "4393a1cf-1cd7-4174-92a0-72c2eb165ce1"
   },
   "source": [
    "## dimension是维度，这里就是2\n",
    "## shape/size:就是形状，这里是[2,3]\n",
    "## shape[1]和size(1)是返回list索引所在的值"
   ]
  },
  {
   "cell_type": "code",
   "execution_count": 33,
   "metadata": {
    "uuid": "e59de54e-2914-4236-84d7-dcad01b72b6f"
   },
   "outputs": [
    {
     "name": "stdout",
     "output_type": "stream",
     "text": [
      "3\n",
      "3\n"
     ]
    }
   ],
   "source": [
    "print(d.shape[1])\n",
    "print(d.size(1))"
   ]
  },
  {
   "cell_type": "markdown",
   "metadata": {
    "cellType": "markdown",
    "uuid": "4a414eb9-8b1f-4464-b0e7-2e02dba0a5a2"
   },
   "source": [
    "## 张量dimension3 （常用于rnn）[seq_len,batch_size,embedding_dim]"
   ]
  },
  {
   "cell_type": "code",
   "execution_count": 34,
   "metadata": {
    "uuid": "6e657c31-eab5-40eb-a131-6a97d33ed5c3"
   },
   "outputs": [],
   "source": [
    "a = torch.rand(1,2,3)#均匀分布"
   ]
  },
  {
   "cell_type": "code",
   "execution_count": 35,
   "metadata": {
    "uuid": "2c57b6e7-bc47-4f49-9226-1cd0c1933021"
   },
   "outputs": [
    {
     "data": {
      "text/plain": [
       "tensor([[[0.8090, 0.8327, 0.4948],\n",
       "         [0.9830, 0.7262, 0.0874]]])"
      ]
     },
     "execution_count": 35,
     "metadata": {},
     "output_type": "execute_result"
    }
   ],
   "source": [
    "a"
   ]
  },
  {
   "cell_type": "code",
   "execution_count": 36,
   "metadata": {
    "uuid": "a21276a0-8eb2-41b0-b3fd-f5d27befc247"
   },
   "outputs": [
    {
     "data": {
      "text/plain": [
       "torch.Size([1, 2, 3])"
      ]
     },
     "execution_count": 36,
     "metadata": {},
     "output_type": "execute_result"
    }
   ],
   "source": [
    "a.shape"
   ]
  },
  {
   "cell_type": "code",
   "execution_count": 37,
   "metadata": {
    "uuid": "ce0676e5-2515-4fd9-85ee-20948f11609d"
   },
   "outputs": [
    {
     "data": {
      "text/plain": [
       "[1, 2, 3]"
      ]
     },
     "execution_count": 37,
     "metadata": {},
     "output_type": "execute_result"
    }
   ],
   "source": [
    "list(a.shape)"
   ]
  },
  {
   "cell_type": "markdown",
   "metadata": {
    "cellType": "markdown",
    "uuid": "f20062f5-71e5-4415-8fe6-ca0188832f2c"
   },
   "source": [
    "## 张量dimension4（常用于表示图片类型）[batch_size,channel,height,width]"
   ]
  },
  {
   "cell_type": "code",
   "execution_count": 38,
   "metadata": {
    "uuid": "f84c76c4-8ee5-477a-8c63-f0794ac17d3a"
   },
   "outputs": [],
   "source": [
    "a = torch.rand(2,3,28,28)#两张图片，每张图片为3通道，大小为28*28"
   ]
  },
  {
   "cell_type": "code",
   "execution_count": 39,
   "metadata": {
    "uuid": "94759159-8d0a-488b-8dfe-159742ebe5d5"
   },
   "outputs": [
    {
     "data": {
      "text/plain": [
       "tensor([[[[4.8047e-01, 5.9468e-01, 7.6418e-01,  ..., 1.0135e-01,\n",
       "           6.9445e-01, 2.6139e-01],\n",
       "          [4.4090e-01, 3.5528e-01, 5.5874e-01,  ..., 3.6104e-01,\n",
       "           3.9500e-01, 3.4924e-01],\n",
       "          [8.8561e-02, 9.2629e-01, 9.1399e-01,  ..., 4.5437e-01,\n",
       "           1.4031e-01, 5.8683e-01],\n",
       "          ...,\n",
       "          [5.2951e-01, 9.6909e-01, 3.0365e-01,  ..., 1.5707e-01,\n",
       "           3.7086e-01, 6.1920e-01],\n",
       "          [1.0463e-01, 2.6287e-01, 3.5778e-02,  ..., 4.3312e-02,\n",
       "           8.4704e-01, 3.4403e-01],\n",
       "          [3.3356e-01, 8.6264e-01, 4.6127e-02,  ..., 9.7742e-01,\n",
       "           5.0236e-01, 8.7359e-01]],\n",
       "\n",
       "         [[3.4372e-01, 8.2687e-01, 2.1133e-01,  ..., 6.7722e-01,\n",
       "           4.5240e-01, 3.9077e-02],\n",
       "          [9.5789e-01, 2.0518e-01, 4.9212e-01,  ..., 4.5416e-01,\n",
       "           6.0095e-01, 1.7525e-01],\n",
       "          [9.1348e-01, 4.1107e-01, 5.8294e-01,  ..., 7.6592e-01,\n",
       "           1.8563e-01, 5.0034e-01],\n",
       "          ...,\n",
       "          [8.0598e-01, 3.4932e-01, 6.2039e-01,  ..., 3.5718e-02,\n",
       "           6.3167e-01, 3.5912e-01],\n",
       "          [7.9493e-01, 8.3947e-02, 7.7227e-01,  ..., 2.2779e-01,\n",
       "           7.8092e-01, 7.3999e-01],\n",
       "          [2.7035e-02, 2.7665e-01, 3.3054e-01,  ..., 8.2184e-01,\n",
       "           4.7101e-01, 3.4255e-04]],\n",
       "\n",
       "         [[3.2008e-01, 9.3577e-01, 4.6602e-01,  ..., 7.2840e-01,\n",
       "           5.3523e-01, 2.7739e-01],\n",
       "          [5.0826e-01, 2.7679e-01, 1.9338e-01,  ..., 1.0230e-01,\n",
       "           9.0629e-01, 6.6282e-01],\n",
       "          [7.8181e-01, 4.3781e-01, 1.5425e-01,  ..., 8.6525e-01,\n",
       "           1.0839e-01, 8.8960e-01],\n",
       "          ...,\n",
       "          [6.0594e-01, 4.4841e-01, 2.7997e-01,  ..., 1.6952e-04,\n",
       "           7.1540e-01, 6.3609e-01],\n",
       "          [2.6635e-01, 2.5033e-02, 9.7116e-01,  ..., 2.2519e-01,\n",
       "           9.0121e-01, 6.1450e-01],\n",
       "          [2.2231e-01, 2.8922e-01, 8.5143e-01,  ..., 9.7763e-02,\n",
       "           4.8221e-01, 2.5436e-01]]],\n",
       "\n",
       "\n",
       "        [[[8.5198e-01, 4.9626e-01, 5.5024e-01,  ..., 1.2591e-02,\n",
       "           1.3769e-02, 4.9732e-01],\n",
       "          [9.1376e-01, 4.3899e-01, 2.5114e-01,  ..., 2.1235e-01,\n",
       "           6.4552e-01, 6.9753e-01],\n",
       "          [6.5372e-01, 3.2600e-01, 7.3630e-01,  ..., 7.1660e-03,\n",
       "           8.2906e-01, 1.4148e-01],\n",
       "          ...,\n",
       "          [4.2159e-01, 2.2197e-01, 7.6495e-01,  ..., 4.6944e-01,\n",
       "           6.8465e-01, 5.1565e-01],\n",
       "          [6.2012e-01, 1.1626e-01, 1.3070e-01,  ..., 5.5235e-01,\n",
       "           2.6313e-01, 9.7139e-01],\n",
       "          [7.3066e-01, 7.4292e-01, 5.1741e-01,  ..., 5.3151e-01,\n",
       "           5.2741e-01, 1.0450e-01]],\n",
       "\n",
       "         [[4.0381e-01, 7.6018e-01, 2.1462e-01,  ..., 4.5228e-01,\n",
       "           2.4294e-01, 3.9286e-01],\n",
       "          [2.7053e-01, 1.2944e-01, 3.1652e-03,  ..., 4.0981e-01,\n",
       "           7.4236e-01, 5.2020e-01],\n",
       "          [5.6074e-01, 6.2876e-01, 2.4623e-01,  ..., 5.3776e-01,\n",
       "           5.2007e-01, 2.7093e-01],\n",
       "          ...,\n",
       "          [4.3888e-01, 5.1852e-01, 8.4926e-01,  ..., 6.4398e-01,\n",
       "           4.6582e-01, 4.0938e-01],\n",
       "          [9.8544e-02, 2.3828e-01, 2.6994e-01,  ..., 5.5404e-02,\n",
       "           9.1554e-01, 9.0363e-01],\n",
       "          [2.5403e-01, 3.5454e-01, 5.9448e-01,  ..., 5.8996e-01,\n",
       "           6.7191e-01, 1.4790e-01]],\n",
       "\n",
       "         [[1.0312e-01, 5.1044e-01, 2.1358e-01,  ..., 8.8862e-01,\n",
       "           4.1466e-02, 4.8536e-01],\n",
       "          [7.7056e-01, 8.9046e-01, 8.6168e-01,  ..., 4.9452e-01,\n",
       "           5.9492e-01, 1.8180e-01],\n",
       "          [7.6989e-01, 3.2459e-01, 6.2123e-01,  ..., 9.4983e-01,\n",
       "           9.9841e-01, 4.8942e-01],\n",
       "          ...,\n",
       "          [4.7664e-01, 7.2648e-01, 2.6821e-01,  ..., 8.9210e-01,\n",
       "           7.7809e-01, 3.4747e-02],\n",
       "          [7.8020e-01, 4.0751e-01, 2.6626e-01,  ..., 5.5307e-01,\n",
       "           6.8770e-01, 9.0266e-01],\n",
       "          [5.4303e-01, 3.6781e-01, 6.1901e-01,  ..., 1.0232e-01,\n",
       "           2.6726e-01, 8.3784e-02]]]])"
      ]
     },
     "execution_count": 39,
     "metadata": {},
     "output_type": "execute_result"
    }
   ],
   "source": [
    "a"
   ]
  },
  {
   "cell_type": "code",
   "execution_count": 40,
   "metadata": {
    "uuid": "c8f98465-9a9e-4b69-b681-860a7a1a745e"
   },
   "outputs": [
    {
     "data": {
      "text/plain": [
       "torch.Size([2, 3, 28, 28])"
      ]
     },
     "execution_count": 40,
     "metadata": {},
     "output_type": "execute_result"
    }
   ],
   "source": [
    "a.shape"
   ]
  },
  {
   "cell_type": "code",
   "execution_count": 41,
   "metadata": {
    "uuid": "aec20bb4-9a20-4437-9067-f4e7a05ae849"
   },
   "outputs": [
    {
     "data": {
      "text/plain": [
       "torch.Size([2, 3, 28, 28])"
      ]
     },
     "execution_count": 41,
     "metadata": {},
     "output_type": "execute_result"
    }
   ],
   "source": [
    "a.size()"
   ]
  },
  {
   "cell_type": "code",
   "execution_count": 42,
   "metadata": {
    "uuid": "03fe04d5-e768-406d-b990-5ee948fa02c7"
   },
   "outputs": [
    {
     "data": {
      "text/plain": [
       "4"
      ]
     },
     "execution_count": 42,
     "metadata": {},
     "output_type": "execute_result"
    }
   ],
   "source": [
    "a.dim()"
   ]
  },
  {
   "cell_type": "code",
   "execution_count": 43,
   "metadata": {
    "uuid": "10b12320-a361-481b-b886-7a1887c84c11"
   },
   "outputs": [
    {
     "data": {
      "text/plain": [
       "4704"
      ]
     },
     "execution_count": 43,
     "metadata": {},
     "output_type": "execute_result"
    }
   ],
   "source": [
    "a.numel() #2*3*28*28，全部元素个数,num of element"
   ]
  },
  {
   "cell_type": "markdown",
   "metadata": {
    "cellType": "markdown",
    "uuid": "807d15d1-f9f9-4e6e-b7bb-42e96db5aca5"
   },
   "source": [
    "# 2.创建Tensor"
   ]
  },
  {
   "cell_type": "code",
   "execution_count": 45,
   "metadata": {
    "uuid": "5917b7ea-3563-4c7f-976d-23909277a097"
   },
   "outputs": [
    {
     "data": {
      "text/plain": [
       "tensor([1.0000, 2.3000], dtype=torch.float64)"
      ]
     },
     "execution_count": 45,
     "metadata": {},
     "output_type": "execute_result"
    }
   ],
   "source": [
    "## 方法一：import from numpy \n",
    "a = np.array([1.,2.3])\n",
    "torch.from_numpy(a)"
   ]
  },
  {
   "cell_type": "code",
   "execution_count": 47,
   "metadata": {
    "uuid": "ab4764f9-3628-424d-8b90-4765ba118368"
   },
   "outputs": [
    {
     "data": {
      "text/plain": [
       "tensor([[1., 1.],\n",
       "        [1., 1.]], dtype=torch.float64)"
      ]
     },
     "execution_count": 47,
     "metadata": {},
     "output_type": "execute_result"
    }
   ],
   "source": [
    "a = np.ones([2,2])\n",
    "torch.from_numpy(a)"
   ]
  },
  {
   "cell_type": "code",
   "execution_count": 48,
   "metadata": {
    "uuid": "d7ef0267-ec54-4619-a2b7-ffd80c9ad205"
   },
   "outputs": [
    {
     "data": {
      "text/plain": [
       "tensor([2.0000, 3.4000])"
      ]
     },
     "execution_count": 48,
     "metadata": {},
     "output_type": "execute_result"
    }
   ],
   "source": [
    "# 方法二：import from list\n",
    "torch.tensor([2.,3.4])#小写的tensor接收的是实际的数据，大写的Tensor接收的是数据的维度"
   ]
  },
  {
   "cell_type": "code",
   "execution_count": 49,
   "metadata": {
    "uuid": "43ed57b1-7a3f-4655-9361-079e186177a7"
   },
   "outputs": [
    {
     "data": {
      "text/plain": [
       "tensor([[0., 0., 0.],\n",
       "        [0., 0., 0.]])"
      ]
     },
     "execution_count": 49,
     "metadata": {},
     "output_type": "execute_result"
    }
   ],
   "source": [
    "torch.FloatTensor(2,3)"
   ]
  },
  {
   "cell_type": "code",
   "execution_count": 51,
   "metadata": {
    "uuid": "b6be45dd-93f2-4364-ac34-81f72d9b59f6"
   },
   "outputs": [
    {
     "data": {
      "text/plain": [
       "tensor([[0., 0.]])"
      ]
     },
     "execution_count": 51,
     "metadata": {},
     "output_type": "execute_result"
    }
   ],
   "source": [
    "# 方法三：未初始化的方法（作为容器，要用其他类型把数据覆盖掉，数据可能非常大或者非常小）\n",
    "torch.empty(1,2)"
   ]
  },
  {
   "cell_type": "code",
   "execution_count": 53,
   "metadata": {
    "uuid": "910b97a5-3308-47e2-9bc0-a78895721ea2"
   },
   "outputs": [
    {
     "data": {
      "text/plain": [
       "tensor([[[[ 0.0000e+00,  0.0000e+00,  6.5559e-10,  6.6762e-07],\n",
       "          [ 4.1260e-08,  5.3484e+22,  4.2423e-08,  3.4005e-06],\n",
       "          [ 2.6854e-06,  6.7445e-10,  3.3425e+21,  2.0975e-07],\n",
       "          [ 6.6453e-07,  2.6100e+20,  2.6081e-09,  1.6994e-04]],\n",
       "\n",
       "         [[ 1.3458e+22,  1.6996e-04,  6.2918e-43,  0.0000e+00],\n",
       "          [-8.0827e+25,  4.5797e-41,  4.7487e+00,  3.0740e-41],\n",
       "          [ 0.0000e+00,  0.0000e+00,  0.0000e+00,  0.0000e+00],\n",
       "          [ 0.0000e+00,  3.0739e-41,  7.2646e+22,  7.2250e+28]],\n",
       "\n",
       "         [[ 2.5226e-18,  2.4283e-18,  2.6302e+20,  6.1949e-04],\n",
       "          [ 1.0256e-08,  4.2004e-05,  3.0613e+12,  6.9372e-07],\n",
       "          [ 1.0683e-05,  1.6803e-04,  1.2611e+16,  1.2849e+31],\n",
       "          [ 1.8395e+25,  6.1963e-04,  8.3753e-10,  4.3246e-05]]]])"
      ]
     },
     "execution_count": 53,
     "metadata": {},
     "output_type": "execute_result"
    }
   ],
   "source": [
    "torch.FloatTensor(1,3,4,4)"
   ]
  },
  {
   "cell_type": "markdown",
   "metadata": {
    "cellType": "markdown",
    "uuid": "c2f02fe3-0c8a-48d1-b63c-593e9eeb4f7f"
   },
   "source": [
    "## 随机初始化（rand[0,1]均匀分布,rand_like(tensor)把tensor.size()赋进去再随机生成,randint[min,max）)"
   ]
  },
  {
   "cell_type": "code",
   "execution_count": 55,
   "metadata": {
    "uuid": "9fbd162c-21a7-4726-8212-87e5dcd9a80b"
   },
   "outputs": [],
   "source": [
    "a = torch.rand(2,2)"
   ]
  },
  {
   "cell_type": "code",
   "execution_count": 57,
   "metadata": {
    "uuid": "b57f6a1c-9baa-4094-9ca5-aa1ade8bc3af"
   },
   "outputs": [
    {
     "data": {
      "text/plain": [
       "tensor([[0.3186, 0.5089],\n",
       "        [0.8489, 0.5746]])"
      ]
     },
     "execution_count": 57,
     "metadata": {},
     "output_type": "execute_result"
    }
   ],
   "source": [
    "b = torch.rand_like(a)\n",
    "b"
   ]
  },
  {
   "cell_type": "code",
   "execution_count": 58,
   "metadata": {
    "uuid": "0d8d812a-593e-471f-b77c-a7840fc19d91"
   },
   "outputs": [],
   "source": [
    "c = torch.randint(0,10,[2,2])#第一个参数是最小值，第二个参数是最大值，第三个参数是shape也就是list类型"
   ]
  },
  {
   "cell_type": "code",
   "execution_count": 59,
   "metadata": {
    "uuid": "c9b617b0-10ec-4484-b08c-8da62425e05f"
   },
   "outputs": [
    {
     "data": {
      "text/plain": [
       "tensor([[7, 6],\n",
       "        [4, 4]])"
      ]
     },
     "execution_count": 59,
     "metadata": {},
     "output_type": "execute_result"
    }
   ],
   "source": [
    "c"
   ]
  },
  {
   "cell_type": "markdown",
   "metadata": {
    "cellType": "markdown",
    "uuid": "c16a5086-24ab-4306-b0a9-d5f9d14c7d12"
   },
   "source": [
    "## 正态分布(randn[mean = 0,std = 1],自定义均值和方差torch.normal(mean= ,std = ))"
   ]
  },
  {
   "cell_type": "code",
   "execution_count": 62,
   "metadata": {
    "uuid": "156c654c-251a-45e1-85aa-3edf312c11e7"
   },
   "outputs": [
    {
     "data": {
      "text/plain": [
       "tensor([-0.6785, -0.4928,  0.5218, -1.4015,  0.1572,  0.1674,  0.0416, -0.2004,\n",
       "        -0.5279, -0.0224])"
      ]
     },
     "execution_count": 62,
     "metadata": {},
     "output_type": "execute_result"
    }
   ],
   "source": [
    "torch.normal(mean = torch.full([10],0),std = torch.arange(1,0,-0.1))#然后可以再自己重新reshape"
   ]
  },
  {
   "cell_type": "markdown",
   "metadata": {
    "cellType": "markdown",
    "uuid": "c9e63121-441e-476c-83d8-a3127dccb27e"
   },
   "source": [
    "## 其他\n",
    "* torch.full\n",
    "* torch.arange\n",
    "* torch.linspace\n",
    "* torch.logspace\n",
    "** linspace和logspace都是等分的api，左闭右闭，log返回的是10的n次方 **\n",
    "* torch.randperm"
   ]
  },
  {
   "cell_type": "code",
   "execution_count": 63,
   "metadata": {
    "uuid": "9fdebb23-3895-4a72-91bc-667da5b00f53"
   },
   "outputs": [
    {
     "data": {
      "text/plain": [
       "tensor(7.)"
      ]
     },
     "execution_count": 63,
     "metadata": {},
     "output_type": "execute_result"
    }
   ],
   "source": [
    "torch.full([],7)"
   ]
  },
  {
   "cell_type": "code",
   "execution_count": 64,
   "metadata": {
    "uuid": "05ed5853-4018-4931-ad64-c66b65303a4c"
   },
   "outputs": [
    {
     "data": {
      "text/plain": [
       "tensor([7.])"
      ]
     },
     "execution_count": 64,
     "metadata": {},
     "output_type": "execute_result"
    }
   ],
   "source": [
    "torch.full([1],7)"
   ]
  },
  {
   "cell_type": "code",
   "execution_count": 65,
   "metadata": {
    "uuid": "9069d448-f575-4c3c-95f1-b1f5a99c7d32"
   },
   "outputs": [
    {
     "data": {
      "text/plain": [
       "tensor([[7., 7.],\n",
       "        [7., 7.]])"
      ]
     },
     "execution_count": 65,
     "metadata": {},
     "output_type": "execute_result"
    }
   ],
   "source": [
    "torch.full([2,2],7)"
   ]
  },
  {
   "cell_type": "code",
   "execution_count": 66,
   "metadata": {
    "uuid": "352a8def-4907-4691-a2c1-24379df8ce68"
   },
   "outputs": [
    {
     "data": {
      "text/plain": [
       "tensor([[[7., 7., 7., 7.],\n",
       "         [7., 7., 7., 7.],\n",
       "         [7., 7., 7., 7.]],\n",
       "\n",
       "        [[7., 7., 7., 7.],\n",
       "         [7., 7., 7., 7.],\n",
       "         [7., 7., 7., 7.]]])"
      ]
     },
     "execution_count": 66,
     "metadata": {},
     "output_type": "execute_result"
    }
   ],
   "source": [
    "torch.full([2,3,4],7)"
   ]
  },
  {
   "cell_type": "code",
   "execution_count": 68,
   "metadata": {
    "uuid": "e5f5d13a-3ea1-42fe-8ced-189585428431"
   },
   "outputs": [
    {
     "data": {
      "text/plain": [
       "tensor([0, 2, 4, 6, 8])"
      ]
     },
     "execution_count": 68,
     "metadata": {},
     "output_type": "execute_result"
    }
   ],
   "source": [
    "torch.arange(0,10,2)#生成 [0，n-1）的等差数列，steps = 2,左闭右开"
   ]
  },
  {
   "cell_type": "code",
   "execution_count": 70,
   "metadata": {
    "uuid": "10a9ad3c-8665-479d-aa69-97bab1cd76f5"
   },
   "outputs": [
    {
     "data": {
      "text/plain": [
       "tensor([ 0.0000,  0.8333,  1.6667,  2.5000,  3.3333,  4.1667,  5.0000,  5.8333,\n",
       "         6.6667,  7.5000,  8.3333,  9.1667, 10.0000])"
      ]
     },
     "execution_count": 70,
     "metadata": {},
     "output_type": "execute_result"
    }
   ],
   "source": [
    "torch.linspace(0,10,steps = 13)#这里的steps是等分的数量"
   ]
  },
  {
   "cell_type": "code",
   "execution_count": 71,
   "metadata": {
    "uuid": "e9b5f7f7-1830-4f5c-9254-f425456800d6"
   },
   "outputs": [
    {
     "data": {
      "text/plain": [
       "tensor([1.0000e+00, 6.8129e+00, 4.6416e+01, 3.1623e+02, 2.1544e+03, 1.4678e+04,\n",
       "        1.0000e+05, 6.8129e+05, 4.6416e+06, 3.1623e+07, 2.1544e+08, 1.4678e+09,\n",
       "        1.0000e+10])"
      ]
     },
     "execution_count": 71,
     "metadata": {},
     "output_type": "execute_result"
    }
   ],
   "source": [
    "torch.logspace(0,10,steps = 13)"
   ]
  },
  {
   "cell_type": "markdown",
   "metadata": {
    "cellType": "markdown",
    "uuid": "dc0341d9-a8d2-492a-8563-8cd7510167c4"
   },
   "source": [
    "## 全0全1对角为1即为torch.ones  torch.zeros  torch.eye"
   ]
  },
  {
   "cell_type": "code",
   "execution_count": 73,
   "metadata": {
    "uuid": "26d6f971-9118-45c5-b4fe-13584939f898"
   },
   "outputs": [
    {
     "data": {
      "text/plain": [
       "tensor([[1., 1.],\n",
       "        [1., 1.]])"
      ]
     },
     "execution_count": 73,
     "metadata": {},
     "output_type": "execute_result"
    }
   ],
   "source": [
    "torch.ones(2,2)"
   ]
  },
  {
   "cell_type": "code",
   "execution_count": 74,
   "metadata": {
    "uuid": "fbcc2392-d771-47b4-913c-1d6f8af464bb"
   },
   "outputs": [
    {
     "data": {
      "text/plain": [
       "tensor([[0., 0., 0.],\n",
       "        [0., 0., 0.],\n",
       "        [0., 0., 0.]])"
      ]
     },
     "execution_count": 74,
     "metadata": {},
     "output_type": "execute_result"
    }
   ],
   "source": [
    "torch.zeros(3,3)"
   ]
  },
  {
   "cell_type": "code",
   "execution_count": 75,
   "metadata": {
    "uuid": "612d78f6-38b8-4114-a516-23d34e077759"
   },
   "outputs": [
    {
     "data": {
      "text/plain": [
       "tensor([[1., 0., 0.],\n",
       "        [0., 1., 0.],\n",
       "        [0., 0., 1.]])"
      ]
     },
     "execution_count": 75,
     "metadata": {},
     "output_type": "execute_result"
    }
   ],
   "source": [
    "torch.eye(3)"
   ]
  },
  {
   "cell_type": "markdown",
   "metadata": {
    "cellType": "markdown",
    "uuid": "63be64c0-04a1-4bac-978e-0a2160831917"
   },
   "source": [
    "## torch.randperm生成一个随机打散的索引"
   ]
  },
  {
   "cell_type": "code",
   "execution_count": 76,
   "metadata": {
    "uuid": "e3e7145d-f81e-4339-9c0b-821becb91e48"
   },
   "outputs": [
    {
     "data": {
      "text/plain": [
       "tensor([8, 4, 2, 3, 7, 1, 0, 5, 9, 6])"
      ]
     },
     "execution_count": 76,
     "metadata": {},
     "output_type": "execute_result"
    }
   ],
   "source": [
    "torch.randperm(10)"
   ]
  },
  {
   "cell_type": "code",
   "execution_count": 77,
   "metadata": {
    "uuid": "ab414ea7-0182-4461-8035-b825ce0d17ea"
   },
   "outputs": [],
   "source": [
    "a = torch.rand(3,3)\n",
    "b = torch.rand(3,3)"
   ]
  },
  {
   "cell_type": "code",
   "execution_count": 78,
   "metadata": {
    "uuid": "4ad3acd9-f1e1-4638-b84d-003fae74f531"
   },
   "outputs": [
    {
     "name": "stdout",
     "output_type": "stream",
     "text": [
      "tensor([[0.9363, 0.6562, 0.4548],\n",
      "        [0.2122, 0.1628, 0.3821],\n",
      "        [0.9045, 0.1629, 0.3243]])\n",
      "tensor([[0.0313, 0.3548, 0.4061],\n",
      "        [0.6452, 0.2382, 0.4570],\n",
      "        [0.9579, 0.0612, 0.0718]])\n"
     ]
    }
   ],
   "source": [
    "print(a)\n",
    "print(b)"
   ]
  },
  {
   "cell_type": "code",
   "execution_count": 82,
   "metadata": {
    "uuid": "8e6d95f8-c18b-4d57-8c03-0324f7a9a94a"
   },
   "outputs": [],
   "source": [
    "idx = torch.randperm(3)"
   ]
  },
  {
   "cell_type": "code",
   "execution_count": 83,
   "metadata": {
    "uuid": "1c67a781-ad8b-4742-9be8-a78a560ad919"
   },
   "outputs": [
    {
     "data": {
      "text/plain": [
       "tensor([[0.9045, 0.1629, 0.3243],\n",
       "        [0.2122, 0.1628, 0.3821],\n",
       "        [0.9363, 0.6562, 0.4548]])"
      ]
     },
     "execution_count": 83,
     "metadata": {},
     "output_type": "execute_result"
    }
   ],
   "source": [
    "a[idx]"
   ]
  },
  {
   "cell_type": "code",
   "execution_count": 84,
   "metadata": {
    "uuid": "5e233086-60dc-43d0-a141-41dd8258c5d1"
   },
   "outputs": [
    {
     "data": {
      "text/plain": [
       "tensor([[0.9579, 0.0612, 0.0718],\n",
       "        [0.6452, 0.2382, 0.4570],\n",
       "        [0.0313, 0.3548, 0.4061]])"
      ]
     },
     "execution_count": 84,
     "metadata": {},
     "output_type": "execute_result"
    }
   ],
   "source": [
    "b[idx]"
   ]
  },
  {
   "cell_type": "markdown",
   "metadata": {
    "cellType": "markdown",
    "uuid": "eaef20a5-3b8c-44d9-9bef-f6a9d53ab5aa"
   },
   "source": [
    "# 3.索引和切片"
   ]
  },
  {
   "cell_type": "markdown",
   "metadata": {
    "cellType": "markdown",
    "uuid": "7bac21d8-2cba-4be4-bf67-cc0ce00480bf"
   },
   "source": [
    "## Indexing"
   ]
  },
  {
   "cell_type": "code",
   "execution_count": 87,
   "metadata": {
    "uuid": "b5b5b101-cd2b-4f37-b7a8-7d11f4317db5"
   },
   "outputs": [],
   "source": [
    "a = torch.rand(4,3,28,28)#4张图片3通道高宽28*28"
   ]
  },
  {
   "cell_type": "code",
   "execution_count": 88,
   "metadata": {
    "uuid": "16c4bd1d-d3f2-4264-955c-25b0ea4f93c4"
   },
   "outputs": [
    {
     "data": {
      "text/plain": [
       "torch.Size([3, 28, 28])"
      ]
     },
     "execution_count": 88,
     "metadata": {},
     "output_type": "execute_result"
    }
   ],
   "source": [
    "a[0].shape#取第一章图片"
   ]
  },
  {
   "cell_type": "code",
   "execution_count": 90,
   "metadata": {
    "uuid": "10884d3e-662d-484f-bece-fab397562a44"
   },
   "outputs": [
    {
     "data": {
      "text/plain": [
       "torch.Size([28, 28])"
      ]
     },
     "execution_count": 90,
     "metadata": {},
     "output_type": "execute_result"
    }
   ],
   "source": [
    "a[0,0].shape#取第一章图片的第0个通道上的像素点"
   ]
  },
  {
   "cell_type": "code",
   "execution_count": 91,
   "metadata": {
    "uuid": "d8d2e2b8-fb79-43f3-88ca-efd62590d7b4"
   },
   "outputs": [
    {
     "data": {
      "text/plain": [
       "tensor(0.6755)"
      ]
     },
     "execution_count": 91,
     "metadata": {},
     "output_type": "execute_result"
    }
   ],
   "source": [
    "a[0,0,2,4]#取第0张图片第0个通道第三行第五列的像素点"
   ]
  },
  {
   "cell_type": "markdown",
   "metadata": {
    "cellType": "markdown",
    "uuid": "1f6dd540-7f98-48dc-b260-4dcc1d97172f"
   },
   "source": [
    "## SELECT first/last N"
   ]
  },
  {
   "cell_type": "code",
   "execution_count": 93,
   "metadata": {
    "uuid": "fa16e4a7-ce5e-45ca-84f4-1bd24d4e4380"
   },
   "outputs": [
    {
     "data": {
      "text/plain": [
       "torch.Size([4, 3, 28, 28])"
      ]
     },
     "execution_count": 93,
     "metadata": {},
     "output_type": "execute_result"
    }
   ],
   "source": [
    "a.shape"
   ]
  },
  {
   "cell_type": "code",
   "execution_count": 94,
   "metadata": {
    "uuid": "6882c014-9188-4902-9470-cb7c28836aaa"
   },
   "outputs": [
    {
     "data": {
      "text/plain": [
       "torch.Size([2, 3, 28, 28])"
      ]
     },
     "execution_count": 94,
     "metadata": {},
     "output_type": "execute_result"
    }
   ],
   "source": [
    "a[:2].shape#取0-1[2,3,28,28]"
   ]
  },
  {
   "cell_type": "code",
   "execution_count": 96,
   "metadata": {
    "uuid": "ffc12698-95f0-448a-b6b2-f1e5672d7e03"
   },
   "outputs": [
    {
     "data": {
      "text/plain": [
       "torch.Size([2, 1, 28, 28])"
      ]
     },
     "execution_count": 96,
     "metadata": {},
     "output_type": "execute_result"
    }
   ],
   "source": [
    "a[:2,:1,:,:].shape#取第一张和第二章图片的第0个通道【2,1,28,28】    ——》2（2不取）  -》1（1不取）"
   ]
  },
  {
   "cell_type": "code",
   "execution_count": 98,
   "metadata": {
    "uuid": "9cce8c05-046e-47dc-8993-fa387fc83169"
   },
   "outputs": [
    {
     "data": {
      "text/plain": [
       "torch.Size([2, 1, 28, 28])"
      ]
     },
     "execution_count": 98,
     "metadata": {},
     "output_type": "execute_result"
    }
   ],
   "source": [
    "a[:2,-1:,:,:].shape  #正着索引是[0,1,2],倒着索引是[-3,-2,-1]取第一站和第二章图片的最后一个通道[2,1,28,28]"
   ]
  },
  {
   "cell_type": "code",
   "execution_count": 100,
   "metadata": {
    "uuid": "8f1f7b44-d298-4465-8499-9cecce502376"
   },
   "outputs": [
    {
     "data": {
      "text/plain": [
       "torch.Size([2, 2, 28, 28])"
      ]
     },
     "execution_count": 100,
     "metadata": {},
     "output_type": "execute_result"
    }
   ],
   "source": [
    "a[:2,-2:,:,:].shape"
   ]
  },
  {
   "cell_type": "markdown",
   "metadata": {
    "cellType": "markdown",
    "uuid": "8adca9ae-e5e3-4ba7-a3db-68194312730c"
   },
   "source": [
    "## select steps隔行采样"
   ]
  },
  {
   "cell_type": "code",
   "execution_count": 102,
   "metadata": {
    "uuid": "702ddd91-10f7-45d0-b1d2-23a8c3bf3774"
   },
   "outputs": [
    {
     "data": {
      "text/plain": [
       "torch.Size([4, 3, 14, 14])"
      ]
     },
     "execution_count": 102,
     "metadata": {},
     "output_type": "execute_result"
    }
   ],
   "source": [
    "a[:,:,0:28:2,0:28:2].shape"
   ]
  },
  {
   "cell_type": "code",
   "execution_count": 104,
   "metadata": {
    "uuid": "08db601b-b0da-4c44-a3b1-2c55a588afb7"
   },
   "outputs": [
    {
     "data": {
      "text/plain": [
       "torch.Size([4, 3, 14, 14])"
      ]
     },
     "execution_count": 104,
     "metadata": {},
     "output_type": "execute_result"
    }
   ],
   "source": [
    "a[:,:,::2,::2].shape"
   ]
  },
  {
   "cell_type": "markdown",
   "metadata": {
    "cellType": "markdown",
    "uuid": "029df7ac-14a1-4300-a41d-6909ae64ae41"
   },
   "source": [
    "## 使用特定的索引index_select"
   ]
  },
  {
   "cell_type": "code",
   "execution_count": 105,
   "metadata": {
    "uuid": "fabf0bb8-720a-4ed2-bb07-a79486a6432d"
   },
   "outputs": [
    {
     "name": "stdout",
     "output_type": "stream",
     "text": [
      "torch.Size([4, 3, 8, 28])\n"
     ]
    }
   ],
   "source": [
    "print(a.index_select(2,torch.arange(8)).shape)# 第一个参数是dimension，第二个维度是索引但是必须是tensor类型"
   ]
  },
  {
   "cell_type": "markdown",
   "metadata": {
    "cellType": "markdown",
    "uuid": "a2866e8d-9dc3-44cc-a1d3-e29bf25d5359"
   },
   "source": [
    "## 使用掩码索引masked_select  把数据打平以后取出大于0.5的值\n",
    "## take函数：在原来的Tensor的shape基础上打平，然后在打平后的Tensor上进行索引"
   ]
  },
  {
   "cell_type": "code",
   "execution_count": 109,
   "metadata": {
    "uuid": "5e640f95-c5eb-40c1-8053-8b47d959ba5d"
   },
   "outputs": [
    {
     "data": {
      "text/plain": [
       "tensor([[-1.0461,  1.4568, -0.1260, -1.5518],\n",
       "        [ 0.7922, -0.1101,  0.4217, -1.8575],\n",
       "        [ 0.3839, -0.5328, -0.2686, -0.9149]])"
      ]
     },
     "execution_count": 109,
     "metadata": {},
     "output_type": "execute_result"
    }
   ],
   "source": [
    "x = torch.randn(3,4)\n",
    "x"
   ]
  },
  {
   "cell_type": "code",
   "execution_count": 112,
   "metadata": {
    "uuid": "177509e1-6997-4944-8982-e54564be0f9b"
   },
   "outputs": [
    {
     "data": {
      "text/plain": [
       "tensor([[False,  True, False, False],\n",
       "        [ True, False, False, False],\n",
       "        [False, False, False, False]])"
      ]
     },
     "execution_count": 112,
     "metadata": {},
     "output_type": "execute_result"
    }
   ],
   "source": [
    "mask = x.ge(0.5)  #greater equal:》=\n",
    "mask"
   ]
  },
  {
   "cell_type": "code",
   "execution_count": 113,
   "metadata": {
    "uuid": "44b67e30-6a9e-4f60-bd2b-ccda8bec1200"
   },
   "outputs": [
    {
     "data": {
      "text/plain": [
       "tensor([1.4568, 0.7922])"
      ]
     },
     "execution_count": 113,
     "metadata": {},
     "output_type": "execute_result"
    }
   ],
   "source": [
    "torch.masked_select(x,mask)"
   ]
  },
  {
   "cell_type": "code",
   "execution_count": 115,
   "metadata": {
    "uuid": "36f64bd9-f087-4b65-8779-30f3bf4318bb"
   },
   "outputs": [
    {
     "data": {
      "text/plain": [
       "tensor([2, 3, 4, 4])"
      ]
     },
     "execution_count": 115,
     "metadata": {},
     "output_type": "execute_result"
    }
   ],
   "source": [
    "src = torch.tensor([[2,3,4],[3,4,4]])\n",
    "torch.take(src,torch.tensor([0,1,2,4]))"
   ]
  },
  {
   "cell_type": "markdown",
   "metadata": {
    "cellType": "markdown",
    "uuid": "f64f4c1d-e452-47f5-b712-caaf39408b56"
   },
   "source": [
    "# 4.维度变换\n",
    "* reshape/view\n",
    "* Squeeze/unsqueeze\n",
    "* transpose/T/permute\n",
    "* expand/repeat"
   ]
  },
  {
   "cell_type": "code",
   "execution_count": 116,
   "metadata": {
    "uuid": "daf63806-33c1-4d71-bc89-b45f7b73900c"
   },
   "outputs": [],
   "source": [
    "a = torch.rand(4,1,28,28)"
   ]
  },
  {
   "cell_type": "code",
   "execution_count": 117,
   "metadata": {
    "uuid": "48644ab9-831a-4bbb-92d8-aca343cda052"
   },
   "outputs": [
    {
     "data": {
      "text/plain": [
       "torch.Size([4, 1, 28, 28])"
      ]
     },
     "execution_count": 117,
     "metadata": {},
     "output_type": "execute_result"
    }
   ],
   "source": [
    "a.shape"
   ]
  },
  {
   "cell_type": "code",
   "execution_count": 120,
   "metadata": {
    "uuid": "7cdf664e-3d6b-4613-a49b-bb01072030b8"
   },
   "outputs": [],
   "source": [
    "b = a.view(4,28*28)"
   ]
  },
  {
   "cell_type": "code",
   "execution_count": 121,
   "metadata": {
    "uuid": "fc50c4b8-8991-4179-953c-2932f831f292"
   },
   "outputs": [
    {
     "data": {
      "text/plain": [
       "torch.Size([4, 784])"
      ]
     },
     "execution_count": 121,
     "metadata": {},
     "output_type": "execute_result"
    }
   ],
   "source": [
    "b.shape"
   ]
  },
  {
   "cell_type": "code",
   "execution_count": 122,
   "metadata": {
    "uuid": "f171e52b-afbc-4ca3-9f5b-a4929e3c26e0"
   },
   "outputs": [
    {
     "data": {
      "text/plain": [
       "torch.Size([4, 784])"
      ]
     },
     "execution_count": 122,
     "metadata": {},
     "output_type": "execute_result"
    }
   ],
   "source": [
    "a.reshape(4,28*28).shape"
   ]
  },
  {
   "cell_type": "markdown",
   "metadata": {
    "cellType": "markdown",
    "uuid": "2002762d-ba51-4b32-a781-fb5ef1e6e6ef"
   },
   "source": [
    "## unsqueeze:增加一个维度但是没有增加数据[-a.dim()-1,a.dim+1)"
   ]
  },
  {
   "cell_type": "code",
   "execution_count": 123,
   "metadata": {
    "uuid": "79067782-9b63-4235-acc1-1e84fe5a3930"
   },
   "outputs": [
    {
     "data": {
      "text/plain": [
       "torch.Size([4, 1, 28, 28])"
      ]
     },
     "execution_count": 123,
     "metadata": {},
     "output_type": "execute_result"
    }
   ],
   "source": [
    "a.shape"
   ]
  },
  {
   "cell_type": "code",
   "execution_count": 124,
   "metadata": {
    "uuid": "fe0726bf-4db3-4e8e-8339-9ab083a9f858"
   },
   "outputs": [
    {
     "data": {
      "text/plain": [
       "torch.Size([1, 4, 1, 28, 28])"
      ]
     },
     "execution_count": 124,
     "metadata": {},
     "output_type": "execute_result"
    }
   ],
   "source": [
    "a.unsqueeze(0).shape"
   ]
  },
  {
   "cell_type": "code",
   "execution_count": 127,
   "metadata": {
    "uuid": "8c333662-0a85-46e1-be1e-3343c97325dc"
   },
   "outputs": [
    {
     "data": {
      "text/plain": [
       "torch.Size([4, 1, 28, 28, 1])"
      ]
     },
     "execution_count": 127,
     "metadata": {},
     "output_type": "execute_result"
    }
   ],
   "source": [
    "a.unsqueeze(4).shape"
   ]
  },
  {
   "cell_type": "code",
   "execution_count": 128,
   "metadata": {
    "uuid": "2feae97a-cc7a-4881-bc53-b1046284cf4a"
   },
   "outputs": [
    {
     "data": {
      "text/plain": [
       "torch.Size([4, 1, 28, 28, 1])"
      ]
     },
     "execution_count": 128,
     "metadata": {},
     "output_type": "execute_result"
    }
   ],
   "source": [
    "a.unsqueeze(-1).shape"
   ]
  },
  {
   "cell_type": "code",
   "execution_count": 129,
   "metadata": {
    "uuid": "934e92a4-5785-42eb-b296-29428f4a1d7e"
   },
   "outputs": [
    {
     "data": {
      "text/plain": [
       "torch.Size([4, 1, 1, 28, 28])"
      ]
     },
     "execution_count": 129,
     "metadata": {},
     "output_type": "execute_result"
    }
   ],
   "source": [
    "a.unsqueeze(-3).shape"
   ]
  },
  {
   "cell_type": "code",
   "execution_count": 130,
   "metadata": {
    "uuid": "7ca15e12-db7f-4962-b2ac-e7fcfd3b92c7"
   },
   "outputs": [],
   "source": [
    "# eg:bias维度广播后相加\n",
    "a = torch.rand(32) \n",
    "b = torch.rand(4,32,14,14)"
   ]
  },
  {
   "cell_type": "code",
   "execution_count": 131,
   "metadata": {
    "uuid": "07876552-9164-43a1-813f-12352108a1a9"
   },
   "outputs": [
    {
     "name": "stdout",
     "output_type": "stream",
     "text": [
      "torch.Size([32])\n",
      "torch.Size([4, 32, 14, 14])\n"
     ]
    }
   ],
   "source": [
    "print(a.shape)\n",
    "print(b.shape)"
   ]
  },
  {
   "cell_type": "code",
   "execution_count": 133,
   "metadata": {
    "uuid": "845d4659-6783-4b4a-ba7e-486ad21192dc"
   },
   "outputs": [
    {
     "data": {
      "text/plain": [
       "torch.Size([1, 32, 1, 1])"
      ]
     },
     "execution_count": 133,
     "metadata": {},
     "output_type": "execute_result"
    }
   ],
   "source": [
    "a.unsqueeze(0).unsqueeze(2).unsqueeze(3).shape"
   ]
  },
  {
   "cell_type": "markdown",
   "metadata": {
    "cellType": "markdown",
    "uuid": "6e92d4ba-9273-47ef-87b3-195a770c39ae"
   },
   "source": [
    "## squeeze不给参数就会size = 1的都挤压掉，给idx就是哪个维度就挤压哪个维度，如果size 不为1就不变"
   ]
  },
  {
   "cell_type": "code",
   "execution_count": 139,
   "metadata": {
    "uuid": "67b541ba-45e8-485f-9743-d4a7bbd1b3bf"
   },
   "outputs": [],
   "source": [
    "b = a.unsqueeze(0).unsqueeze(2).unsqueeze(3)"
   ]
  },
  {
   "cell_type": "code",
   "execution_count": 140,
   "metadata": {
    "uuid": "c24d165c-6e0b-4fdf-a8ea-57aac34e2bf7"
   },
   "outputs": [
    {
     "data": {
      "text/plain": [
       "torch.Size([1, 32, 1, 1])"
      ]
     },
     "execution_count": 140,
     "metadata": {},
     "output_type": "execute_result"
    }
   ],
   "source": [
    "b.shape"
   ]
  },
  {
   "cell_type": "code",
   "execution_count": 142,
   "metadata": {
    "uuid": "302f6a80-fbf4-40ba-aed6-491c4ec4e07b"
   },
   "outputs": [
    {
     "data": {
      "text/plain": [
       "torch.Size([32])"
      ]
     },
     "execution_count": 142,
     "metadata": {},
     "output_type": "execute_result"
    }
   ],
   "source": [
    "b.squeeze().shape"
   ]
  },
  {
   "cell_type": "code",
   "execution_count": 143,
   "metadata": {
    "uuid": "d98a5fe7-25bc-48e0-a8ec-ea555e855a30"
   },
   "outputs": [
    {
     "data": {
      "text/plain": [
       "torch.Size([1, 32, 1])"
      ]
     },
     "execution_count": 143,
     "metadata": {},
     "output_type": "execute_result"
    }
   ],
   "source": [
    "b.squeeze(-1).shape"
   ]
  },
  {
   "cell_type": "markdown",
   "metadata": {
    "cellType": "markdown",
    "uuid": "07e8545e-be8d-4453-a8ea-a5e1afef71f3"
   },
   "source": [
    "## Expand/Repeat\n",
    "* Expand:broadcasting\n",
    "* Repeat:memory copied"
   ]
  },
  {
   "cell_type": "markdown",
   "metadata": {
    "cellType": "markdown",
    "uuid": "a19c2d89-abdc-4ebf-b527-c60a8298625e"
   },
   "source": [
    "# Expand  首先维度一定是相同的，在某个维度上可以从1到n的扩张但是不为1就不可以扩张,如果是-1的话就代表此维度不变"
   ]
  },
  {
   "cell_type": "code",
   "execution_count": 145,
   "metadata": {
    "uuid": "8d6c6b82-6e24-408c-bb87-97c264d968de"
   },
   "outputs": [],
   "source": [
    "a = torch.rand(4,32,14,14)"
   ]
  },
  {
   "cell_type": "code",
   "execution_count": 146,
   "metadata": {
    "uuid": "79b6145a-78d8-4d0e-bb6b-5a440685ad31"
   },
   "outputs": [],
   "source": [
    "b = torch.rand(32)"
   ]
  },
  {
   "cell_type": "code",
   "execution_count": 147,
   "metadata": {
    "uuid": "f7a0c035-2dd3-4470-aec4-f0222b35a20f"
   },
   "outputs": [
    {
     "data": {
      "text/plain": [
       "torch.Size([32])"
      ]
     },
     "execution_count": 147,
     "metadata": {},
     "output_type": "execute_result"
    }
   ],
   "source": [
    "b.shape"
   ]
  },
  {
   "cell_type": "code",
   "execution_count": 149,
   "metadata": {
    "uuid": "4027f75d-3a69-4a0f-bb0f-8cc2b76985c4"
   },
   "outputs": [],
   "source": [
    "b = b.unsqueeze(0).unsqueeze(2).unsqueeze(3)"
   ]
  },
  {
   "cell_type": "code",
   "execution_count": 150,
   "metadata": {
    "uuid": "892b957f-63ff-451e-b01d-6134edd18659"
   },
   "outputs": [
    {
     "data": {
      "text/plain": [
       "torch.Size([1, 32, 1, 1])"
      ]
     },
     "execution_count": 150,
     "metadata": {},
     "output_type": "execute_result"
    }
   ],
   "source": [
    "b.shape"
   ]
  },
  {
   "cell_type": "code",
   "execution_count": 152,
   "metadata": {
    "uuid": "4901a51f-955d-4114-9da4-1f5e9eb83e12"
   },
   "outputs": [
    {
     "data": {
      "text/plain": [
       "torch.Size([4, 32, 14, 14])"
      ]
     },
     "execution_count": 152,
     "metadata": {},
     "output_type": "execute_result"
    }
   ],
   "source": [
    "b.expand(4,32,14,14).shape"
   ]
  },
  {
   "cell_type": "code",
   "execution_count": 154,
   "metadata": {
    "uuid": "ceaeb483-93ed-4607-aee6-9a729fc42911"
   },
   "outputs": [
    {
     "data": {
      "text/plain": [
       "torch.Size([1, 32, 14, 14])"
      ]
     },
     "execution_count": 154,
     "metadata": {},
     "output_type": "execute_result"
    }
   ],
   "source": [
    "b.expand(-1,-1,14,14).shape"
   ]
  },
  {
   "cell_type": "markdown",
   "metadata": {
    "cellType": "markdown",
    "uuid": "e30fd0cb-f0e2-4aef-a668-efdd9dad754b"
   },
   "source": [
    "## repeat就是每个维度上重复的次数"
   ]
  },
  {
   "cell_type": "code",
   "execution_count": 155,
   "metadata": {
    "uuid": "df6de260-e774-4e63-9df4-7bd69a8e09df"
   },
   "outputs": [
    {
     "data": {
      "text/plain": [
       "torch.Size([1, 32, 1, 1])"
      ]
     },
     "execution_count": 155,
     "metadata": {},
     "output_type": "execute_result"
    }
   ],
   "source": [
    "b.shape"
   ]
  },
  {
   "cell_type": "code",
   "execution_count": 156,
   "metadata": {
    "uuid": "e8a8809c-2aab-4d9a-bdfa-a5ed522fe50f"
   },
   "outputs": [
    {
     "data": {
      "text/plain": [
       "torch.Size([4, 1024, 1, 1])"
      ]
     },
     "execution_count": 156,
     "metadata": {},
     "output_type": "execute_result"
    }
   ],
   "source": [
    "b.repeat(4,32,1,1).shape"
   ]
  },
  {
   "cell_type": "code",
   "execution_count": 157,
   "metadata": {
    "uuid": "070ca76e-cd6a-40af-95b4-b58d152f9788"
   },
   "outputs": [
    {
     "data": {
      "text/plain": [
       "torch.Size([1, 32, 1, 1])"
      ]
     },
     "execution_count": 157,
     "metadata": {},
     "output_type": "execute_result"
    }
   ],
   "source": [
    "b.shape"
   ]
  },
  {
   "cell_type": "markdown",
   "metadata": {
    "cellType": "markdown",
    "uuid": "5d2ea82a-95cc-4f63-9363-17cf9c02e789"
   },
   "source": [
    "## .t()只能在2D的数据上使用"
   ]
  },
  {
   "cell_type": "code",
   "execution_count": 159,
   "metadata": {
    "uuid": "30250d76-2eea-4a85-8038-def785cb41dc"
   },
   "outputs": [],
   "source": [
    "a = torch.rand(3,2)"
   ]
  },
  {
   "cell_type": "code",
   "execution_count": 160,
   "metadata": {
    "uuid": "dc4c3eca-31b4-4e54-a845-10e9ed4a784e"
   },
   "outputs": [
    {
     "data": {
      "text/plain": [
       "tensor([[0.0731, 0.9879],\n",
       "        [0.1511, 0.5072],\n",
       "        [0.9930, 0.6120]])"
      ]
     },
     "execution_count": 160,
     "metadata": {},
     "output_type": "execute_result"
    }
   ],
   "source": [
    "a"
   ]
  },
  {
   "cell_type": "code",
   "execution_count": 161,
   "metadata": {
    "uuid": "0ad4e4a0-9753-4e25-9dcc-0fae81871321"
   },
   "outputs": [
    {
     "data": {
      "text/plain": [
       "tensor([[0.0731, 0.1511, 0.9930],\n",
       "        [0.9879, 0.5072, 0.6120]])"
      ]
     },
     "execution_count": 161,
     "metadata": {},
     "output_type": "execute_result"
    }
   ],
   "source": [
    "a.t()"
   ]
  },
  {
   "cell_type": "markdown",
   "metadata": {
    "cellType": "markdown",
    "uuid": "f683936b-85f4-48e1-8e99-259ea6a19918"
   },
   "source": [
    "## transpose()维度交换，contiguous()是把数据变成连续，只能两个维度"
   ]
  },
  {
   "cell_type": "code",
   "execution_count": 163,
   "metadata": {
    "uuid": "150e4af1-280e-4d74-afe9-6b4c23722a98"
   },
   "outputs": [],
   "source": [
    "a = torch.randn(4,3,28,28)"
   ]
  },
  {
   "cell_type": "code",
   "execution_count": 164,
   "metadata": {
    "uuid": "d2d7f6d4-17b5-4c9d-98a2-6452685b5193"
   },
   "outputs": [
    {
     "data": {
      "text/plain": [
       "torch.Size([4, 28, 28, 3])"
      ]
     },
     "execution_count": 164,
     "metadata": {},
     "output_type": "execute_result"
    }
   ],
   "source": [
    "# a:[b,c,h,w]\n",
    "a.transpose(1,3).shape #[b,w,h,c]"
   ]
  },
  {
   "cell_type": "code",
   "execution_count": 166,
   "metadata": {
    "uuid": "e4001db0-4210-4a05-91ad-7d751687cb9b"
   },
   "outputs": [
    {
     "ename": "RuntimeError",
     "evalue": "view size is not compatible with input tensor's size and stride (at least one dimension spans across two contiguous subspaces). Use .reshape(...) instead.",
     "traceback": [
      "\u001b[0;31m---------------------------------------------------------------------------\u001b[0m",
      "\u001b[0;31mRuntimeError\u001b[0m                              Traceback (most recent call last)",
      "\u001b[0;32m<ipython-input-166-3f2199d68331>\u001b[0m in \u001b[0;36m<module>\u001b[0;34m\u001b[0m\n\u001b[0;32m----> 1\u001b[0;31m \u001b[0ma\u001b[0m\u001b[0;34m.\u001b[0m\u001b[0mtranspose\u001b[0m\u001b[0;34m(\u001b[0m\u001b[0;36m1\u001b[0m\u001b[0;34m,\u001b[0m\u001b[0;36m3\u001b[0m\u001b[0;34m)\u001b[0m\u001b[0;34m.\u001b[0m\u001b[0mview\u001b[0m\u001b[0;34m(\u001b[0m\u001b[0;36m4\u001b[0m\u001b[0;34m,\u001b[0m\u001b[0;36m28\u001b[0m\u001b[0;34m*\u001b[0m\u001b[0;36m28\u001b[0m\u001b[0;34m*\u001b[0m\u001b[0;36m3\u001b[0m\u001b[0;34m)\u001b[0m\u001b[0;34m.\u001b[0m\u001b[0mview\u001b[0m\u001b[0;34m(\u001b[0m\u001b[0;36m4\u001b[0m\u001b[0;34m,\u001b[0m\u001b[0;36m3\u001b[0m\u001b[0;34m,\u001b[0m\u001b[0;36m28\u001b[0m\u001b[0;34m,\u001b[0m\u001b[0;36m28\u001b[0m\u001b[0;34m)\u001b[0m\u001b[0;34m.\u001b[0m\u001b[0mshape\u001b[0m\u001b[0;34m\u001b[0m\u001b[0m\n\u001b[0m",
      "\u001b[0;31mRuntimeError\u001b[0m: view size is not compatible with input tensor's size and stride (at least one dimension spans across two contiguous subspaces). Use .reshape(...) instead."
     ],
     "output_type": "error"
    }
   ],
   "source": [
    "a.transpose(1,3).view(4,28*28*3).view(4,3,28,28).shape"
   ]
  },
  {
   "cell_type": "code",
   "execution_count": 167,
   "metadata": {
    "uuid": "43f748ce-0e31-41bc-957a-006f61ada536"
   },
   "outputs": [
    {
     "data": {
      "text/plain": [
       "torch.Size([4, 3, 28, 28])"
      ]
     },
     "execution_count": 167,
     "metadata": {},
     "output_type": "execute_result"
    }
   ],
   "source": [
    "a.transpose(1,3).contiguous().view(4,28*28*3).view(4,3,28,28).shape"
   ]
  },
  {
   "cell_type": "code",
   "execution_count": 181,
   "metadata": {
    "uuid": "09a17148-cf76-4c7c-91bd-b513df7217eb"
   },
   "outputs": [],
   "source": [
    "a = torch.rand(4,3,2,2)"
   ]
  },
  {
   "cell_type": "code",
   "execution_count": 182,
   "metadata": {
    "uuid": "4cc486a0-241a-4cd2-8da4-94710aa5979f"
   },
   "outputs": [
    {
     "data": {
      "text/plain": [
       "tensor([[[[0.3557, 0.6806],\n",
       "          [0.0900, 0.0207]],\n",
       "\n",
       "         [[0.1401, 0.4575],\n",
       "          [0.2210, 0.8014]],\n",
       "\n",
       "         [[0.6919, 0.3722],\n",
       "          [0.0165, 0.7144]]],\n",
       "\n",
       "\n",
       "        [[[0.2015, 0.0646],\n",
       "          [0.2546, 0.0556]],\n",
       "\n",
       "         [[0.7257, 0.3902],\n",
       "          [0.9679, 0.7769]],\n",
       "\n",
       "         [[0.5042, 0.2042],\n",
       "          [0.4731, 0.8164]]],\n",
       "\n",
       "\n",
       "        [[[0.7392, 0.6723],\n",
       "          [0.1356, 0.0991]],\n",
       "\n",
       "         [[0.8852, 0.5821],\n",
       "          [0.0574, 0.4517]],\n",
       "\n",
       "         [[0.3623, 0.8477],\n",
       "          [0.8045, 0.0305]]],\n",
       "\n",
       "\n",
       "        [[[0.4684, 0.8605],\n",
       "          [0.4217, 0.7938]],\n",
       "\n",
       "         [[0.6087, 0.0547],\n",
       "          [0.8376, 0.2875]],\n",
       "\n",
       "         [[0.3410, 0.3454],\n",
       "          [0.2821, 0.4179]]]])"
      ]
     },
     "execution_count": 182,
     "metadata": {},
     "output_type": "execute_result"
    }
   ],
   "source": [
    "a"
   ]
  },
  {
   "cell_type": "code",
   "execution_count": 185,
   "metadata": {
    "uuid": "f1f7e1c1-7ca2-4a56-8026-3ead2f83cc82"
   },
   "outputs": [],
   "source": [
    "# [b,c,h,w]=[4,3,2,2]=>transpose[4,2,2,3]\n",
    "b = a.transpose(1,3).contiguous().view(4,2,2,3).transpose(1,3)"
   ]
  },
  {
   "cell_type": "code",
   "execution_count": 186,
   "metadata": {
    "uuid": "51bb1134-0434-4a51-b2e8-14fce7e04bab"
   },
   "outputs": [
    {
     "data": {
      "text/plain": [
       "tensor(True)"
      ]
     },
     "execution_count": 186,
     "metadata": {},
     "output_type": "execute_result"
    }
   ],
   "source": [
    "torch.all(torch.eq(a,b))"
   ]
  },
  {
   "cell_type": "markdown",
   "metadata": {
    "cellType": "markdown",
    "uuid": "a2f72fd0-a322-4f66-b447-e087d980ee6d"
   },
   "source": [
    "## permute可以多个维度进行交换"
   ]
  },
  {
   "cell_type": "code",
   "execution_count": 187,
   "metadata": {
    "uuid": "9f2ec6c4-44d4-4149-9a6e-81738f9fe2f6"
   },
   "outputs": [
    {
     "data": {
      "text/plain": [
       "torch.Size([4, 3, 2, 2])"
      ]
     },
     "execution_count": 187,
     "metadata": {},
     "output_type": "execute_result"
    }
   ],
   "source": [
    "a.shape"
   ]
  },
  {
   "cell_type": "code",
   "execution_count": 188,
   "metadata": {
    "uuid": "4d3b1b9a-9ddd-4a9a-87c2-372765505bad"
   },
   "outputs": [
    {
     "data": {
      "text/plain": [
       "tensor([[[[0.3557, 0.1401, 0.6919],\n",
       "          [0.6806, 0.4575, 0.3722]],\n",
       "\n",
       "         [[0.0900, 0.2210, 0.0165],\n",
       "          [0.0207, 0.8014, 0.7144]]],\n",
       "\n",
       "\n",
       "        [[[0.2015, 0.7257, 0.5042],\n",
       "          [0.0646, 0.3902, 0.2042]],\n",
       "\n",
       "         [[0.2546, 0.9679, 0.4731],\n",
       "          [0.0556, 0.7769, 0.8164]]],\n",
       "\n",
       "\n",
       "        [[[0.7392, 0.8852, 0.3623],\n",
       "          [0.6723, 0.5821, 0.8477]],\n",
       "\n",
       "         [[0.1356, 0.0574, 0.8045],\n",
       "          [0.0991, 0.4517, 0.0305]]],\n",
       "\n",
       "\n",
       "        [[[0.4684, 0.6087, 0.3410],\n",
       "          [0.8605, 0.0547, 0.3454]],\n",
       "\n",
       "         [[0.4217, 0.8376, 0.2821],\n",
       "          [0.7938, 0.2875, 0.4179]]]])"
      ]
     },
     "execution_count": 188,
     "metadata": {},
     "output_type": "execute_result"
    }
   ],
   "source": [
    "# [b,c,h,w]=>[b,h,w,c]\n",
    "a.permute(0,2,3,1)"
   ]
  },
  {
   "cell_type": "code",
   "execution_count": null,
   "metadata": {
    "uuid": "858db4fd-5dbb-4d2b-a334-9cdee988fe3b"
   },
   "outputs": [],
   "source": []
  }
 ],
 "metadata": {
  "kernelspec": {
   "display_name": "PyTorch",
   "language": "python",
   "name": "pytorch"
  },
  "language_info": {
   "codemirror_mode": {
    "name": "ipython",
    "version": 3
   },
   "file_extension": ".py",
   "mimetype": "text/x-python",
   "name": "python",
   "nbconvert_exporter": "python",
   "pygments_lexer": "ipython3",
   "version": "3.6.4"
  }
 },
 "nbformat": 4,
 "nbformat_minor": 2
}
