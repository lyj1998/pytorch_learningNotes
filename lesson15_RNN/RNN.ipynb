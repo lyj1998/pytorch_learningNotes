{
 "cells": [
  {
   "cell_type": "markdown",
   "metadata": {
    "cellType": "markdown",
    "uuid": "0ee77fab-4a2f-4395-9ed6-2897166bcfdc"
   },
   "source": [
    "# RNN"
   ]
  },
  {
   "cell_type": "markdown",
   "metadata": {
    "cellType": "markdown",
    "uuid": "54252267-73e5-49e5-a172-469b416543b9"
   },
   "source": [
    "# 1.词嵌入"
   ]
  },
  {
   "cell_type": "code",
   "execution_count": 3,
   "metadata": {
    "uuid": "0932f10c-8134-415b-94ac-33f52a5fa1d2"
   },
   "outputs": [],
   "source": [
    "import torch\n",
    "from torch import nn,optim\n",
    "from torch.nn import functional as F"
   ]
  },
  {
   "cell_type": "markdown",
   "metadata": {
    "cellType": "markdown",
    "uuid": "f3681610-fef7-45b4-95e0-7a438edc0a50"
   },
   "source": [
    "* nn.Embedding(num_embeddings,embedding_dim,padding_idx = None,max_norm = None,norm_type = 2.0,scale_grad_by_freq = False,sparse = False,_weight = None)"
   ]
  },
  {
   "cell_type": "markdown",
   "metadata": {
    "cellType": "markdown",
    "uuid": "92c93e55-b073-4fbf-997f-9ef749adf8df"
   },
   "source": [
    "# 参数：\n",
    "* num_embeddings(int):词典的尺寸大小\n",
    "* embedding_dim:嵌入向量的维度\n",
    "* padding_idx(int，可选):比如，输入长度为100，但是每次的句子长度不一样，后面就需要统一的数字填充，这里就是指定这个数字\n",
    "* max_norm(float,可选)：最大范数，如果嵌入向量的范数超过了这个界限，就要进行再归一化\n",
    "* norm_type(float,可选)：指定利用什么范数计算，默认为2范数"
   ]
  },
  {
   "cell_type": "code",
   "execution_count": 4,
   "metadata": {
    "uuid": "9bbd0e75-3c0c-4133-8792-9dd13e6d069a"
   },
   "outputs": [],
   "source": [
    "word_to_idx = {'hello':0,'world':1}\n",
    "# 得到目标单词索引\n",
    "lookup_tensor = torch.tensor([word_to_idx['hello']],dtype = torch.long)\n",
    "embeds = nn.Embedding(len(word_to_idx),5)"
   ]
  },
  {
   "cell_type": "code",
   "execution_count": 5,
   "metadata": {
    "uuid": "a93540c5-167d-49c9-b25d-8652fbbcbfd7"
   },
   "outputs": [],
   "source": [
    "hello_embed = embeds(lookup_tensor)"
   ]
  },
  {
   "cell_type": "code",
   "execution_count": 6,
   "metadata": {
    "uuid": "e5694037-095e-4898-ac6b-e538eea9d660"
   },
   "outputs": [
    {
     "data": {
      "text/plain": [
       "tensor([[ 0.5902, -0.6656, -0.4503, -0.7510, -1.7887]],\n",
       "       grad_fn=<EmbeddingBackward>)"
      ]
     },
     "execution_count": 6,
     "metadata": {},
     "output_type": "execute_result"
    }
   ],
   "source": [
    "hello_embed"
   ]
  },
  {
   "cell_type": "markdown",
   "metadata": {
    "cellType": "markdown",
    "uuid": "7a8c72b2-19fb-4fbf-90c9-1da9c8e44844"
   },
   "source": [
    "# 2.nn.RNN"
   ]
  },
  {
   "cell_type": "markdown",
   "metadata": {
    "cellType": "markdown",
    "uuid": "fbdcf297-fac8-469b-86dc-d24fd4e24436"
   },
   "source": [
    "* nn.RNN(input_size,hidden_size,num_layers = 1,nonliearity = tanh,bias = True,batch_first = False,dropout = 0,bidirectional = False)"
   ]
  },
  {
   "cell_type": "markdown",
   "metadata": {
    "cellType": "markdown",
    "uuid": "4f1bd598-a3be-421b-a818-5e392196dc8c"
   },
   "source": [
    "# 参数\n",
    "* input_size:embedding_dim\n",
    "* hidden_size：隐藏层神经元个数\n",
    "* num_layers :几层\n",
    "* nonlinearity:激活函数\n",
    "* bias:是否使用偏置\n",
    "* batch_first:默认为True,即（seq_len,batch,embedding_dim）\n",
    "* dropout:默认为0\n",
    "* bidirectional:默认为False"
   ]
  },
  {
   "cell_type": "code",
   "execution_count": 7,
   "metadata": {
    "uuid": "6cc9db66-2be1-4df5-9a1c-61c83898affa"
   },
   "outputs": [],
   "source": [
    "rnn = nn.RNN(100,10)\n"
   ]
  },
  {
   "cell_type": "code",
   "execution_count": 9,
   "metadata": {
    "uuid": "567671f0-8e0a-49bc-afc6-c037c6e3a1d8"
   },
   "outputs": [
    {
     "data": {
      "text/plain": [
       "odict_keys(['weight_ih_l0', 'weight_hh_l0', 'bias_ih_l0', 'bias_hh_l0'])"
      ]
     },
     "execution_count": 9,
     "metadata": {},
     "output_type": "execute_result"
    }
   ],
   "source": [
    "rnn._parameters.keys()"
   ]
  },
  {
   "cell_type": "code",
   "execution_count": 12,
   "metadata": {
    "uuid": "fe155e60-ee4b-43eb-a166-9be93972e15b"
   },
   "outputs": [
    {
     "name": "stdout",
     "output_type": "stream",
     "text": [
      "torch.Size([10, 10]) torch.Size([10, 100])\n"
     ]
    }
   ],
   "source": [
    "print(rnn.weight_hh_l0.shape,rnn.weight_ih_l0.shape)"
   ]
  },
  {
   "cell_type": "code",
   "execution_count": 14,
   "metadata": {
    "uuid": "229b154e-48fa-4616-80e4-9c3f96a60201"
   },
   "outputs": [
    {
     "name": "stdout",
     "output_type": "stream",
     "text": [
      "torch.Size([10]) torch.Size([10])\n"
     ]
    }
   ],
   "source": [
    "print(rnn.bias_hh_l0.shape,rnn.bias_ih_l0.shape)"
   ]
  },
  {
   "cell_type": "markdown",
   "metadata": {
    "cellType": "markdown",
    "uuid": "8c4320ae-3a37-46a8-8bc9-5e9b8b3e3f6b"
   },
   "source": [
    "# 2.2 forward前向传播\n",
    "* x:[seq_len,batch,embedding_dim]一次性将所有时刻特征喂入\n",
    "* h0/ht:[num_layers,batch,hidden_len]\n",
    "* out:[seq_len,batch,hidden_size]:每一时刻空间上最后一层的输出"
   ]
  },
  {
   "cell_type": "code",
   "execution_count": 15,
   "metadata": {
    "uuid": "ffff08a4-7e4d-4765-8cb5-03e15ce96066"
   },
   "outputs": [],
   "source": [
    "rnn = nn.RNN(100,10,num_layers = 5)"
   ]
  },
  {
   "cell_type": "code",
   "execution_count": 16,
   "metadata": {
    "uuid": "c8e63d0f-8c31-4d75-aba4-45660c066b64"
   },
   "outputs": [],
   "source": [
    "x = torch.randn(10,3,100)#[seq_len,batch,embedding_dim]"
   ]
  },
  {
   "cell_type": "code",
   "execution_count": 17,
   "metadata": {
    "uuid": "55abf8d0-ca22-4a9a-a501-653e0128d4a3"
   },
   "outputs": [],
   "source": [
    "# 传入x以及h_0:[num_layers,batch_size,hidden_size]\n",
    "out,h = rnn(x,torch.zeros(5,3,10))"
   ]
  },
  {
   "cell_type": "code",
   "execution_count": 18,
   "metadata": {
    "uuid": "22989cf7-d391-4aa0-acbf-431f08a02e9b"
   },
   "outputs": [
    {
     "data": {
      "text/plain": [
       "torch.Size([10, 3, 10])"
      ]
     },
     "execution_count": 18,
     "metadata": {},
     "output_type": "execute_result"
    }
   ],
   "source": [
    "out.shape"
   ]
  },
  {
   "cell_type": "code",
   "execution_count": 19,
   "metadata": {
    "uuid": "f3f96e43-f65d-4fc8-a0be-e14953c5dfb3"
   },
   "outputs": [
    {
     "data": {
      "text/plain": [
       "torch.Size([5, 3, 10])"
      ]
     },
     "execution_count": 19,
     "metadata": {},
     "output_type": "execute_result"
    }
   ],
   "source": [
    "h.shape"
   ]
  },
  {
   "cell_type": "markdown",
   "metadata": {
    "cellType": "markdown",
    "uuid": "3fa9ffed-d199-4730-8403-4de6ef542fd9"
   },
   "source": [
    "# 3.nn.RNNCell()\n",
    "* xt:[batch,embeding_dim]表示当前时刻的输入\n",
    "* ht-1:[num_layers,batch,hidden]:前一时刻的单元输出，ht是下一时刻的单元输入"
   ]
  },
  {
   "cell_type": "code",
   "execution_count": 22,
   "metadata": {
    "uuid": "fd3ffc0e-36f5-411d-9140-5096d6b62a56"
   },
   "outputs": [
    {
     "name": "stdout",
     "output_type": "stream",
     "text": [
      "torch.Size([3, 10])\n"
     ]
    }
   ],
   "source": [
    "# embedding_dim=100,hidden_size = 10,batch = 3,seq_ len = 20\n",
    "cell = nn.RNNCell(100,10)\n",
    "h1 = torch.zeros(3,10)\n",
    "x = torch.randn(20,3,100)\n",
    "for xt in x:\n",
    "    h1 = cell(xt,h1)\n",
    "print(h1.shape)"
   ]
  },
  {
   "cell_type": "code",
   "execution_count": 23,
   "metadata": {
    "uuid": "1cf65d06-4cb2-4405-97fa-f43fd15083ba"
   },
   "outputs": [
    {
     "data": {
      "text/plain": [
       "tensor([[-0.9363, -0.5713,  0.6803, -0.8702,  0.0882, -0.1025,  0.7673,  0.5834,\n",
       "         -0.7532, -0.9827],\n",
       "        [-0.9115, -0.9989,  0.1442, -0.0086,  0.7014, -0.9945, -0.9983, -0.9958,\n",
       "         -0.8351, -0.3380],\n",
       "        [ 0.9958,  0.9598, -0.0167,  0.9660, -0.6955, -0.9970, -0.1947,  0.9654,\n",
       "          0.1267, -0.5725]], grad_fn=<TanhBackward>)"
      ]
     },
     "execution_count": 23,
     "metadata": {},
     "output_type": "execute_result"
    }
   ],
   "source": [
    "h1"
   ]
  },
  {
   "cell_type": "code",
   "execution_count": 25,
   "metadata": {
    "uuid": "10267afd-029d-4e08-a8b5-d66eb0681a4f"
   },
   "outputs": [],
   "source": [
    "# 多层RNN\n",
    "h1  = torch.zeros(3,30)\n",
    "h2 = torch.zeros(3,10)\n",
    "cell1 = nn.RNNCell(100,30)\n",
    "cell2 = nn.RNNCell(30,10)\n",
    "x = torch.randn(10,3,100)\n",
    "for xt in x:\n",
    "    h1 = cell1(xt,h1)\n",
    "    h2 = cell2(h1,h2)"
   ]
  },
  {
   "cell_type": "code",
   "execution_count": null,
   "metadata": {
    "uuid": "13a510d2-a3ef-4f89-8f79-1eaf4737edaf"
   },
   "outputs": [],
   "source": [
    "print(h1.shape)"
   ]
  }
 ],
 "metadata": {
  "kernelspec": {
   "display_name": "PyTorch",
   "language": "python",
   "name": "pytorch"
  },
  "language_info": {
   "codemirror_mode": {
    "name": "ipython",
    "version": 3
   },
   "file_extension": ".py",
   "mimetype": "text/x-python",
   "name": "python",
   "nbconvert_exporter": "python",
   "pygments_lexer": "ipython3",
   "version": "3.6.4"
  }
 },
 "nbformat": 4,
 "nbformat_minor": 2
}
