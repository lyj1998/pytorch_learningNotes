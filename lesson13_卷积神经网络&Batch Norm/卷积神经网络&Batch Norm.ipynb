{
 "cells": [
  {
   "cell_type": "code",
   "execution_count": 17,
   "metadata": {
    "uuid": "e15e24c0-0e46-4aad-ae48-2fde53feb79b"
   },
   "outputs": [],
   "source": [
    "import torch\n",
    "from torch import nn,optim\n",
    "from torch.nn import functional as F\n",
    "from torchvision import transforms"
   ]
  },
  {
   "cell_type": "markdown",
   "metadata": {
    "cellType": "markdown",
    "uuid": "5d8ca594-dc89-4e2c-8ba2-ec1a4dca8fae"
   },
   "source": [
    "# 1.卷积层\n",
    "* 1.1torch.nn.Conv2d()类式接口"
   ]
  },
  {
   "cell_type": "markdown",
   "metadata": {
    "cellType": "markdown",
    "uuid": "16a90f9a-35d3-4371-93b8-a269a5464c53"
   },
   "source": [
    "* torch.nn.Conv2d(self,in_channels,out_channels,kernel_size,stride = 1,padding = 0,dilation = 1,groups = 1,bias = True)"
   ]
  },
  {
   "cell_type": "code",
   "execution_count": 3,
   "metadata": {
    "uuid": "46b41d9c-3e7d-4fa0-8b5f-af050e830bea"
   },
   "outputs": [
    {
     "name": "stdout",
     "output_type": "stream",
     "text": [
      "torch.Size([1, 3, 14, 14])\n"
     ]
    }
   ],
   "source": [
    "x = torch.rand(1,1,28,28)\n",
    "layer = nn.Conv2d(1,3,kernel_size=3,stride = 2,padding=1)\n",
    "out = layer.forward(x)\n",
    "print(out.shape)"
   ]
  },
  {
   "cell_type": "markdown",
   "metadata": {
    "cellType": "markdown",
    "uuid": "ce60236a-8b48-4a87-a850-2cc269bebf20"
   },
   "source": [
    "## layer的相关属性：\n",
    "* layer.weight.shape: [3,1,3,3]----------[out_channel,in_channel,kernel_size[0],kernel_size[1]]\n",
    "* layer.bias.shape:[3]--------------[out_channel]\n"
   ]
  },
  {
   "cell_type": "code",
   "execution_count": 4,
   "metadata": {
    "uuid": "b69635fe-be12-4024-99df-e6a12ce972dd"
   },
   "outputs": [
    {
     "data": {
      "text/plain": [
       "torch.Size([3, 1, 3, 3])"
      ]
     },
     "execution_count": 4,
     "metadata": {},
     "output_type": "execute_result"
    }
   ],
   "source": [
    "layer.weight.shape"
   ]
  },
  {
   "cell_type": "code",
   "execution_count": 5,
   "metadata": {
    "uuid": "2ae1f26a-7e33-4674-9aec-d6d5ca1a5936"
   },
   "outputs": [
    {
     "data": {
      "text/plain": [
       "torch.Size([3])"
      ]
     },
     "execution_count": 5,
     "metadata": {},
     "output_type": "execute_result"
    }
   ],
   "source": [
    "layer.bias.shape"
   ]
  },
  {
   "cell_type": "code",
   "execution_count": 6,
   "metadata": {
    "uuid": "41bb679a-b285-4731-b6d1-de975d230945"
   },
   "outputs": [
    {
     "data": {
      "text/plain": [
       "Parameter containing:\n",
       "tensor([[[[ 0.1138,  0.2175, -0.0684],\n",
       "          [ 0.1857, -0.1687,  0.0562],\n",
       "          [ 0.2764,  0.1258, -0.1745]]],\n",
       "\n",
       "\n",
       "        [[[ 0.2960, -0.0936,  0.3059],\n",
       "          [-0.0784,  0.1252,  0.2697],\n",
       "          [ 0.1186,  0.1095, -0.0574]]],\n",
       "\n",
       "\n",
       "        [[[-0.1110, -0.1180,  0.2755],\n",
       "          [ 0.0597, -0.1091, -0.2511],\n",
       "          [-0.0922,  0.0893, -0.2994]]]], requires_grad=True)"
      ]
     },
     "execution_count": 6,
     "metadata": {},
     "output_type": "execute_result"
    }
   ],
   "source": [
    "layer.weight"
   ]
  },
  {
   "cell_type": "markdown",
   "metadata": {
    "cellType": "markdown",
    "uuid": "7c517308-ef3e-4c3b-b78a-bce555504a13"
   },
   "source": [
    "## F.conv2d()函数式接口\n",
    "* pytorch里一般小写的都是函数式接口，相应的大写的是类接口"
   ]
  },
  {
   "cell_type": "code",
   "execution_count": 7,
   "metadata": {
    "uuid": "0f3de628-eb5a-4d8a-b528-fe1b780e31ff"
   },
   "outputs": [],
   "source": [
    "x = torch.rand(1,3,28,28)\n",
    "w = torch.rand(16,3,3,3)\n",
    "b = torch.rand([16])"
   ]
  },
  {
   "cell_type": "code",
   "execution_count": 8,
   "metadata": {
    "uuid": "c4d990da-bcc8-495a-99f5-c43a5723154a"
   },
   "outputs": [
    {
     "name": "stdout",
     "output_type": "stream",
     "text": [
      "torch.Size([16, 3, 3, 3]) torch.Size([16])\n"
     ]
    }
   ],
   "source": [
    "print(w.shape,b.shape)"
   ]
  },
  {
   "cell_type": "code",
   "execution_count": 9,
   "metadata": {
    "uuid": "0d979ece-2d94-4a43-a917-a924e468891f"
   },
   "outputs": [],
   "source": [
    "out = F.conv2d(x,w,b,stride = 1,padding = 1)"
   ]
  },
  {
   "cell_type": "code",
   "execution_count": 11,
   "metadata": {
    "uuid": "d35ea6eb-4892-48ca-800e-010df5b4d028"
   },
   "outputs": [
    {
     "data": {
      "text/plain": [
       "torch.Size([1, 16, 28, 28])"
      ]
     },
     "execution_count": 11,
     "metadata": {},
     "output_type": "execute_result"
    }
   ],
   "source": [
    "out.shape"
   ]
  },
  {
   "cell_type": "markdown",
   "metadata": {
    "cellType": "markdown",
    "uuid": "5aa26e40-0486-4a87-b091-f466313a2eb1"
   },
   "source": [
    "# 2.池化层Pooling(下采样)\n",
    "* torch.nn.MaxPool2d(kernel_size,stride = None,padding = 0,dilation = 1,return_indices = False,ceil_mode = True)"
   ]
  },
  {
   "cell_type": "markdown",
   "metadata": {
    "cellType": "markdown",
    "uuid": "312943e6-7d82-4fc2-be22-73f4d1d88dbd"
   },
   "source": [
    "* 参数\n",
    "* kernel_size:max pooling 的窗口大小\n",
    "* stride:maxpooling的窗口移动步长，默认是kernel_size\n",
    "* padding:输入的每一条边补充0的层数\n",
    "* dilation(int or tuple,optional):一个控制窗口中元素步幅的参数\n",
    "* return_indices:如果等于True,会返回输出最大值的序号，对于上采样操作会有帮助\n",
    "* ceil_mode：如果等于True,计算输出信号大小的时候，会使用向上取整，代替默认的向下取整的操作"
   ]
  },
  {
   "cell_type": "code",
   "execution_count": 12,
   "metadata": {
    "uuid": "1d3a7b5b-fa69-4cf1-8c77-ea6b194e5390"
   },
   "outputs": [
    {
     "name": "stdout",
     "output_type": "stream",
     "text": [
      "torch.Size([1, 16, 14, 14])\n"
     ]
    }
   ],
   "source": [
    "x = out\n",
    "layer = nn.MaxPool2d(2,stride=2)\n",
    "out = layer(x)\n",
    "print(out.shape)"
   ]
  },
  {
   "cell_type": "markdown",
   "metadata": {
    "cellType": "markdown",
    "uuid": "f173c885-d080-4e01-8c14-01d609b88da8"
   },
   "source": [
    "## F.avg_pool2d()接口"
   ]
  },
  {
   "cell_type": "code",
   "execution_count": 14,
   "metadata": {
    "uuid": "177fc524-17e5-4a25-a4dc-9dcee5622d30"
   },
   "outputs": [
    {
     "name": "stdout",
     "output_type": "stream",
     "text": [
      "torch.Size([1, 16, 3, 3])\n"
     ]
    }
   ],
   "source": [
    "x = out\n",
    "out = F.avg_pool2d(x,2,stride = 2)\n",
    "print(out.shape)"
   ]
  },
  {
   "cell_type": "markdown",
   "metadata": {
    "cellType": "markdown",
    "uuid": "a279a733-d52d-41d6-a233-f3edf5294e2e"
   },
   "source": [
    "# 3.Relu激活函数\n",
    "## 3.1 torch.nn.ReLU()类式接口\n",
    "## 3.2F.relu()函数式接口"
   ]
  },
  {
   "cell_type": "code",
   "execution_count": 15,
   "metadata": {
    "uuid": "72eaeb11-3c44-4a44-a52a-7d90d2162dcd"
   },
   "outputs": [
    {
     "name": "stdout",
     "output_type": "stream",
     "text": [
      "torch.Size([1, 16, 7, 7])\n"
     ]
    }
   ],
   "source": [
    "layer  = torch.nn.ReLU(inplace = True)\n",
    "out = layer(x)\n",
    "print(out.shape)"
   ]
  },
  {
   "cell_type": "code",
   "execution_count": 16,
   "metadata": {
    "uuid": "658e8420-9057-48bf-93a0-542677210e2a"
   },
   "outputs": [
    {
     "name": "stdout",
     "output_type": "stream",
     "text": [
      "torch.Size([1, 16, 7, 7])\n"
     ]
    }
   ],
   "source": [
    "out = F.relu(x,inplace=True)\n",
    "print(out.shape)"
   ]
  },
  {
   "cell_type": "markdown",
   "metadata": {
    "cellType": "markdown",
    "uuid": "5b7c5015-f9d4-44cf-bf34-4af43c10c2ec"
   },
   "source": [
    "# 4.BatchNorm\n",
    "* Feature scaling\n",
    "    * Image normalization:\n",
    "    normalize = transforms.Normalize(mean = [0.485,0.456,0.426],std = [0.229,0.224,0.225])# mean\n",
    "* BatchNormalization"
   ]
  },
  {
   "cell_type": "markdown",
   "metadata": {
    "cellType": "markdown",
    "uuid": "c2453ac2-5544-45b4-8793-dfc765367891"
   },
   "source": [
    "## nn.BatchNorm1d()"
   ]
  },
  {
   "cell_type": "code",
   "execution_count": 19,
   "metadata": {
    "uuid": "46ebae5e-9316-46fa-b78e-501fe176f1fe"
   },
   "outputs": [
    {
     "data": {
      "text/plain": [
       "tensor([[[ 1.4206,  1.6398,  1.2971,  ...,  1.4759, -0.9848,  0.2814],\n",
       "         [ 1.4363,  0.5031,  0.2286,  ..., -0.3462,  1.1703, -0.0294],\n",
       "         [-0.5562, -1.1518, -0.5014,  ..., -1.4636,  0.5836,  0.8287],\n",
       "         ...,\n",
       "         [-1.0556,  0.5869, -0.8668,  ...,  1.4058,  1.3721,  1.4407],\n",
       "         [-1.2691, -0.9288, -0.0486,  ...,  1.1802, -0.2857,  0.1415],\n",
       "         [ 1.2419, -0.8243,  1.3234,  ...,  0.8687,  0.9753, -0.7942]],\n",
       "\n",
       "        [[ 0.1377,  1.5109,  0.8017,  ..., -0.6290, -0.3157, -0.1549],\n",
       "         [ 1.0691, -0.5654, -0.9126,  ..., -0.1815,  1.1762, -0.1391],\n",
       "         [ 0.1189,  0.2083,  0.1527,  ...,  1.0793, -0.7005,  1.7093],\n",
       "         ...,\n",
       "         [-0.1667, -1.3347,  1.4772,  ...,  1.2714,  0.3426, -1.4824],\n",
       "         [ 1.2133,  0.3488, -0.1211,  ..., -1.0829,  0.4583, -0.8922],\n",
       "         [ 0.7018,  0.3711, -1.3473,  ..., -0.3358, -0.6405, -0.4912]],\n",
       "\n",
       "        [[ 0.8025, -1.6179, -1.2129,  ...,  0.7843, -0.7478,  1.5403],\n",
       "         [-0.6379,  0.7117, -0.3140,  ...,  0.4732, -0.6617,  0.3401],\n",
       "         [-0.7064,  1.1277, -1.1179,  ...,  1.0719,  0.2888,  1.0267],\n",
       "         ...,\n",
       "         [-0.3644,  1.3054,  0.4823,  ..., -0.1519,  0.9769,  1.4439],\n",
       "         [-0.8313,  0.9113,  0.5623,  ..., -1.3010,  1.1435,  1.2432],\n",
       "         [-0.4514, -0.7328, -1.5806,  ..., -1.6789, -0.7977, -0.4171]],\n",
       "\n",
       "        ...,\n",
       "\n",
       "        [[-0.8170,  0.0421, -0.3253,  ..., -1.2453, -0.4225, -1.3365],\n",
       "         [-1.0126,  0.9128,  1.4618,  ...,  1.1231, -1.7070,  0.9358],\n",
       "         [ 0.3141, -0.6921, -0.1830,  ..., -0.9758,  1.6283,  1.2969],\n",
       "         ...,\n",
       "         [-0.0745,  0.6064, -0.9249,  ...,  0.0454, -1.7297,  0.3943],\n",
       "         [ 1.6458,  1.7110, -0.0954,  ...,  0.3324, -0.3942,  0.1142],\n",
       "         [-1.2781, -0.9739,  0.1104,  ...,  0.9402, -0.4110, -0.8303]],\n",
       "\n",
       "        [[-0.8949,  1.3441, -0.3215,  ...,  0.2890,  0.9491,  0.8356],\n",
       "         [-1.0486, -1.5518, -1.6711,  ..., -0.7220,  0.2301, -1.5750],\n",
       "         [ 0.3793,  0.3704, -0.9827,  ..., -1.2229,  1.3748, -0.1034],\n",
       "         ...,\n",
       "         [ 0.0847, -0.0405, -1.1793,  ...,  0.4486, -0.1146,  0.4836],\n",
       "         [-1.3048,  0.4119, -1.3362,  ...,  0.7087, -0.3985,  0.8919],\n",
       "         [ 0.2643, -1.6528,  1.4723,  ...,  0.7975,  1.4921, -0.0237]],\n",
       "\n",
       "        [[ 1.5690,  0.1145, -1.5944,  ..., -0.6517, -1.0786, -0.2185],\n",
       "         [ 1.1842, -1.4171,  0.0979,  ...,  0.3389,  0.3832,  1.2822],\n",
       "         [-1.1613,  1.7060,  0.5545,  ..., -0.8853,  0.7138,  0.8259],\n",
       "         ...,\n",
       "         [-1.6418, -1.2533, -1.6642,  ..., -0.6948,  0.4649,  1.3710],\n",
       "         [ 1.6249, -0.3771, -0.7353,  ..., -0.5009,  1.0105,  0.5673],\n",
       "         [-1.3136,  0.3172,  0.7900,  ..., -0.8754, -1.0758, -0.2181]]],\n",
       "       grad_fn=<NativeBatchNormBackward>)"
      ]
     },
     "execution_count": 19,
     "metadata": {},
     "output_type": "execute_result"
    }
   ],
   "source": [
    "x = torch.rand(100,16,784)\n",
    "layer = nn.BatchNorm1d(16)\n",
    "out = layer(x)\n",
    "out"
   ]
  },
  {
   "cell_type": "code",
   "execution_count": 20,
   "metadata": {
    "uuid": "4489d886-18bc-4736-87cf-a07d850821d4"
   },
   "outputs": [
    {
     "data": {
      "text/plain": [
       "torch.Size([100, 16, 784])"
      ]
     },
     "execution_count": 20,
     "metadata": {},
     "output_type": "execute_result"
    }
   ],
   "source": [
    "out.shape"
   ]
  },
  {
   "cell_type": "code",
   "execution_count": 21,
   "metadata": {
    "uuid": "8ec065e7-331d-4aba-86eb-1080c519e1b6"
   },
   "outputs": [
    {
     "data": {
      "text/plain": [
       "torch.Size([16])"
      ]
     },
     "execution_count": 21,
     "metadata": {},
     "output_type": "execute_result"
    }
   ],
   "source": [
    "layer.running_mean.shape"
   ]
  },
  {
   "cell_type": "code",
   "execution_count": 22,
   "metadata": {
    "uuid": "3c067a6b-afbb-4aa1-886d-1398afde0d1f"
   },
   "outputs": [
    {
     "data": {
      "text/plain": [
       "tensor([0.9084, 0.9084, 0.9083, 0.9083, 0.9083, 0.9083, 0.9084, 0.9083, 0.9083,\n",
       "        0.9083, 0.9083, 0.9083, 0.9083, 0.9083, 0.9083, 0.9083])"
      ]
     },
     "execution_count": 22,
     "metadata": {},
     "output_type": "execute_result"
    }
   ],
   "source": [
    "layer.running_var"
   ]
  },
  {
   "cell_type": "markdown",
   "metadata": {
    "cellType": "markdown",
    "uuid": "c2eab090-35f2-49b9-870f-cf0cc3c29a20"
   },
   "source": [
    "## layer.running_mean和running_var是全局的均值和方差"
   ]
  },
  {
   "cell_type": "markdown",
   "metadata": {
    "cellType": "markdown",
    "uuid": "45d79cc1-7122-4897-be45-b173336ae88b"
   },
   "source": [
    "## nn.BatchNorm2d()"
   ]
  },
  {
   "cell_type": "code",
   "execution_count": 23,
   "metadata": {
    "uuid": "50f38d4c-94c0-4018-80a5-644d8390d825"
   },
   "outputs": [],
   "source": [
    "x = torch.rand(1,16,7,7)\n",
    "layer = nn.BatchNorm2d(16)#传入通道数必须和上面的通道数目一致\n",
    "out = layer(x)"
   ]
  },
  {
   "cell_type": "code",
   "execution_count": 24,
   "metadata": {
    "uuid": "a2932298-d879-429c-919f-30daf3efa357"
   },
   "outputs": [
    {
     "data": {
      "text/plain": [
       "torch.Size([1, 16, 7, 7])"
      ]
     },
     "execution_count": 24,
     "metadata": {},
     "output_type": "execute_result"
    }
   ],
   "source": [
    "out.shape"
   ]
  },
  {
   "cell_type": "code",
   "execution_count": 25,
   "metadata": {
    "uuid": "664c2be7-eb13-4d96-9275-513d932866f1"
   },
   "outputs": [
    {
     "name": "stdout",
     "output_type": "stream",
     "text": [
      "torch.Size([16]) torch.Size([16])\n"
     ]
    }
   ],
   "source": [
    "print(layer.running_mean.shape,layer.running_var.shape)"
   ]
  },
  {
   "cell_type": "code",
   "execution_count": 26,
   "metadata": {
    "uuid": "09f8b5c6-033e-48b9-9bcb-da3cdf012287"
   },
   "outputs": [
    {
     "data": {
      "text/plain": [
       "Parameter containing:\n",
       "tensor([1., 1., 1., 1., 1., 1., 1., 1., 1., 1., 1., 1., 1., 1., 1., 1.],\n",
       "       requires_grad=True)"
      ]
     },
     "execution_count": 26,
     "metadata": {},
     "output_type": "execute_result"
    }
   ],
   "source": [
    "layer.weight"
   ]
  },
  {
   "cell_type": "code",
   "execution_count": 27,
   "metadata": {
    "uuid": "3b041fbd-5b3c-4131-be05-161e9428062f"
   },
   "outputs": [
    {
     "data": {
      "text/plain": [
       "Parameter containing:\n",
       "tensor([0., 0., 0., 0., 0., 0., 0., 0., 0., 0., 0., 0., 0., 0., 0., 0.],\n",
       "       requires_grad=True)"
      ]
     },
     "execution_count": 27,
     "metadata": {},
     "output_type": "execute_result"
    }
   ],
   "source": [
    "layer.bias"
   ]
  },
  {
   "cell_type": "code",
   "execution_count": 29,
   "metadata": {
    "uuid": "0e00ad12-3f50-4f6a-ba5b-d3f732935c14"
   },
   "outputs": [
    {
     "data": {
      "text/plain": [
       "{'training': True, '_parameters': OrderedDict([('weight', Parameter containing:\n",
       "               tensor([1., 1., 1., 1., 1., 1., 1., 1., 1., 1., 1., 1., 1., 1., 1., 1.],\n",
       "                      requires_grad=True)), ('bias', Parameter containing:\n",
       "               tensor([0., 0., 0., 0., 0., 0., 0., 0., 0., 0., 0., 0., 0., 0., 0., 0.],\n",
       "                      requires_grad=True))]), '_buffers': OrderedDict([('running_mean',\n",
       "               tensor([0.0511, 0.0486, 0.0552, 0.0550, 0.0502, 0.0507, 0.0482, 0.0467, 0.0524,\n",
       "                       0.0558, 0.0546, 0.0539, 0.0485, 0.0487, 0.0518, 0.0457])),\n",
       "              ('running_var',\n",
       "               tensor([0.9097, 0.9089, 0.9069, 0.9068, 0.9082, 0.9089, 0.9094, 0.9078, 0.9081,\n",
       "                       0.9078, 0.9078, 0.9094, 0.9078, 0.9080, 0.9109, 0.9093])),\n",
       "              ('num_batches_tracked',\n",
       "               tensor(1))]), '_backward_hooks': OrderedDict(), '_forward_hooks': OrderedDict(), '_forward_pre_hooks': OrderedDict(), '_state_dict_hooks': OrderedDict(), '_load_state_dict_pre_hooks': OrderedDict(), '_modules': OrderedDict(), 'num_features': 16, 'eps': 1e-05, 'momentum': 0.1, 'affine': True, 'track_running_stats': True}"
      ]
     },
     "execution_count": 29,
     "metadata": {},
     "output_type": "execute_result"
    }
   ],
   "source": [
    "#查看一个网络层上的所有参数\n",
    "vars(layer)"
   ]
  },
  {
   "cell_type": "code",
   "execution_count": null,
   "metadata": {
    "uuid": "062d8162-30d1-41b2-826d-d508445ff930"
   },
   "outputs": [],
   "source": [
    "## 4.3Train和Test\n",
    "* 类似于Dropout，BatchNormalization在训练和测试时的行为不同"
   ]
  }
 ],
 "metadata": {
  "kernelspec": {
   "display_name": "PyTorch",
   "language": "python",
   "name": "pytorch"
  },
  "language_info": {
   "codemirror_mode": {
    "name": "ipython",
    "version": 3
   },
   "file_extension": ".py",
   "mimetype": "text/x-python",
   "name": "python",
   "nbconvert_exporter": "python",
   "pygments_lexer": "ipython3",
   "version": "3.6.4"
  }
 },
 "nbformat": 4,
 "nbformat_minor": 2
}
