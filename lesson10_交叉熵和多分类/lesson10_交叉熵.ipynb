{
 "cells": [
  {
   "cell_type": "markdown",
   "metadata": {
    "cellType": "markdown",
    "uuid": "5f362b41-eca6-4b2c-a78c-718c7dc49f51"
   },
   "source": [
    "# 1.交叉熵"
   ]
  },
  {
   "cell_type": "code",
   "execution_count": 2,
   "metadata": {
    "uuid": "c3f26f6d-d9fc-464c-834a-3c9bfd0946d4"
   },
   "outputs": [],
   "source": [
    "import torch \n",
    "from torch import nn\n",
    "from torch.nn import functional as F\n",
    "x = torch.randn(1,784)\n",
    "w = torch.randn(10,784)\n",
    "logits = x@w.t()"
   ]
  },
  {
   "cell_type": "code",
   "execution_count": 3,
   "metadata": {
    "uuid": "e8b8dd57-80ac-4375-8fa9-a3df46bf1811"
   },
   "outputs": [
    {
     "data": {
      "text/plain": [
       "tensor(55.8043)"
      ]
     },
     "execution_count": 3,
     "metadata": {},
     "output_type": "execute_result"
    }
   ],
   "source": [
    "# pytorch中已经对logits进行softmax和label进行one_hot进行了封装\n",
    "F.cross_entropy(logits,torch.tensor([3]))"
   ]
  },
  {
   "cell_type": "markdown",
   "metadata": {
    "cellType": "markdown",
    "uuid": "e9faa45d-a9a1-41df-948e-6ae3ad7fd9b3"
   },
   "source": [
    "# 2.多分类实战"
   ]
  },
  {
   "cell_type": "code",
   "execution_count": 12,
   "metadata": {
    "uuid": "d5dc3c01-7563-4fb2-b60d-b0570a3dcc3b"
   },
   "outputs": [],
   "source": [
    "from torch import optim\n",
    "# 784-》200-》200-》10\n",
    "w1,b1 = torch.randn(200,784,requires_grad = True),torch.zeros(200,requires_grad = True)\n",
    "w2,b2 = torch.randn(200,200,requires_grad = True),torch.zeros(200,requires_grad = True)\n",
    "w3,b3 = torch.randn(10,200,requires_grad = True),torch.zeros(10,requires_grad = True)"
   ]
  },
  {
   "cell_type": "code",
   "execution_count": 13,
   "metadata": {
    "uuid": "11e696c0-0563-41cf-9bd7-646621a7b0c5"
   },
   "outputs": [],
   "source": [
    "def forward(x):\n",
    "    x = x@w1.t()+b1\n",
    "    x = F.relu(x)\n",
    "    x = x@w2.t()+b2\n",
    "    x = F.relu(x)\n",
    "    x = x@w3.t()+b3\n",
    "    return x"
   ]
  },
  {
   "cell_type": "code",
   "execution_count": 16,
   "metadata": {
    "uuid": "a759c4c9-7a4c-4fe7-b43f-5abb2685a43f"
   },
   "outputs": [
    {
     "ename": "NameError",
     "evalue": "name 'train_loader' is not defined",
     "output_type": "error",
     "traceback": [
      "\u001b[0;31m---------------------------------------------------------------------------\u001b[0m",
      "\u001b[0;31mNameError\u001b[0m                                 Traceback (most recent call last)",
      "\u001b[0;32m<ipython-input-16-464e70476b7f>\u001b[0m in \u001b[0;36m<module>\u001b[0;34m\u001b[0m\n\u001b[1;32m      4\u001b[0m \u001b[0mcriteon\u001b[0m \u001b[0;34m=\u001b[0m \u001b[0mnn\u001b[0m\u001b[0;34m.\u001b[0m\u001b[0mCrossEntropyLoss\u001b[0m\u001b[0;34m(\u001b[0m\u001b[0;34m)\u001b[0m\u001b[0;34m\u001b[0m\u001b[0m\n\u001b[1;32m      5\u001b[0m \u001b[0;32mfor\u001b[0m \u001b[0mepoch\u001b[0m \u001b[0;32min\u001b[0m \u001b[0mrange\u001b[0m\u001b[0;34m(\u001b[0m\u001b[0mepochs\u001b[0m\u001b[0;34m)\u001b[0m\u001b[0;34m:\u001b[0m\u001b[0;34m\u001b[0m\u001b[0m\n\u001b[0;32m----> 6\u001b[0;31m     \u001b[0;32mfor\u001b[0m \u001b[0mbatch_idx\u001b[0m\u001b[0;34m,\u001b[0m\u001b[0;34m(\u001b[0m\u001b[0mdata\u001b[0m\u001b[0;34m,\u001b[0m\u001b[0mtraget\u001b[0m\u001b[0;34m)\u001b[0m\u001b[0;32min\u001b[0m \u001b[0menumerate\u001b[0m\u001b[0;34m(\u001b[0m\u001b[0mtrain_loader\u001b[0m\u001b[0;34m)\u001b[0m\u001b[0;34m:\u001b[0m\u001b[0;34m\u001b[0m\u001b[0m\n\u001b[0m\u001b[1;32m      7\u001b[0m         \u001b[0mdata\u001b[0m \u001b[0;34m=\u001b[0m \u001b[0mdata\u001b[0m\u001b[0;34m.\u001b[0m\u001b[0mview\u001b[0m\u001b[0;34m(\u001b[0m\u001b[0;34m-\u001b[0m\u001b[0;36m1\u001b[0m\u001b[0;34m,\u001b[0m\u001b[0;36m784\u001b[0m\u001b[0;34m)\u001b[0m\u001b[0;34m\u001b[0m\u001b[0m\n\u001b[1;32m      8\u001b[0m         \u001b[0mlogits\u001b[0m \u001b[0;34m=\u001b[0m \u001b[0mforward\u001b[0m\u001b[0;34m(\u001b[0m\u001b[0mdata\u001b[0m\u001b[0;34m)\u001b[0m\u001b[0;34m\u001b[0m\u001b[0m\n",
      "\u001b[0;31mNameError\u001b[0m: name 'train_loader' is not defined"
     ]
    }
   ],
   "source": [
    "learning_rate = 1e-3\n",
    "epochs = 2000\n",
    "optimizer = optim.Adam([w1,b1,w2,b2,w3,b3],lr = learning_rate)\n",
    "criteon = nn.CrossEntropyLoss()\n",
    "for epoch in range(epochs):\n",
    "    for batch_idx,(data,traget)in enumerate(train_loader):\n",
    "        data = data.view(-1,784)\n",
    "        logits = forward(data)\n",
    "        loss = criteon(logits,target)\n",
    "        optimizer.zero_grad()\n",
    "        loss.backward()\n",
    "        optimizer.step()"
   ]
  },
  {
   "cell_type": "code",
   "execution_count": null,
   "metadata": {
    "uuid": "dc41091e-8e83-4a2f-9b32-e670df2a72fe"
   },
   "outputs": [],
   "source": []
  },
  {
   "cell_type": "code",
   "execution_count": null,
   "metadata": {
    "uuid": "7e82d759-b345-49d7-a33a-b19dc619f325"
   },
   "outputs": [],
   "source": []
  }
 ],
 "metadata": {
  "kernelspec": {
   "display_name": "PyTorch",
   "language": "python",
   "name": "pytorch"
  },
  "language_info": {
   "codemirror_mode": {
    "name": "ipython",
    "version": 3
   },
   "file_extension": ".py",
   "mimetype": "text/x-python",
   "name": "python",
   "nbconvert_exporter": "python",
   "pygments_lexer": "ipython3",
   "version": "3.6.4"
  }
 },
 "nbformat": 4,
 "nbformat_minor": 2
}
