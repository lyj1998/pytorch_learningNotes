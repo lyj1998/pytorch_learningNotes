{
 "cells": [
  {
   "cell_type": "markdown",
   "metadata": {
    "cellType": "markdown",
    "uuid": "5ca151a2-ccd3-4c89-a4e0-72139589ff5e"
   },
   "source": [
    "# 1.Resnet"
   ]
  },
  {
   "cell_type": "code",
   "execution_count": 1,
   "metadata": {
    "uuid": "122904f9-bb8e-4385-8079-efdc5d48d401"
   },
   "outputs": [],
   "source": [
    "import torch\n",
    "from torch import nn,optim\n",
    "from torch.nn import functional as F"
   ]
  },
  {
   "cell_type": "code",
   "execution_count": 5,
   "metadata": {
    "uuid": "c732968b-03f2-45dc-a927-fcf64842a340"
   },
   "outputs": [],
   "source": [
    "class ResBlk(nn.Module):\n",
    "    def __init__(self,ch_in,ch_out):\n",
    "        super(ResBlk,self).__init__()\n",
    "        self.conv1 = nn.Conv2d(ch_in,ch_out,kernel_size=3,stride=1,padding=1)\n",
    "        self.bn1 = nn.BatchNorm2d(ch_out)\n",
    "        self.conv2 = nn.Conv2d(ch_out,ch_out,kernel_size=3,stride=1,padding=1)\n",
    "        self.bn = nn.BatchNorm2d(ch_out)\n",
    "        self.extra = nn.Sequential()\n",
    "        if ch_out!= ch_in:\n",
    "            self.extra = nn.Sequential(\n",
    "            nn.Conv1d(ch_in,ch_out,kernel_size=1,stride = 1),\n",
    "            nn.BatchNorm2d(ch_out)\n",
    "            )\n",
    "    def forward(self,x):\n",
    "        out = self.conv1(x)\n",
    "        out = self.bn1(out)\n",
    "        out = self.conv2(out)\n",
    "        out = self.bn(out)\n",
    "        out = self.extra(x+out)\n",
    "        return out"
   ]
  },
  {
   "cell_type": "markdown",
   "metadata": {
    "cellType": "markdown",
    "uuid": "ba48c7d0-2293-407c-8848-32ed1dcf1477"
   },
   "source": [
    "# 2.模型内部参数管理\n",
    "* 可以用.parameters()或者.named_parameters()返回其内的所有参数的迭代器"
   ]
  },
  {
   "cell_type": "code",
   "execution_count": 6,
   "metadata": {
    "uuid": "88eb6a2d-c5ba-4605-af6a-556ac3d9744d"
   },
   "outputs": [],
   "source": [
    "net = nn.Sequential(\n",
    "    nn.Linear(2,4),\n",
    "    nn.Linear(4,1)\n",
    ")"
   ]
  },
  {
   "cell_type": "code",
   "execution_count": 7,
   "metadata": {
    "uuid": "4c78d65e-8c92-4db3-9352-02bc798f2a31"
   },
   "outputs": [
    {
     "data": {
      "text/plain": [
       "[Parameter containing:\n",
       " tensor([[-0.2172, -0.4014],\n",
       "         [ 0.6063, -0.0481],\n",
       "         [ 0.6055, -0.6054],\n",
       "         [-0.6814, -0.5784]], requires_grad=True), Parameter containing:\n",
       " tensor([-0.5971, -0.6531,  0.5061,  0.2764], requires_grad=True), Parameter containing:\n",
       " tensor([[-0.4300, -0.2249,  0.2508, -0.3570]], requires_grad=True), Parameter containing:\n",
       " tensor([-0.0399], requires_grad=True)]"
      ]
     },
     "execution_count": 7,
     "metadata": {},
     "output_type": "execute_result"
    }
   ],
   "source": [
    "list(net.parameters())"
   ]
  },
  {
   "cell_type": "code",
   "execution_count": 8,
   "metadata": {
    "uuid": "fa023fed-6c51-4c86-9d4a-03220061da3c"
   },
   "outputs": [
    {
     "data": {
      "text/plain": [
       "{'0.weight': Parameter containing:\n",
       " tensor([[-0.2172, -0.4014],\n",
       "         [ 0.6063, -0.0481],\n",
       "         [ 0.6055, -0.6054],\n",
       "         [-0.6814, -0.5784]], requires_grad=True),\n",
       " '0.bias': Parameter containing:\n",
       " tensor([-0.5971, -0.6531,  0.5061,  0.2764], requires_grad=True),\n",
       " '1.weight': Parameter containing:\n",
       " tensor([[-0.4300, -0.2249,  0.2508, -0.3570]], requires_grad=True),\n",
       " '1.bias': Parameter containing:\n",
       " tensor([-0.0399], requires_grad=True)}"
      ]
     },
     "execution_count": 8,
     "metadata": {},
     "output_type": "execute_result"
    }
   ],
   "source": [
    "dict(net.named_parameters())"
   ]
  },
  {
   "cell_type": "markdown",
   "metadata": {
    "cellType": "markdown",
    "uuid": "36f1dad4-6599-4932-b35c-0550ebd085fa"
   },
   "source": [
    "# 3.模型树形结构\n",
    "* 模块之间通过嵌套组合会形成树形结构,使用.children()可以获取其直接孩子节点\n",
    "* 使用.modules()可以直接获取其所有子节点"
   ]
  },
  {
   "cell_type": "code",
   "execution_count": 11,
   "metadata": {
    "uuid": "98cfe2c1-3c6c-4262-97a9-11b286d95d55"
   },
   "outputs": [],
   "source": [
    "class BaseNet(nn.Module):\n",
    "    def __init__(self):\n",
    "        super(BaseNet,self).__init__()\n",
    "        self.net = nn.Linear(4,3)\n",
    "    def forward(x):\n",
    "        return self.net(x)\n",
    "class MyNet(nn.Module):\n",
    "    def __init__(self):\n",
    "        super(MyNet,self).__init__()\n",
    "        self.net = nn.Sequential(\n",
    "        BaseNet(),\n",
    "        nn.ReLU(inplace = True),\n",
    "        nn.Linear(3,2)\n",
    "        )\n",
    "    def forward(x):\n",
    "        x = self.net(x)\n",
    "        return x"
   ]
  },
  {
   "cell_type": "code",
   "execution_count": 12,
   "metadata": {
    "uuid": "f47dd08a-2b87-488a-a6c2-3ad924ab91c8"
   },
   "outputs": [],
   "source": [
    "mynet = MyNet()"
   ]
  },
  {
   "cell_type": "code",
   "execution_count": 13,
   "metadata": {
    "uuid": "f1c9790b-5a0f-4ff2-b2d2-6ae0e0154f88"
   },
   "outputs": [
    {
     "data": {
      "text/plain": [
       "[Sequential(\n",
       "   (0): BaseNet(\n",
       "     (net): Linear(in_features=4, out_features=3, bias=True)\n",
       "   )\n",
       "   (1): ReLU(inplace=True)\n",
       "   (2): Linear(in_features=3, out_features=2, bias=True)\n",
       " )]"
      ]
     },
     "execution_count": 13,
     "metadata": {},
     "output_type": "execute_result"
    }
   ],
   "source": [
    "list(mynet.children())"
   ]
  },
  {
   "cell_type": "code",
   "execution_count": 14,
   "metadata": {
    "uuid": "a2fc65fe-3a05-465b-a53d-0bfdb7dcdde1"
   },
   "outputs": [
    {
     "data": {
      "text/plain": [
       "[MyNet(\n",
       "   (net): Sequential(\n",
       "     (0): BaseNet(\n",
       "       (net): Linear(in_features=4, out_features=3, bias=True)\n",
       "     )\n",
       "     (1): ReLU(inplace=True)\n",
       "     (2): Linear(in_features=3, out_features=2, bias=True)\n",
       "   )\n",
       " ), Sequential(\n",
       "   (0): BaseNet(\n",
       "     (net): Linear(in_features=4, out_features=3, bias=True)\n",
       "   )\n",
       "   (1): ReLU(inplace=True)\n",
       "   (2): Linear(in_features=3, out_features=2, bias=True)\n",
       " ), BaseNet(\n",
       "   (net): Linear(in_features=4, out_features=3, bias=True)\n",
       " ), Linear(in_features=4, out_features=3, bias=True), ReLU(inplace=True), Linear(in_features=3, out_features=2, bias=True)]"
      ]
     },
     "execution_count": 14,
     "metadata": {},
     "output_type": "execute_result"
    }
   ],
   "source": [
    "list(mynet.modules())"
   ]
  },
  {
   "cell_type": "markdown",
   "metadata": {
    "cellType": "markdown",
    "uuid": "3e7546a2-1abb-4e08-816d-1e0a47a7c492"
   },
   "source": [
    "# 4.加载和保存\n",
    "* net.state_dict()传入torch.save()保存模型\n",
    "* torch.load()加载参数后传入net.load_state_dict()"
   ]
  },
  {
   "cell_type": "code",
   "execution_count": 17,
   "metadata": {
    "uuid": "fdb32464-9256-4c90-8210-9fde0b860d15"
   },
   "outputs": [
    {
     "data": {
      "text/plain": [
       "<All keys matched successfully>"
      ]
     },
     "execution_count": 17,
     "metadata": {},
     "output_type": "execute_result"
    }
   ],
   "source": [
    "torch.save(mynet.state_dict(),'ckpt.mdl')\n",
    "mynet.load_state_dict(torch.load('ckpt.mdl'))"
   ]
  },
  {
   "cell_type": "markdown",
   "metadata": {
    "cellType": "markdown",
    "uuid": "988d4070-a88c-46bd-8c9a-0767f9e09ffa"
   },
   "source": [
    "# 4.own linear layer\n",
    "# nn.Parameter和.parameters()\n",
    "* 如果在继承nn.Module类来实现模块时，出现需要操作Tensor的部分"
   ]
  },
  {
   "cell_type": "code",
   "execution_count": 19,
   "metadata": {
    "uuid": "629afe21-3c54-4abf-b3f1-a967525f69e2"
   },
   "outputs": [],
   "source": [
    "class MyLinear(nn.Module):\n",
    "    def __init__(self,inp,oup):\n",
    "        super(MyLinear,self).__init__()\n",
    "        \n",
    "        #requires_grad = True\n",
    "        self.w = nn.Parameter(torch.randn(oup,inp))\n",
    "        self.b = nn.Parameter(torch.randn(oup))\n",
    "        \n",
    "    def forward(self,x):\n",
    "        x = x@w.t()+self.b\n",
    "        return x"
   ]
  },
  {
   "cell_type": "code",
   "execution_count": null,
   "metadata": {
    "uuid": "78a4b506-361a-43f0-9db3-4eaef08e5be6"
   },
   "outputs": [],
   "source": []
  }
 ],
 "metadata": {
  "kernelspec": {
   "display_name": "PyTorch",
   "language": "python",
   "name": "pytorch"
  },
  "language_info": {
   "codemirror_mode": {
    "name": "ipython",
    "version": 3
   },
   "file_extension": ".py",
   "mimetype": "text/x-python",
   "name": "python",
   "nbconvert_exporter": "python",
   "pygments_lexer": "ipython3",
   "version": "3.6.4"
  }
 },
 "nbformat": 4,
 "nbformat_minor": 2
}
