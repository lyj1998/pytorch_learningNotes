{
 "cells": [
  {
   "cell_type": "markdown",
   "metadata": {
    "cellType": "markdown",
    "uuid": "d72d87ed-28ff-4cc1-aa1b-704a69302535"
   },
   "source": [
    "# 1.拼接与拆分\n",
    "* cat拼接操作torch.cat([tensor1,tensor2],dim = dim)\n",
    "* stack拼接操作\n",
    "* split分割操作\n",
    "* chunk分割操作"
   ]
  },
  {
   "cell_type": "code",
   "execution_count": 1,
   "metadata": {
    "uuid": "137c1ff1-8b87-48c7-80bf-c24276d054fb"
   },
   "outputs": [],
   "source": [
    "# cat和concat同\n",
    "import numpy as np\n",
    "import torch \n",
    "a = torch.randn(2,3,1)\n",
    "b = torch.randn(2,3,4)"
   ]
  },
  {
   "cell_type": "code",
   "execution_count": 2,
   "metadata": {
    "uuid": "3713be7c-09af-4cdf-8d74-6a9563151ce7"
   },
   "outputs": [
    {
     "data": {
      "text/plain": [
       "torch.Size([2, 3, 5])"
      ]
     },
     "execution_count": 2,
     "metadata": {},
     "output_type": "execute_result"
    }
   ],
   "source": [
    "torch.cat([a,b],dim = 2).shape"
   ]
  },
  {
   "cell_type": "markdown",
   "metadata": {
    "cellType": "markdown",
    "uuid": "d5af4120-ec38-4b87-aa3f-35c6939b0514"
   },
   "source": [
    "## stack拼接操作\n",
    "* 与cat不同的是，stack是在拼接的同时，在指定dim处插入维度后拼接(<font color=\"#660000\">create new dim</font> )\n",
    "* stack需要保证两个Tensor的shape是一致的，这就像有两类东西，他们的属性都是一样的\n",
    "* 使用stack时要指定一个维度位置，在那个位置之前会插入一个新的维度\n",
    "* 因为两类东西合并过来所以这个新的维度size是2，通过指定这个维度是0或1来选择性别是男还是女"
   ]
  },
  {
   "cell_type": "code",
   "execution_count": 4,
   "metadata": {
    "uuid": "9cc5b63f-0655-4c0a-a0b8-b4e1cb562a9f"
   },
   "outputs": [
    {
     "data": {
      "text/plain": [
       "torch.Size([4, 3, 2, 2])"
      ]
     },
     "execution_count": 4,
     "metadata": {},
     "output_type": "execute_result"
    }
   ],
   "source": [
    "a1 = torch.rand(4,3,2)\n",
    "a2 = torch.rand(4,3,2)\n",
    "torch.stack([a1,a2],dim = 2).shape"
   ]
  },
  {
   "cell_type": "code",
   "execution_count": 5,
   "metadata": {
    "uuid": "daa98f10-3409-4e62-9fe5-d6b4b37c0e0e"
   },
   "outputs": [
    {
     "data": {
      "text/plain": [
       "torch.Size([4, 3, 4])"
      ]
     },
     "execution_count": 5,
     "metadata": {},
     "output_type": "execute_result"
    }
   ],
   "source": [
    "torch.cat([a1,a2],dim = 2).shape"
   ]
  },
  {
   "cell_type": "markdown",
   "metadata": {
    "cellType": "markdown",
    "uuid": "0d022eeb-32d8-450c-9b37-e401fa50d38b"
   },
   "source": [
    "### A班级32个人每个人8门分数，B班级同样，合成一张表应该是[2,32,8]取0就是第一个班级反之则是第二个维度"
   ]
  },
  {
   "cell_type": "markdown",
   "metadata": {
    "cellType": "markdown",
    "uuid": "e0277aa9-7b7c-4553-9d64-1204a7ce25d1"
   },
   "source": [
    "## split分割操作（给的是拆分后的长度），返回的是一个元祖：BY Len\n",
    "* 指定拆分dim\n",
    "* 按长度拆分，给定拆分后的数据大小"
   ]
  },
  {
   "cell_type": "code",
   "execution_count": 6,
   "metadata": {
    "uuid": "873ea077-8b7d-4e96-bdad-c608a35d8f43"
   },
   "outputs": [],
   "source": [
    "a1 = torch.randn(2,3,4)\n",
    "a2 = torch.randn(1,3,4)\n",
    "c = torch.cat([a1,a2],dim = 0)"
   ]
  },
  {
   "cell_type": "code",
   "execution_count": 7,
   "metadata": {
    "uuid": "56740d4c-4163-4ed8-b8da-70fba90ae5a8"
   },
   "outputs": [
    {
     "data": {
      "text/plain": [
       "torch.Size([3, 3, 4])"
      ]
     },
     "execution_count": 7,
     "metadata": {},
     "output_type": "execute_result"
    }
   ],
   "source": [
    "c.shape"
   ]
  },
  {
   "cell_type": "code",
   "execution_count": 9,
   "metadata": {
    "uuid": "4ae57271-5d6f-4050-8574-8d2ceb7927f6"
   },
   "outputs": [],
   "source": [
    "# 指定拆分dim，均分，要给出拆分后的len\n",
    "r1,r2,r3 = c.split(1,dim = 0)"
   ]
  },
  {
   "cell_type": "code",
   "execution_count": 10,
   "metadata": {
    "uuid": "3255dca5-fb5e-4561-a23d-8881ce6bcbaa"
   },
   "outputs": [
    {
     "name": "stdout",
     "output_type": "stream",
     "text": [
      "torch.Size([1, 3, 4]) torch.Size([1, 3, 4]) torch.Size([1, 3, 4])\n"
     ]
    }
   ],
   "source": [
    "print(r1.shape,r2.shape,r3.shape)"
   ]
  },
  {
   "cell_type": "code",
   "execution_count": 13,
   "metadata": {
    "uuid": "677dfce0-d19e-4c41-85fe-ade571b1f39e"
   },
   "outputs": [],
   "source": [
    "aa,bb = c.split([2,1],dim = 0)"
   ]
  },
  {
   "cell_type": "code",
   "execution_count": 14,
   "metadata": {
    "uuid": "9647230c-7731-493b-a0be-88963d34761d"
   },
   "outputs": [
    {
     "name": "stdout",
     "output_type": "stream",
     "text": [
      "torch.Size([2, 3, 4]) torch.Size([1, 3, 4])\n"
     ]
    }
   ],
   "source": [
    "print(aa.shape,bb.shape)"
   ]
  },
  {
   "cell_type": "markdown",
   "metadata": {
    "cellType": "markdown",
    "uuid": "6d679ebd-3e30-44f8-82bf-a4f437bed26b"
   },
   "source": [
    "### chunk分割操作(By num)\n",
    "* chunk是在指定dim下按个数拆分，给定平均拆分的个数"
   ]
  },
  {
   "cell_type": "code",
   "execution_count": 17,
   "metadata": {
    "uuid": "957ee222-f874-43c0-bf85-3a97cdab571c"
   },
   "outputs": [
    {
     "data": {
      "text/plain": [
       "torch.Size([3, 3, 4])"
      ]
     },
     "execution_count": 17,
     "metadata": {},
     "output_type": "execute_result"
    }
   ],
   "source": [
    "c.shape"
   ]
  },
  {
   "cell_type": "code",
   "execution_count": 19,
   "metadata": {
    "uuid": "a9978202-4426-4766-b5f5-0477b37b1f15"
   },
   "outputs": [
    {
     "data": {
      "text/plain": [
       "(tensor([[[ 1.3427e-01, -7.1640e-01,  4.0773e-01, -4.4941e-01],\n",
       "          [-4.8573e-01,  4.5632e-01, -9.9357e-01, -5.0688e-01],\n",
       "          [ 2.0265e-01,  3.8068e-01,  1.9989e-01, -1.3059e+00]],\n",
       " \n",
       "         [[ 1.0998e+00,  3.5540e-01, -2.1332e+00, -1.6103e+00],\n",
       "          [-1.0672e-03,  2.4409e-01,  6.7941e-01,  5.6289e-01],\n",
       "          [ 1.1670e+00, -1.1564e+00, -4.6411e-01,  3.1277e-01]]]),\n",
       " tensor([[[-1.4779,  1.1341, -1.2432, -0.2920],\n",
       "          [-0.3101,  1.1257,  0.2624, -0.7134],\n",
       "          [ 0.4732, -0.0759, -1.3212, -1.1806]]]))"
      ]
     },
     "execution_count": 19,
     "metadata": {},
     "output_type": "execute_result"
    }
   ],
   "source": [
    "c.chunk(2,dim = 0)"
   ]
  },
  {
   "cell_type": "markdown",
   "metadata": {
    "cellType": "markdown",
    "uuid": "06536453-c3bb-42f6-a2b2-54aeb989c8cb"
   },
   "source": [
    "# 2.tensor的基本运算（basic直接用重载的+ - * /就可以）\n",
    "* 加法(a+b,torch.add(a,b))\n",
    "* 减法(a-b,torch.sub(a,b))\n",
    "* 乘法(*,torch.mul(a,b))\n",
    "* 除法(/,torch.div(a,b)),//整除"
   ]
  },
  {
   "cell_type": "code",
   "execution_count": 22,
   "metadata": {
    "uuid": "f55d797c-8789-4fd0-b266-b095a31ab589"
   },
   "outputs": [],
   "source": [
    "a = torch.rand(3,4)\n",
    "b = torch.rand(4)"
   ]
  },
  {
   "cell_type": "code",
   "execution_count": 23,
   "metadata": {
    "uuid": "ff207180-591a-4635-ba73-b9f4fbd1f8b0"
   },
   "outputs": [
    {
     "data": {
      "text/plain": [
       "tensor([[1.0266, 0.9550, 1.0609, 0.8649],\n",
       "        [1.2378, 1.1906, 0.4274, 0.2775],\n",
       "        [1.2009, 1.3065, 0.2823, 0.2063]])"
      ]
     },
     "execution_count": 23,
     "metadata": {},
     "output_type": "execute_result"
    }
   ],
   "source": [
    "a+b"
   ]
  },
  {
   "cell_type": "code",
   "execution_count": 24,
   "metadata": {
    "uuid": "390c8af7-2f20-4d75-b933-54fce043602e"
   },
   "outputs": [
    {
     "data": {
      "text/plain": [
       "tensor([[1.0266, 0.9550, 1.0609, 0.8649],\n",
       "        [1.2378, 1.1906, 0.4274, 0.2775],\n",
       "        [1.2009, 1.3065, 0.2823, 0.2063]])"
      ]
     },
     "execution_count": 24,
     "metadata": {},
     "output_type": "execute_result"
    }
   ],
   "source": [
    "torch.add(a,b)"
   ]
  },
  {
   "cell_type": "code",
   "execution_count": 25,
   "metadata": {
    "uuid": "4a0a1e18-7703-4fb0-9baa-52e382a8844b"
   },
   "outputs": [
    {
     "data": {
      "text/plain": [
       "tensor([[ 0.1251, -0.8959,  0.6404,  0.6704],\n",
       "        [ 0.3363, -0.6603,  0.0070,  0.0830],\n",
       "        [ 0.2994, -0.5444, -0.1381,  0.0118]])"
      ]
     },
     "execution_count": 25,
     "metadata": {},
     "output_type": "execute_result"
    }
   ],
   "source": [
    "a-b"
   ]
  },
  {
   "cell_type": "code",
   "execution_count": 26,
   "metadata": {
    "uuid": "2264db3d-e47f-4c1d-be67-78aefd09a6a4"
   },
   "outputs": [
    {
     "data": {
      "text/plain": [
       "tensor([[ 0.1251, -0.8959,  0.6404,  0.6704],\n",
       "        [ 0.3363, -0.6603,  0.0070,  0.0830],\n",
       "        [ 0.2994, -0.5444, -0.1381,  0.0118]])"
      ]
     },
     "execution_count": 26,
     "metadata": {},
     "output_type": "execute_result"
    }
   ],
   "source": [
    "torch.sub(a,b)"
   ]
  },
  {
   "cell_type": "code",
   "execution_count": 27,
   "metadata": {
    "uuid": "c65919c8-89cd-4327-a7bc-af7b3ce5adb9"
   },
   "outputs": [
    {
     "data": {
      "text/plain": [
       "tensor([[0.2595, 0.0274, 0.1788, 0.0746],\n",
       "        [0.3548, 0.2454, 0.0457, 0.0175],\n",
       "        [0.3381, 0.3526, 0.0152, 0.0106]])"
      ]
     },
     "execution_count": 27,
     "metadata": {},
     "output_type": "execute_result"
    }
   ],
   "source": [
    "a*b"
   ]
  },
  {
   "cell_type": "code",
   "execution_count": 28,
   "metadata": {
    "uuid": "e344ecfc-fd93-4708-b2a2-e64c92f310e7"
   },
   "outputs": [
    {
     "data": {
      "text/plain": [
       "tensor([[0.2595, 0.0274, 0.1788, 0.0746],\n",
       "        [0.3548, 0.2454, 0.0457, 0.0175],\n",
       "        [0.3381, 0.3526, 0.0152, 0.0106]])"
      ]
     },
     "execution_count": 28,
     "metadata": {},
     "output_type": "execute_result"
    }
   ],
   "source": [
    "torch.mul(a,b)"
   ]
  },
  {
   "cell_type": "code",
   "execution_count": 29,
   "metadata": {
    "uuid": "15a277ca-f10f-4ca0-bb9d-24c55316c73b"
   },
   "outputs": [
    {
     "data": {
      "text/plain": [
       "tensor([[1.2775, 0.0320, 4.0462, 7.8945],\n",
       "        [1.7461, 0.2865, 1.0331, 1.8539],\n",
       "        [1.6642, 0.4117, 0.3429, 1.1212]])"
      ]
     },
     "execution_count": 29,
     "metadata": {},
     "output_type": "execute_result"
    }
   ],
   "source": [
    "a/b"
   ]
  },
  {
   "cell_type": "code",
   "execution_count": 30,
   "metadata": {
    "uuid": "70cea7ed-784f-456c-9444-38b00292f606"
   },
   "outputs": [
    {
     "data": {
      "text/plain": [
       "tensor([[1.2775, 0.0320, 4.0462, 7.8945],\n",
       "        [1.7461, 0.2865, 1.0331, 1.8539],\n",
       "        [1.6642, 0.4117, 0.3429, 1.1212]])"
      ]
     },
     "execution_count": 30,
     "metadata": {},
     "output_type": "execute_result"
    }
   ],
   "source": [
    "torch.div(a,b)"
   ]
  },
  {
   "cell_type": "code",
   "execution_count": 33,
   "metadata": {
    "uuid": "9a31a604-88bc-461e-be7f-55a8937f0681"
   },
   "outputs": [
    {
     "data": {
      "text/plain": [
       "tensor(True)"
      ]
     },
     "execution_count": 33,
     "metadata": {},
     "output_type": "execute_result"
    }
   ],
   "source": [
    "torch.all(torch.eq(a-b,torch.sub(a,b)))"
   ]
  },
  {
   "cell_type": "markdown",
   "metadata": {
    "cellType": "markdown",
    "uuid": "e7a6b7cb-4c80-496a-8a90-9cbbedabc1e8"
   },
   "source": [
    "## 矩阵乘法(* 是element wise,matmul是矩阵相乘marix)\n",
    "* torch.mm(only for 2d，不推荐)\n",
    "* torch.matmul()和@（推荐）"
   ]
  },
  {
   "cell_type": "code",
   "execution_count": 34,
   "metadata": {
    "uuid": "6a8882e8-88e7-4257-94f2-4d3f0e0371c1"
   },
   "outputs": [],
   "source": [
    "a = torch.rand(3,4)\n",
    "b = torch.rand(4,3)"
   ]
  },
  {
   "cell_type": "code",
   "execution_count": 35,
   "metadata": {
    "uuid": "624852b3-4a87-4f1b-937d-33c4da67d02c"
   },
   "outputs": [],
   "source": [
    "c = torch.matmul(a,b)"
   ]
  },
  {
   "cell_type": "code",
   "execution_count": 37,
   "metadata": {
    "uuid": "983bb6ba-4013-463e-8273-672933a0cfe9"
   },
   "outputs": [
    {
     "data": {
      "text/plain": [
       "torch.Size([3, 3])"
      ]
     },
     "execution_count": 37,
     "metadata": {},
     "output_type": "execute_result"
    }
   ],
   "source": [
    "c.shape"
   ]
  },
  {
   "cell_type": "code",
   "execution_count": 40,
   "metadata": {
    "uuid": "16444d3d-7278-46b7-9f7c-6331087820cf"
   },
   "outputs": [
    {
     "data": {
      "text/plain": [
       "torch.Size([3, 3])"
      ]
     },
     "execution_count": 40,
     "metadata": {},
     "output_type": "execute_result"
    }
   ],
   "source": [
    "(a@b).shape"
   ]
  },
  {
   "cell_type": "code",
   "execution_count": 41,
   "metadata": {
    "uuid": "c57c4979-bb4a-491a-b4e2-476e1a73640f"
   },
   "outputs": [
    {
     "data": {
      "text/plain": [
       "torch.Size([4, 512])"
      ]
     },
     "execution_count": 41,
     "metadata": {},
     "output_type": "execute_result"
    }
   ],
   "source": [
    "# torch里面默认hidden size是在前面的\n",
    "x = torch.randn(4,784)\n",
    "w = torch.randn(512,784)\n",
    "h1 = torch.matmul(x,w.t())\n",
    "h1.shape"
   ]
  },
  {
   "cell_type": "markdown",
   "metadata": {
    "cellType": "markdown",
    "uuid": "3ca76a90-d351-44bd-95be-2af33cf2f922"
   },
   "source": [
    "## 多维矩阵相乘，定义其矩阵乘法只在最后的两个维度上，要求前面的维度必须保持一致，就像矩阵的索引一样，并且运算操作符只有matmul()\n",
    "## ‘矩阵索引维度’如果符合Broadcasting机制，也会自动做广播，然后相乘"
   ]
  },
  {
   "cell_type": "code",
   "execution_count": 43,
   "metadata": {
    "uuid": "cfdf80cc-309e-4fca-abae-8ca575a95936"
   },
   "outputs": [],
   "source": [
    "a = torch.rand(4,3,28,64)\n",
    "b = torch.rand(4,3,64,32)"
   ]
  },
  {
   "cell_type": "code",
   "execution_count": 44,
   "metadata": {
    "uuid": "1aa400c7-e141-4e56-8e0a-9b023c1edd43"
   },
   "outputs": [
    {
     "data": {
      "text/plain": [
       "torch.Size([4, 3, 28, 32])"
      ]
     },
     "execution_count": 44,
     "metadata": {},
     "output_type": "execute_result"
    }
   ],
   "source": [
    "torch.matmul(a,b).shape"
   ]
  },
  {
   "cell_type": "code",
   "execution_count": 45,
   "metadata": {
    "uuid": "0cec8570-ba8d-4903-9bc9-9b8cfae67bfb"
   },
   "outputs": [],
   "source": [
    "c = torch.rand(4,1,32,16)"
   ]
  },
  {
   "cell_type": "code",
   "execution_count": 46,
   "metadata": {
    "uuid": "919e44b1-50d3-4be2-a16b-8171981f7c1e"
   },
   "outputs": [
    {
     "data": {
      "text/plain": [
       "torch.Size([4, 3, 64, 16])"
      ]
     },
     "execution_count": 46,
     "metadata": {},
     "output_type": "execute_result"
    }
   ],
   "source": [
    "torch.matmul(b,c).shape"
   ]
  },
  {
   "cell_type": "markdown",
   "metadata": {
    "cellType": "markdown",
    "uuid": "7380bfbe-7979-4638-9681-2c0e59562529"
   },
   "source": [
    "## 次方pow(**操作)\n",
    "## 开方sqrt\n",
    "## 指数exp与对数log运算\n",
    "## 近似值运算\n",
    "## 裁剪运算clamp"
   ]
  },
  {
   "cell_type": "code",
   "execution_count": 57,
   "metadata": {
    "uuid": "0296fbae-4804-4504-88f4-b452ba4eaddf"
   },
   "outputs": [],
   "source": [
    "a = torch.full([2,2],1)\n",
    "c = a**2"
   ]
  },
  {
   "cell_type": "code",
   "execution_count": 50,
   "metadata": {
    "uuid": "e30b7791-852a-4468-9491-182c778e8b4a"
   },
   "outputs": [
    {
     "data": {
      "text/plain": [
       "tensor([[9., 9.],\n",
       "        [9., 9.]])"
      ]
     },
     "execution_count": 50,
     "metadata": {},
     "output_type": "execute_result"
    }
   ],
   "source": [
    "c"
   ]
  },
  {
   "cell_type": "code",
   "execution_count": 51,
   "metadata": {
    "uuid": "6e6c78a9-6cdc-4c4a-bbc2-078424de1f83"
   },
   "outputs": [
    {
     "data": {
      "text/plain": [
       "tensor([[9., 9.],\n",
       "        [9., 9.]])"
      ]
     },
     "execution_count": 51,
     "metadata": {},
     "output_type": "execute_result"
    }
   ],
   "source": [
    "a.pow(2)"
   ]
  },
  {
   "cell_type": "code",
   "execution_count": 52,
   "metadata": {
    "uuid": "3e292816-a2df-440d-b97f-bc4a71242f43"
   },
   "outputs": [
    {
     "data": {
      "text/plain": [
       "tensor([[1.7321, 1.7321],\n",
       "        [1.7321, 1.7321]])"
      ]
     },
     "execution_count": 52,
     "metadata": {},
     "output_type": "execute_result"
    }
   ],
   "source": [
    "a.pow(0.5)"
   ]
  },
  {
   "cell_type": "code",
   "execution_count": 53,
   "metadata": {
    "uuid": "9da46444-7370-4258-9684-6b5d33e35e6f"
   },
   "outputs": [
    {
     "data": {
      "text/plain": [
       "tensor([[20.0855, 20.0855],\n",
       "        [20.0855, 20.0855]])"
      ]
     },
     "execution_count": 53,
     "metadata": {},
     "output_type": "execute_result"
    }
   ],
   "source": [
    "torch.exp(a)"
   ]
  },
  {
   "cell_type": "code",
   "execution_count": 54,
   "metadata": {
    "uuid": "be537792-5993-4642-82b9-b30d5d92259d"
   },
   "outputs": [
    {
     "data": {
      "text/plain": [
       "tensor([[1.0986, 1.0986],\n",
       "        [1.0986, 1.0986]])"
      ]
     },
     "execution_count": 54,
     "metadata": {},
     "output_type": "execute_result"
    }
   ],
   "source": [
    "torch.log(a)"
   ]
  },
  {
   "cell_type": "markdown",
   "metadata": {
    "cellType": "markdown",
    "uuid": "0a44c359-083f-4624-93d2-fea98cae2939"
   },
   "source": [
    "## 近似值运算\n",
    "## floor(),ceil(),trunc(),frac()取下，取上，取整数部分，取小数部分"
   ]
  },
  {
   "cell_type": "code",
   "execution_count": 59,
   "metadata": {
    "uuid": "231a4e9f-c3ad-4d9d-8d99-d08d7ce6bb08"
   },
   "outputs": [
    {
     "name": "stdout",
     "output_type": "stream",
     "text": [
      "tensor(3.) tensor(4.) tensor(3.) tensor(0.1400)\n"
     ]
    }
   ],
   "source": [
    "a = torch.tensor(3.14)\n",
    "print(a.floor(),a.ceil(),a.trunc(),a.frac())"
   ]
  },
  {
   "cell_type": "code",
   "execution_count": 60,
   "metadata": {
    "uuid": "722c930d-5234-4a81-8203-03935df1529e"
   },
   "outputs": [
    {
     "data": {
      "text/plain": [
       "tensor(3.)"
      ]
     },
     "execution_count": 60,
     "metadata": {},
     "output_type": "execute_result"
    }
   ],
   "source": [
    "a.round()#四舍五入"
   ]
  },
  {
   "cell_type": "code",
   "execution_count": 62,
   "metadata": {
    "uuid": "38cdc5cd-4d9a-43a5-92f6-e9829cc361e1"
   },
   "outputs": [
    {
     "data": {
      "text/plain": [
       "tensor(4.)"
      ]
     },
     "execution_count": 62,
     "metadata": {},
     "output_type": "execute_result"
    }
   ],
   "source": [
    "a = torch.tensor(3.55)\n",
    "a.round()"
   ]
  },
  {
   "cell_type": "markdown",
   "metadata": {
    "cellType": "markdown",
    "uuid": "aa779da1-3e4f-4faf-94e0-7ee2b274da5f"
   },
   "source": [
    "## 裁剪运算clamp\n",
    "* 常用于梯度裁剪（gradient clipping）\n",
    "* (min,max):小于min的都设置为min,大于max的都设置为max\n",
    "* 实际使用时，可以查看梯度的（L2范数）模来看看需不需要做处理:w.grad.norm(2)<br/>\n",
    "    w是weight权重，w.grad才是梯度"
   ]
  },
  {
   "cell_type": "code",
   "execution_count": 64,
   "metadata": {
    "uuid": "10181b39-f843-4d42-bf62-473f6158e281"
   },
   "outputs": [],
   "source": [
    "grad  = torch.rand(2,3)*15"
   ]
  },
  {
   "cell_type": "code",
   "execution_count": 65,
   "metadata": {
    "uuid": "1dafc7f6-e0cb-4c33-8ad8-cbfd4ebd7a58"
   },
   "outputs": [
    {
     "data": {
      "text/plain": [
       "tensor(14.8773)"
      ]
     },
     "execution_count": 65,
     "metadata": {},
     "output_type": "execute_result"
    }
   ],
   "source": [
    "grad.max()"
   ]
  },
  {
   "cell_type": "code",
   "execution_count": 66,
   "metadata": {
    "uuid": "3e87220a-aaad-4792-b899-fbcb8200d854"
   },
   "outputs": [
    {
     "data": {
      "text/plain": [
       "tensor(5.1822)"
      ]
     },
     "execution_count": 66,
     "metadata": {},
     "output_type": "execute_result"
    }
   ],
   "source": [
    "grad.median()"
   ]
  },
  {
   "cell_type": "code",
   "execution_count": 67,
   "metadata": {
    "uuid": "2a536b29-2c19-45eb-a2e3-59c462017bf5"
   },
   "outputs": [
    {
     "data": {
      "text/plain": [
       "tensor([[10.0000, 10.0000, 10.0000],\n",
       "        [14.6058, 14.8773, 10.0000]])"
      ]
     },
     "execution_count": 67,
     "metadata": {},
     "output_type": "execute_result"
    }
   ],
   "source": [
    "grad.clamp(10)#小于10 的都设置为10"
   ]
  },
  {
   "cell_type": "code",
   "execution_count": 69,
   "metadata": {
    "uuid": "32b9e7c1-51ab-4296-bbc9-57a841e154c9"
   },
   "outputs": [
    {
     "data": {
      "text/plain": [
       "tensor([[ 5.0317,  5.1822,  2.5087],\n",
       "        [14.6058, 14.8773,  6.4951]])"
      ]
     },
     "execution_count": 69,
     "metadata": {},
     "output_type": "execute_result"
    }
   ],
   "source": [
    "grad"
   ]
  },
  {
   "cell_type": "code",
   "execution_count": 70,
   "metadata": {
    "uuid": "7669eb32-e85d-4825-b900-061fc7675669"
   },
   "outputs": [
    {
     "data": {
      "text/plain": [
       "tensor([[ 5.0317,  5.1822,  2.5087],\n",
       "        [10.0000, 10.0000,  6.4951]])"
      ]
     },
     "execution_count": 70,
     "metadata": {},
     "output_type": "execute_result"
    }
   ],
   "source": [
    "grad.clamp(0,10)#大于10的都设置为10"
   ]
  },
  {
   "cell_type": "markdown",
   "metadata": {
    "cellType": "markdown",
    "uuid": "ba0889f6-2cb2-4eed-9c5e-de0b2bc284c5"
   },
   "source": [
    "## 实际网络中则：\n",
    "for w in []：<br/>\n",
    "&ensp;&ensp;&ensp;&ensp;&ensp;    w.grad.norm(2).clamp(min,max)"
   ]
  },
  {
   "cell_type": "markdown",
   "metadata": {
    "cellType": "markdown",
    "uuid": "6aeb69a8-1efc-4933-a9fd-8f7f6822f89e"
   },
   "source": [
    "# 3.统计属性\n",
    "* norm求范数\n",
    "* mean sum\n",
    "* prod\n",
    "* max,min,argmin,argmax\n",
    "* kthvalue,topk"
   ]
  },
  {
   "cell_type": "code",
   "execution_count": 1,
   "metadata": {
    "uuid": "5ebb7c7e-066e-4fa2-ae2b-f9d256fc79c4"
   },
   "outputs": [],
   "source": [
    "import torch\n",
    "a = torch.full([8],1)"
   ]
  },
  {
   "cell_type": "code",
   "execution_count": 2,
   "metadata": {
    "uuid": "134e39cb-4f7f-4f6f-9b5c-1ab1b66d35f1"
   },
   "outputs": [],
   "source": [
    "b = a.view(2,4)\n",
    "c = a.view(2,2,2)"
   ]
  },
  {
   "cell_type": "code",
   "execution_count": 3,
   "metadata": {
    "uuid": "c277229e-a486-4363-a3ba-c2d3ca6b548f"
   },
   "outputs": [
    {
     "data": {
      "text/plain": [
       "tensor([[1., 1., 1., 1.],\n",
       "        [1., 1., 1., 1.]])"
      ]
     },
     "execution_count": 3,
     "metadata": {},
     "output_type": "execute_result"
    }
   ],
   "source": [
    "b"
   ]
  },
  {
   "cell_type": "code",
   "execution_count": 4,
   "metadata": {
    "uuid": "f0f7f68d-0078-4bca-be79-8ce04c958110"
   },
   "outputs": [
    {
     "data": {
      "text/plain": [
       "tensor([[[1., 1.],\n",
       "         [1., 1.]],\n",
       "\n",
       "        [[1., 1.],\n",
       "         [1., 1.]]])"
      ]
     },
     "execution_count": 4,
     "metadata": {},
     "output_type": "execute_result"
    }
   ],
   "source": [
    "c"
   ]
  },
  {
   "cell_type": "code",
   "execution_count": 8,
   "metadata": {
    "uuid": "db19eaff-5e71-478b-b5a1-b1bcf164211a"
   },
   "outputs": [
    {
     "name": "stdout",
     "output_type": "stream",
     "text": [
      "tensor(8.) tensor(8.) tensor(8.)\n"
     ]
    }
   ],
   "source": [
    "# 求L1范数（所有元素绝对值求和）\n",
    "print(a.norm(1),b.norm(1),c.norm(1))"
   ]
  },
  {
   "cell_type": "code",
   "execution_count": 9,
   "metadata": {
    "uuid": "babb7d80-04d4-4b4d-a85c-2dc89edac528"
   },
   "outputs": [
    {
     "name": "stdout",
     "output_type": "stream",
     "text": [
      "tensor(2.8284) tensor(2.8284) tensor(2.8284)\n"
     ]
    }
   ],
   "source": [
    "# 求L2范数（所有元素平方和再开根）\n",
    "print(a.norm(2),b.norm(2),c.norm(2))"
   ]
  },
  {
   "cell_type": "code",
   "execution_count": 10,
   "metadata": {
    "uuid": "3d00f6a8-d1ef-46be-bc08-1efb36fb8a19"
   },
   "outputs": [
    {
     "name": "stdout",
     "output_type": "stream",
     "text": [
      "tensor([4., 4.])\n"
     ]
    }
   ],
   "source": [
    "# 在b的1号维度上求L1范数，原来shape：【2,4】-》【2】\n",
    "print(b.norm(1,dim = 1))"
   ]
  },
  {
   "cell_type": "code",
   "execution_count": 11,
   "metadata": {
    "uuid": "88d1839b-072b-4ab6-af0e-809b02c77f63"
   },
   "outputs": [
    {
     "data": {
      "text/plain": [
       "tensor([[2., 2.],\n",
       "        [2., 2.]])"
      ]
     },
     "execution_count": 11,
     "metadata": {},
     "output_type": "execute_result"
    }
   ],
   "source": [
    "# 在c的0号维度上求L1范数：原来shape:[2,2,2]->[2,2]\n",
    "c.norm(1,dim = 0)"
   ]
  },
  {
   "cell_type": "code",
   "execution_count": 12,
   "metadata": {
    "uuid": "c0afec70-a2a6-4bcc-887a-03406e53d16b"
   },
   "outputs": [
    {
     "data": {
      "text/plain": [
       "tensor([[1.4142, 1.4142],\n",
       "        [1.4142, 1.4142]])"
      ]
     },
     "execution_count": 12,
     "metadata": {},
     "output_type": "execute_result"
    }
   ],
   "source": [
    "# 在c的0号维度上求L2范数：原来shape:[2,2,2]->[2,2]\n",
    "c.norm(2,dim = 0)"
   ]
  },
  {
   "cell_type": "code",
   "execution_count": 14,
   "metadata": {
    "uuid": "c69c68c9-7945-48b5-90b6-ebfce90f4535"
   },
   "outputs": [
    {
     "data": {
      "text/plain": [
       "tensor([[1.4142, 1.4142],\n",
       "        [1.4142, 1.4142]])"
      ]
     },
     "execution_count": 14,
     "metadata": {},
     "output_type": "execute_result"
    }
   ],
   "source": [
    "c.norm(2,dim =2 )"
   ]
  },
  {
   "cell_type": "markdown",
   "metadata": {
    "cellType": "markdown",
    "uuid": "a4b38139-40ff-43fa-ae93-e74dee937bfc"
   },
   "source": [
    "## 均值、累加、最大、最小、累积\n",
    "* mean(),sum(),max(),min(),prod()\n",
    "* 最大最小值索引argmax(),argmin()  默认会将Tensor打平后返回索引，需要在指定维度上求最大值或最小值索引"
   ]
  },
  {
   "cell_type": "code",
   "execution_count": 15,
   "metadata": {
    "uuid": "87365db7-fc97-44b9-be32-b1a13726ac41"
   },
   "outputs": [],
   "source": [
    "b = torch.arange(8).reshape(2,4).float()"
   ]
  },
  {
   "cell_type": "code",
   "execution_count": 16,
   "metadata": {
    "uuid": "c9378e00-1cbe-4fb4-a74b-da1f86633afd"
   },
   "outputs": [
    {
     "data": {
      "text/plain": [
       "tensor([[0., 1., 2., 3.],\n",
       "        [4., 5., 6., 7.]])"
      ]
     },
     "execution_count": 16,
     "metadata": {},
     "output_type": "execute_result"
    }
   ],
   "source": [
    "b"
   ]
  },
  {
   "cell_type": "code",
   "execution_count": 17,
   "metadata": {
    "uuid": "eba79f9f-7d4e-4097-9136-3cf5c8dc71a1"
   },
   "outputs": [
    {
     "name": "stdout",
     "output_type": "stream",
     "text": [
      "tensor(3.5000) tensor(28.) tensor(7.) tensor(0.) tensor(0.)\n"
     ]
    }
   ],
   "source": [
    "print(b.mean(),b.sum(),b.max(),b.min(),b.prod())"
   ]
  },
  {
   "cell_type": "code",
   "execution_count": 18,
   "metadata": {
    "uuid": "5175d54e-46ce-439a-8624-c8325458432b"
   },
   "outputs": [
    {
     "name": "stdout",
     "output_type": "stream",
     "text": [
      "tensor([3, 3])\n"
     ]
    }
   ],
   "source": [
    "# 不指定维度，输出打平后的最大最小值索引\n",
    "print(b.argmax(dim = 1))"
   ]
  },
  {
   "cell_type": "code",
   "execution_count": 19,
   "metadata": {
    "uuid": "24fbe850-7d3d-4e59-b9f5-612faa3c54aa"
   },
   "outputs": [
    {
     "name": "stdout",
     "output_type": "stream",
     "text": [
      "tensor([0, 0])\n"
     ]
    }
   ],
   "source": [
    "print(b.argmin(dim = 1))"
   ]
  },
  {
   "cell_type": "markdown",
   "metadata": {
    "cellType": "markdown",
    "uuid": "fc437bd1-80de-4ed1-9d0b-01a814fad1d0"
   },
   "source": [
    "# dim/keepdim\n",
    "* shape = [4,10],dim = 1时，保留原有的dimension"
   ]
  },
  {
   "cell_type": "code",
   "execution_count": 21,
   "metadata": {
    "uuid": "699c1ac1-9442-41ab-ab8d-f637690c02f5"
   },
   "outputs": [],
   "source": [
    "a = torch.rand(4,10)#若表示输出的4张图片的概率"
   ]
  },
  {
   "cell_type": "code",
   "execution_count": 22,
   "metadata": {
    "uuid": "e1839bfd-1f8e-4057-81b9-2126bfec6acd"
   },
   "outputs": [
    {
     "data": {
      "text/plain": [
       "tensor([[0.2827, 0.9541, 0.9447, 0.8730, 0.8279, 0.9905, 0.7006, 0.7855, 0.6530,\n",
       "         0.9713],\n",
       "        [0.4904, 0.2653, 0.2842, 0.5824, 0.7055, 0.0054, 0.4112, 0.6447, 0.0600,\n",
       "         0.9502],\n",
       "        [0.2862, 0.4512, 0.9707, 0.4806, 0.0211, 0.7702, 0.7046, 0.1101, 0.1658,\n",
       "         0.9084],\n",
       "        [0.7692, 0.4682, 0.1560, 0.7596, 0.4425, 0.9274, 0.8661, 0.6353, 0.1366,\n",
       "         0.3940]])"
      ]
     },
     "execution_count": 22,
     "metadata": {},
     "output_type": "execute_result"
    }
   ],
   "source": [
    "a"
   ]
  },
  {
   "cell_type": "code",
   "execution_count": 24,
   "metadata": {
    "uuid": "8ac7328a-e8fd-4d54-926d-266da32b3847"
   },
   "outputs": [],
   "source": [
    "value,indices = a.max(dim = 1)"
   ]
  },
  {
   "cell_type": "code",
   "execution_count": 25,
   "metadata": {
    "uuid": "354589ab-dede-42ea-a140-90dfc5187272"
   },
   "outputs": [
    {
     "data": {
      "text/plain": [
       "tensor([0.9905, 0.9502, 0.9707, 0.9274])"
      ]
     },
     "execution_count": 25,
     "metadata": {},
     "output_type": "execute_result"
    }
   ],
   "source": [
    "value"
   ]
  },
  {
   "cell_type": "code",
   "execution_count": 26,
   "metadata": {
    "uuid": "2154e971-c7c2-410a-a59b-0e791d41fc9c"
   },
   "outputs": [
    {
     "data": {
      "text/plain": [
       "tensor([5, 9, 2, 5])"
      ]
     },
     "execution_count": 26,
     "metadata": {},
     "output_type": "execute_result"
    }
   ],
   "source": [
    "indices"
   ]
  },
  {
   "cell_type": "code",
   "execution_count": 27,
   "metadata": {
    "uuid": "fda31357-1927-41a1-be01-cf773b775fa2"
   },
   "outputs": [
    {
     "data": {
      "text/plain": [
       "torch.return_types.max(\n",
       "values=tensor([[0.9905],\n",
       "        [0.9502],\n",
       "        [0.9707],\n",
       "        [0.9274]]),\n",
       "indices=tensor([[5],\n",
       "        [9],\n",
       "        [2],\n",
       "        [5]]))"
      ]
     },
     "execution_count": 27,
     "metadata": {},
     "output_type": "execute_result"
    }
   ],
   "source": [
    "a.max(dim = 1,keepdim = True)#还是原来的2维度"
   ]
  },
  {
   "cell_type": "code",
   "execution_count": 28,
   "metadata": {
    "uuid": "9a453383-2691-4e22-b4fe-e9bf697b5e39"
   },
   "outputs": [
    {
     "data": {
      "text/plain": [
       "tensor([[5],\n",
       "        [9],\n",
       "        [2],\n",
       "        [5]])"
      ]
     },
     "execution_count": 28,
     "metadata": {},
     "output_type": "execute_result"
    }
   ],
   "source": [
    "a.argmax(dim = 1,keepdim = True)"
   ]
  },
  {
   "cell_type": "markdown",
   "metadata": {
    "cellType": "markdown",
    "uuid": "bc6d98d5-52b1-4adc-bf7c-69d9cd988e81"
   },
   "source": [
    "## topk和kthvalue\n",
    "* 前k大topk(largest = True)/前k小（largest = False）的概率值及其索引\n",
    "* 第k小（kthvalue）的概率值及其索引"
   ]
  },
  {
   "cell_type": "code",
   "execution_count": 29,
   "metadata": {
    "uuid": "e4305745-9a82-4d32-8a66-90d55bae735c"
   },
   "outputs": [],
   "source": [
    "# 4张图片每张图片有10个概率值\n",
    "a = torch.rand(4,10)"
   ]
  },
  {
   "cell_type": "code",
   "execution_count": 30,
   "metadata": {
    "uuid": "cccc531b-0cbf-4a25-85ec-e2347e31e326"
   },
   "outputs": [
    {
     "data": {
      "text/plain": [
       "tensor([[0.7479, 0.5610, 0.3722, 0.6786, 0.7533, 0.0202, 0.8349, 0.8613, 0.9257,\n",
       "         0.3804],\n",
       "        [0.4994, 0.7188, 0.5171, 0.7640, 0.1275, 0.3646, 0.6629, 0.4905, 0.3340,\n",
       "         0.8945],\n",
       "        [0.2287, 0.6874, 0.0505, 0.8138, 0.4300, 0.6897, 0.8790, 0.6564, 0.4669,\n",
       "         0.3304],\n",
       "        [0.7086, 0.6170, 0.5626, 0.3899, 0.5052, 0.6085, 0.2100, 0.0501, 0.8810,\n",
       "         0.9383]])"
      ]
     },
     "execution_count": 30,
     "metadata": {},
     "output_type": "execute_result"
    }
   ],
   "source": [
    "a"
   ]
  },
  {
   "cell_type": "code",
   "execution_count": 31,
   "metadata": {
    "uuid": "9e70156f-283b-4559-ac63-81ba60c65207"
   },
   "outputs": [
    {
     "data": {
      "text/plain": [
       "torch.return_types.topk(\n",
       "values=tensor([[0.9257, 0.8613, 0.8349],\n",
       "        [0.8945, 0.7640, 0.7188],\n",
       "        [0.8790, 0.8138, 0.6897],\n",
       "        [0.9383, 0.8810, 0.7086]]),\n",
       "indices=tensor([[8, 7, 6],\n",
       "        [9, 3, 1],\n",
       "        [6, 3, 5],\n",
       "        [9, 8, 0]]))"
      ]
     },
     "execution_count": 31,
     "metadata": {},
     "output_type": "execute_result"
    }
   ],
   "source": [
    "a.topk(3,dim = 1)"
   ]
  },
  {
   "cell_type": "code",
   "execution_count": 32,
   "metadata": {
    "uuid": "a79c3534-80e2-4b8f-b65d-a4bee88bbf39"
   },
   "outputs": [
    {
     "data": {
      "text/plain": [
       "torch.return_types.topk(\n",
       "values=tensor([[0.9257],\n",
       "        [0.8945],\n",
       "        [0.8790],\n",
       "        [0.9383]]),\n",
       "indices=tensor([[8],\n",
       "        [9],\n",
       "        [6],\n",
       "        [9]]))"
      ]
     },
     "execution_count": 32,
     "metadata": {},
     "output_type": "execute_result"
    }
   ],
   "source": [
    "a.topk(1,dim = 1)"
   ]
  },
  {
   "cell_type": "code",
   "execution_count": 33,
   "metadata": {
    "uuid": "38966c83-3cf7-4a77-82a3-917dfde0f693"
   },
   "outputs": [
    {
     "data": {
      "text/plain": [
       "torch.return_types.topk(\n",
       "values=tensor([[0.0202, 0.3722, 0.3804],\n",
       "        [0.1275, 0.3340, 0.3646],\n",
       "        [0.0505, 0.2287, 0.3304],\n",
       "        [0.0501, 0.2100, 0.3899]]),\n",
       "indices=tensor([[5, 2, 9],\n",
       "        [4, 8, 5],\n",
       "        [2, 0, 9],\n",
       "        [7, 6, 3]]))"
      ]
     },
     "execution_count": 33,
     "metadata": {},
     "output_type": "execute_result"
    }
   ],
   "source": [
    "a.topk(3,dim = 1,largest = False)#返回的是前3小的概率值及其索引"
   ]
  },
  {
   "cell_type": "code",
   "execution_count": 34,
   "metadata": {
    "uuid": "cd683ecc-95fe-47c2-9268-8e86b52d3271"
   },
   "outputs": [
    {
     "data": {
      "text/plain": [
       "torch.return_types.kthvalue(\n",
       "values=tensor([[0.3804],\n",
       "        [0.3646],\n",
       "        [0.3304],\n",
       "        [0.3899]]),\n",
       "indices=tensor([[9],\n",
       "        [5],\n",
       "        [9],\n",
       "        [3]]))"
      ]
     },
     "execution_count": 34,
     "metadata": {},
     "output_type": "execute_result"
    }
   ],
   "source": [
    "a.kthvalue(3,dim = 1,keepdim = True)#返回第3小的概率值及其索引"
   ]
  },
  {
   "cell_type": "code",
   "execution_count": 35,
   "metadata": {
    "uuid": "cf6e7058-7573-4d1a-8cc6-2a6815b68c1c"
   },
   "outputs": [
    {
     "data": {
      "text/plain": [
       "torch.return_types.kthvalue(\n",
       "values=tensor([0.3804, 0.3646, 0.3304, 0.3899]),\n",
       "indices=tensor([9, 5, 9, 3]))"
      ]
     },
     "execution_count": 35,
     "metadata": {},
     "output_type": "execute_result"
    }
   ],
   "source": [
    "# 如果不设置keepdim = True的话，那么只会返回一个维度\n",
    "a.kthvalue(3,dim = 1)"
   ]
  },
  {
   "cell_type": "markdown",
   "metadata": {
    "cellType": "markdown",
    "uuid": "db946c07-e00b-438e-9870-fb3b0a927778"
   },
   "source": [
    "## 4.逻辑运算 >,>=,<,<=,!=,=="
   ]
  },
  {
   "cell_type": "code",
   "execution_count": 36,
   "metadata": {
    "uuid": "5be91398-0907-441e-8c0c-5ff79bca7e61"
   },
   "outputs": [
    {
     "data": {
      "text/plain": [
       "tensor([[True, True, True, True, True, True, True, True, True, True],\n",
       "        [True, True, True, True, True, True, True, True, True, True],\n",
       "        [True, True, True, True, True, True, True, True, True, True],\n",
       "        [True, True, True, True, True, True, True, True, True, True]])"
      ]
     },
     "execution_count": 36,
     "metadata": {},
     "output_type": "execute_result"
    }
   ],
   "source": [
    "a>0"
   ]
  },
  {
   "cell_type": "code",
   "execution_count": 37,
   "metadata": {
    "uuid": "dd563d31-a2b4-457b-993e-193147f65d52"
   },
   "outputs": [
    {
     "data": {
      "text/plain": [
       "tensor([[False, False, False, False, False, False, False, False, False, False],\n",
       "        [False, False, False, False, False, False, False, False, False, False],\n",
       "        [False, False, False, False, False, False, False, False, False, False],\n",
       "        [False, False, False, False, False, False, False, False, False, False]])"
      ]
     },
     "execution_count": 37,
     "metadata": {},
     "output_type": "execute_result"
    }
   ],
   "source": [
    "a<0"
   ]
  },
  {
   "cell_type": "code",
   "execution_count": 38,
   "metadata": {
    "uuid": "e9e92dc8-1386-467f-b3b0-8bb987ad8bca"
   },
   "outputs": [
    {
     "data": {
      "text/plain": [
       "tensor([[ True,  True, False,  True,  True, False,  True,  True,  True, False],\n",
       "        [False,  True,  True,  True, False, False,  True, False, False,  True],\n",
       "        [False,  True, False,  True, False,  True,  True,  True, False, False],\n",
       "        [ True,  True,  True, False,  True,  True, False, False,  True,  True]])"
      ]
     },
     "execution_count": 38,
     "metadata": {},
     "output_type": "execute_result"
    }
   ],
   "source": [
    "a>0.5"
   ]
  },
  {
   "cell_type": "code",
   "execution_count": 39,
   "metadata": {
    "uuid": "90ec638b-cb46-43ba-84af-8b80f283fdce"
   },
   "outputs": [
    {
     "data": {
      "text/plain": [
       "tensor([[False, False,  True, False, False,  True, False, False, False,  True],\n",
       "        [ True, False, False, False,  True,  True, False,  True,  True, False],\n",
       "        [ True, False,  True, False,  True, False, False, False,  True,  True],\n",
       "        [False, False, False,  True, False, False,  True,  True, False, False]])"
      ]
     },
     "execution_count": 39,
     "metadata": {},
     "output_type": "execute_result"
    }
   ],
   "source": [
    "a<=0.5"
   ]
  },
  {
   "cell_type": "code",
   "execution_count": 40,
   "metadata": {
    "uuid": "30f5347f-fbca-4392-812e-25d23b6206a6"
   },
   "outputs": [
    {
     "data": {
      "text/plain": [
       "tensor([[True, True, True, True, True, True, True, True, True, True],\n",
       "        [True, True, True, True, True, True, True, True, True, True],\n",
       "        [True, True, True, True, True, True, True, True, True, True],\n",
       "        [True, True, True, True, True, True, True, True, True, True]])"
      ]
     },
     "execution_count": 40,
     "metadata": {},
     "output_type": "execute_result"
    }
   ],
   "source": [
    "a!=0.5"
   ]
  },
  {
   "cell_type": "code",
   "execution_count": 41,
   "metadata": {
    "uuid": "ae1edf22-4d49-4218-a7b4-89daf7257c8b"
   },
   "outputs": [
    {
     "data": {
      "text/plain": [
       "tensor([[False, False, False, False, False, False, False, False, False, False],\n",
       "        [False, False, False, False, False, False, False, False, False, False],\n",
       "        [False, False, False, False, False, False, False, False, False, False],\n",
       "        [False, False, False, False, False, False, False, False, False, False]])"
      ]
     },
     "execution_count": 41,
     "metadata": {},
     "output_type": "execute_result"
    }
   ],
   "source": [
    "a == 0.5  #类比torch.eq(a,a)element进行比较，但是equal就是单纯tensor进行比较"
   ]
  },
  {
   "cell_type": "code",
   "execution_count": 42,
   "metadata": {
    "uuid": "10c4c749-cd86-4014-99eb-6bafea4df534"
   },
   "outputs": [
    {
     "data": {
      "text/plain": [
       "tensor([[True, True, True, True, True, True, True, True, True, True],\n",
       "        [True, True, True, True, True, True, True, True, True, True],\n",
       "        [True, True, True, True, True, True, True, True, True, True],\n",
       "        [True, True, True, True, True, True, True, True, True, True]])"
      ]
     },
     "execution_count": 42,
     "metadata": {},
     "output_type": "execute_result"
    }
   ],
   "source": [
    "torch.eq(a,a)"
   ]
  },
  {
   "cell_type": "code",
   "execution_count": 43,
   "metadata": {
    "uuid": "45b6fb9d-17b2-4b4d-b7d0-fb3dc37ae184"
   },
   "outputs": [
    {
     "data": {
      "text/plain": [
       "True"
      ]
     },
     "execution_count": 43,
     "metadata": {},
     "output_type": "execute_result"
    }
   ],
   "source": [
    "torch.equal(a,a)"
   ]
  },
  {
   "cell_type": "markdown",
   "metadata": {
    "cellType": "markdown",
    "uuid": "af926051-db39-4df2-814f-99e6c3a918ab"
   },
   "source": [
    "# 5.高阶操作\n",
    "## 5.1 where\n",
    "* 使用C = torch.where(condition,A,B)\n",
    "* 其中A,B,C,condition是shape相同的Tensor\n",
    "* C中的某些元素来自A，某些元素来自B，这由condition中对应位置的元素是1还是0来决定\n",
    "* 如果condition对应位置元素是1，则C中的该位置的元素来自A中的该位置的元素\n",
    "* 如果condition对应位置元素是0，则C中的该位置的元素来自B中的该位置的元素"
   ]
  },
  {
   "cell_type": "code",
   "execution_count": 44,
   "metadata": {
    "uuid": "fa685ed9-a46c-4b08-9a8d-dd86a4146245"
   },
   "outputs": [],
   "source": [
    "cond = torch.rand(2,2)#代表概率"
   ]
  },
  {
   "cell_type": "code",
   "execution_count": 45,
   "metadata": {
    "uuid": "99b21378-82f3-49b1-9b00-c2de87e70f62"
   },
   "outputs": [],
   "source": [
    "a = torch.ones(2,2,)"
   ]
  },
  {
   "cell_type": "code",
   "execution_count": 46,
   "metadata": {
    "uuid": "cbe30264-3f41-4253-aa1d-46a1fc0d2259"
   },
   "outputs": [],
   "source": [
    "b = torch.zeros(2,2)"
   ]
  },
  {
   "cell_type": "code",
   "execution_count": 47,
   "metadata": {
    "uuid": "37c6c303-871a-4f44-a130-7667464dd3c6"
   },
   "outputs": [
    {
     "data": {
      "text/plain": [
       "tensor([[1., 1.],\n",
       "        [0., 0.]])"
      ]
     },
     "execution_count": 47,
     "metadata": {},
     "output_type": "execute_result"
    }
   ],
   "source": [
    "torch.where(cond>0.5,a,b)"
   ]
  },
  {
   "cell_type": "markdown",
   "metadata": {
    "cellType": "markdown",
    "uuid": "970552c2-b360-43a0-bf55-815567cd16c7"
   },
   "source": [
    "## 5.2gather\n",
    "* torch.gather(input,dim,index,out = None)对元素一个查表映射的操作"
   ]
  },
  {
   "cell_type": "markdown",
   "metadata": {
    "cellType": "markdown",
    "uuid": "ffb2d44f-65af-424f-8c44-2beb5ca39fa8"
   },
   "source": [
    "# 重新得到对应真实label\n",
    "* argmax(pred) to get relative labeling\n",
    "* on some condition,our label is distinct from relative labeling"
   ]
  },
  {
   "cell_type": "markdown",
   "metadata": {
    "cellType": "markdown",
    "uuid": "1b013461-b682-46b2-bbf2-f2807948e173"
   },
   "source": [
    "# prob:[4,10]概率，得到对应的label:[0,9,6,10]\n",
    "# 但是真实label有另外一张表[0,10]->[101,102,103,104,...]"
   ]
  },
  {
   "cell_type": "code",
   "execution_count": 49,
   "metadata": {
    "uuid": "dad9a036-591a-4e79-b1dc-3fac126e76f0"
   },
   "outputs": [],
   "source": [
    "prob = torch.rand(4,10)"
   ]
  },
  {
   "cell_type": "code",
   "execution_count": 50,
   "metadata": {
    "uuid": "0a4dc895-a6f4-4e3b-a2fd-d443e8a0353d"
   },
   "outputs": [
    {
     "data": {
      "text/plain": [
       "tensor([[0.4523, 0.3438, 0.3932, 0.7800, 0.1671, 0.7993, 0.1309, 0.4024, 0.9625,\n",
       "         0.6708],\n",
       "        [0.6166, 0.9762, 0.5407, 0.9257, 0.0993, 0.6589, 0.2343, 0.8837, 0.2495,\n",
       "         0.0819],\n",
       "        [0.3187, 0.8219, 0.9436, 0.0697, 0.0915, 0.9449, 0.7189, 0.9379, 0.4076,\n",
       "         0.5902],\n",
       "        [0.5678, 0.5421, 0.0695, 0.8479, 0.3161, 0.7877, 0.4201, 0.9348, 0.3059,\n",
       "         0.2531]])"
      ]
     },
     "execution_count": 50,
     "metadata": {},
     "output_type": "execute_result"
    }
   ],
   "source": [
    "prob"
   ]
  },
  {
   "cell_type": "code",
   "execution_count": 52,
   "metadata": {
    "uuid": "3c578288-ce35-438b-b295-ea6df46df21f"
   },
   "outputs": [],
   "source": [
    "idx = prob.topk(3,dim = 1)"
   ]
  },
  {
   "cell_type": "code",
   "execution_count": 53,
   "metadata": {
    "uuid": "258f4917-8d30-49b8-aab1-f356cd8c9a33"
   },
   "outputs": [],
   "source": [
    "idx = idx[1] "
   ]
  },
  {
   "cell_type": "code",
   "execution_count": 54,
   "metadata": {
    "uuid": "e48e6c16-d894-4573-ad14-71f0c7beca58"
   },
   "outputs": [
    {
     "data": {
      "text/plain": [
       "tensor([[8, 5, 3],\n",
       "        [1, 3, 7],\n",
       "        [5, 2, 7],\n",
       "        [7, 3, 5]])"
      ]
     },
     "execution_count": 54,
     "metadata": {},
     "output_type": "execute_result"
    }
   ],
   "source": [
    "idx"
   ]
  },
  {
   "cell_type": "code",
   "execution_count": 55,
   "metadata": {
    "uuid": "8ed86284-bef9-4cac-825b-3cfe66d75f55"
   },
   "outputs": [],
   "source": [
    "label = torch.arange(10)+100"
   ]
  },
  {
   "cell_type": "code",
   "execution_count": 56,
   "metadata": {
    "uuid": "aad3602d-809d-4bce-ad39-8643eb8e3e77"
   },
   "outputs": [
    {
     "data": {
      "text/plain": [
       "tensor([100, 101, 102, 103, 104, 105, 106, 107, 108, 109])"
      ]
     },
     "execution_count": 56,
     "metadata": {},
     "output_type": "execute_result"
    }
   ],
   "source": [
    "label"
   ]
  },
  {
   "cell_type": "code",
   "execution_count": 57,
   "metadata": {
    "uuid": "d41fbb98-562a-4423-8f60-595ec28b0523"
   },
   "outputs": [],
   "source": [
    "label = label.unsqueeze(0)"
   ]
  },
  {
   "cell_type": "code",
   "execution_count": 59,
   "metadata": {
    "uuid": "23a06999-7296-480f-9371-110b1922b2bb"
   },
   "outputs": [],
   "source": [
    "label  = label.expand(4,10)"
   ]
  },
  {
   "cell_type": "code",
   "execution_count": 60,
   "metadata": {
    "uuid": "2cdf3c9d-10f9-4782-aaa4-c11bacae2dce"
   },
   "outputs": [
    {
     "data": {
      "text/plain": [
       "tensor([[108, 105, 103],\n",
       "        [101, 103, 107],\n",
       "        [105, 102, 107],\n",
       "        [107, 103, 105]])"
      ]
     },
     "execution_count": 60,
     "metadata": {},
     "output_type": "execute_result"
    }
   ],
   "source": [
    "torch.gather(label,dim = 1,index = idx.long())"
   ]
  },
  {
   "cell_type": "code",
   "execution_count": null,
   "metadata": {
    "uuid": "90663d08-6faa-4269-b639-59b1503abd19"
   },
   "outputs": [],
   "source": []
  }
 ],
 "metadata": {
  "kernelspec": {
   "display_name": "PyTorch",
   "language": "python",
   "name": "pytorch"
  },
  "language_info": {
   "codemirror_mode": {
    "name": "ipython",
    "version": 3
   },
   "file_extension": ".py",
   "mimetype": "text/x-python",
   "name": "python",
   "nbconvert_exporter": "python",
   "pygments_lexer": "ipython3",
   "version": "3.6.4"
  }
 },
 "nbformat": 4,
 "nbformat_minor": 2
}
