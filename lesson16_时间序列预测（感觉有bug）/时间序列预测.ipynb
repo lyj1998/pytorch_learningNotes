{
 "cells": [
  {
   "cell_type": "code",
   "execution_count": 1,
   "metadata": {
    "uuid": "a1ca10c2-52b5-4780-b076-d4ef581f8e4d"
   },
   "outputs": [],
   "source": [
    "import torch\n",
    "from torch import nn,optim\n",
    "from torch.nn import functional as F\n",
    "import matplotlib.pyplot as plt\n",
    "import numpy as np"
   ]
  },
  {
   "cell_type": "markdown",
   "metadata": {
    "cellType": "markdown",
    "uuid": "920b9c3b-cbce-4813-88f3-e31fa335971f"
   },
   "source": [
    "# 问题描述\n",
    "* 已知[k,k+n]时刻的正弦函数，预测[k+t,k+n+t]时刻的正弦曲线\n",
    "* 因为每个时刻曲线上的点是一个值，即embedding_dim = 1\n",
    "* 如果给出50个时刻的点，即seq_len = 50\n",
    "* 如果只提供一条曲线供输入则batch = 1\n",
    "* 输入的shape = [seq,embedding_dim,feature_len] = [50,1,1]"
   ]
  },
  {
   "cell_type": "code",
   "execution_count": 7,
   "metadata": {
    "uuid": "13419783-31fa-4800-bde7-1dc65afc09fc"
   },
   "outputs": [],
   "source": [
    "input_size = 1\n",
    "seq_len = 50\n",
    "hidden_size = 16\n",
    "batch_size = 1\n",
    "learning_rate = 0.001\n",
    "output_size = 1"
   ]
  },
  {
   "cell_type": "code",
   "execution_count": 8,
   "metadata": {
    "uuid": "f1a2757b-8094-47db-b7a8-628531d8610c"
   },
   "outputs": [],
   "source": [
    "class Net(nn.Module):\n",
    "    def __init__(self,input_size,hidden_size,output_size):\n",
    "        super(Net,self).__init__()\n",
    "        self.rnn = nn.RNN(\n",
    "        input_size = input_size,\n",
    "        hidden_size=hidden_size,\n",
    "        num_layers = 2,\n",
    "        batch_first = True\n",
    "        )\n",
    "        for p in self.rnn.parameters():#对rnn层的参数做初始化\n",
    "            nn.init.normal_(p,mean = 0.0,std = 0.001)\n",
    "        self.hidden_size = hidden_size\n",
    "        self.linear = nn.Linear(self.hidden_size,output_size)\n",
    "    def forward(self,x,prev):\n",
    "        out,h = self.rnn(x,hidden_prev)\n",
    "#         out:[batch,seql,outputsize]\n",
    "#         因为要把输出给线性层进行处理，所以需要把batch和seq_len维度进行flatten\n",
    "        out = out.view(-1,self.hidden_size)\n",
    "        out = self.linear(out)#[49,1]\n",
    "        out = out.unsqueeze(dim = 0)\n",
    "#         out:[batch,1]->[batch,seq,1]\n",
    "        return out,h"
   ]
  },
  {
   "cell_type": "code",
   "execution_count": 10,
   "metadata": {
    "uuid": "769f67b0-64fc-4c9c-a258-f6fbb1ca6a26"
   },
   "outputs": [],
   "source": [
    "model = Net(input_size,hidden_size,output_size)\n",
    "criteron = nn.MSELoss()\n",
    "optimizer = optim.Adam(model.parameters(),lr = learning_rate)\n",
    "hidden_prev = torch.zeros(2,1,16)\n",
    "num_time_steps = 50"
   ]
  },
  {
   "cell_type": "code",
   "execution_count": 11,
   "metadata": {
    "uuid": "5ea3e5ca-9f76-495f-b037-7ac9d314a0ce"
   },
   "outputs": [
    {
     "data": {
      "text/plain": [
       "0"
      ]
     },
     "execution_count": 11,
     "metadata": {},
     "output_type": "execute_result"
    }
   ],
   "source": [
    "start = np.random.randint(3,size = 1)[0]\n",
    "start"
   ]
  },
  {
   "cell_type": "code",
   "execution_count": null,
   "metadata": {
    "uuid": "0e4cc739-d44e-4ba9-9eea-76fbf9aca930"
   },
   "outputs": [
    {
     "name": "stdout",
     "output_type": "stream",
     "text": [
      "itertion:0,loss=0.4489847719669342\n",
      "itertion:100,loss=0.04312147945165634\n",
      "itertion:200,loss=0.008566171862185001\n"
     ]
    }
   ],
   "source": [
    "for iter in range(6000):\n",
    "    start = np.random.randint(3,size = 1)[0]\n",
    "    timesteps = np.linspace(start,start+10,num_time_steps)  \n",
    "    data = np.sin(timesteps)\n",
    "    data  = data.reshape(num_time_steps,1)#[num_time_steps,1]\n",
    "#     输入前49个点\n",
    "    x = torch.tensor(data[:-1]).float().view(1,num_time_steps-1,1)#[1,49,1]\n",
    "#     预测后49个点\n",
    "    y = torch.tensor(data[1:]).float().view(1,num_time_steps-1,1)#[1,49,1]\n",
    "    output,hidden_prev = model(x,hidden_prev)\n",
    "#     print(output.shape,hidden_prev.shape)#torch.Size([1, 49, 1]) torch.Size([2, 1, 16])\n",
    "    loss = criteron(output,y)\n",
    "    optimizer.zero_grad()\n",
    "    loss.backward(retain_graph=True)\n",
    "    optimizer.step()\n",
    "    if iter%100 == 0:\n",
    "        print('itertion:{},loss={}'.format(iter,loss.item()))\n",
    "    \n",
    "    \n",
    "#     test\n",
    "    start = np.random.randint(3,size = 1)[0]\n",
    "    timesteps = np.linspace(start,start+10,num_time_steps)  \n",
    "    data = np.sin(timesteps)\n",
    "    data  = data.reshape(num_time_steps,1)#[num_time_steps,1]\n",
    "#     输入前49个点\n",
    "    x = torch.tensor(data[:-1]).float().view(1,num_time_steps-1,1)#[1,49,1]\n",
    "#     预测后49个点\n",
    "    y = torch.tensor(data[1:]).float().view(1,num_time_steps-1,1)#[1,49,1]\n",
    "    \n",
    "    predictions = []\n",
    "    input= x[:,0,:]#去seq_len里面第0号数据\n",
    "    input = input.view(1,1,1)\n",
    "    for _ in range(x.shape[1]):\n",
    "        pred,hidden_prev = model(input,hidden_prev)\n",
    "        input = pred\n",
    "        predictions.append(pred.detach().numpy().ravel()[0])"
   ]
  },
  {
   "cell_type": "markdown",
   "metadata": {
    "cellType": "markdown",
    "uuid": "7eb051de-7ea4-4072-b92a-7acbf7c6d37e"
   },
   "source": [
    "# 梯度削减"
   ]
  },
  {
   "cell_type": "code",
   "execution_count": null,
   "metadata": {
    "uuid": "68ea889d-5522-4acb-8177-c0e5da04581d"
   },
   "outputs": [],
   "source": [
    "loss = criteion(output,y)\n",
    "optimizer.zero_grad()\n",
    "loss.backward()\n",
    "for p in model.parameters():\n",
    "    print(p.grad.norm())\n",
    "   torch.nn.utils.clip_grad_norm_(p,10)#小于等于10\n",
    "optimizer。step()"
   ]
  }
 ],
 "metadata": {
  "kernelspec": {
   "display_name": "PyTorch",
   "language": "python",
   "name": "pytorch"
  },
  "language_info": {
   "codemirror_mode": {
    "name": "ipython",
    "version": 3
   },
   "file_extension": ".py",
   "mimetype": "text/x-python",
   "name": "python",
   "nbconvert_exporter": "python",
   "pygments_lexer": "ipython3",
   "version": "3.6.4"
  }
 },
 "nbformat": 4,
 "nbformat_minor": 2
}
