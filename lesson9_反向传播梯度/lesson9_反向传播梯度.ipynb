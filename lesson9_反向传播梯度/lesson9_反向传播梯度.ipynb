{
 "cells": [
  {
   "cell_type": "markdown",
   "metadata": {
    "cellType": "markdown",
    "uuid": "acd31729-680b-45c5-b45c-b97447a92614"
   },
   "source": [
    "# 1.感知机"
   ]
  },
  {
   "cell_type": "markdown",
   "metadata": {
    "cellType": "markdown",
    "uuid": "9ebaf984-43ae-4ce9-ae43-f6bcbb681158"
   },
   "source": [
    "## 单层感知机"
   ]
  },
  {
   "cell_type": "code",
   "execution_count": 2,
   "metadata": {
    "uuid": "3f11c8ff-163c-4287-a8d6-f73c807aed97"
   },
   "outputs": [],
   "source": [
    "import torch\n",
    "from torch.nn import functional as F"
   ]
  },
  {
   "cell_type": "code",
   "execution_count": 3,
   "metadata": {
    "uuid": "c5c4da3e-5694-41a2-ada9-83bfd8ba961a"
   },
   "outputs": [],
   "source": [
    "# y = x@w+b  [1,10][1,10]+1\n",
    "x = torch.rand(1,10)\n",
    "w  = torch.rand(1,10,requires_grad = True)"
   ]
  },
  {
   "cell_type": "code",
   "execution_count": 4,
   "metadata": {
    "uuid": "ab3608f7-8b1c-4162-b3da-e66e2b278774"
   },
   "outputs": [],
   "source": [
    "pred = x@w.t()"
   ]
  },
  {
   "cell_type": "code",
   "execution_count": 8,
   "metadata": {
    "uuid": "c152b694-af6d-4702-9913-3034bbc83f2a"
   },
   "outputs": [],
   "source": [
    "output = torch.sigmoid(pred)"
   ]
  },
  {
   "cell_type": "code",
   "execution_count": 9,
   "metadata": {
    "uuid": "ec94fdb8-6948-47af-b625-e3df0aecc090"
   },
   "outputs": [],
   "source": [
    "loss = F.mse_loss(pred,torch.ones(1,1))"
   ]
  },
  {
   "cell_type": "code",
   "execution_count": 10,
   "metadata": {
    "uuid": "f710b8bf-62ba-4323-b9c6-6a31b27b32f3"
   },
   "outputs": [],
   "source": [
    "loss.backward()"
   ]
  },
  {
   "cell_type": "code",
   "execution_count": 11,
   "metadata": {
    "uuid": "a99b0cfb-67ee-4c9e-b59f-16958b649976"
   },
   "outputs": [
    {
     "data": {
      "text/plain": [
       "tensor([[2.0364, 5.1876, 3.9602, 4.3044, 4.5467, 5.4742, 5.0117, 0.8722, 5.6551,\n",
       "         3.7528]])"
      ]
     },
     "execution_count": 11,
     "metadata": {},
     "output_type": "execute_result"
    }
   ],
   "source": [
    "w.grad"
   ]
  },
  {
   "cell_type": "markdown",
   "metadata": {
    "cellType": "markdown",
    "uuid": "3ebd887d-4cb3-4fb0-9791-934593c68240"
   },
   "source": [
    "## 多输出感知机"
   ]
  },
  {
   "cell_type": "code",
   "execution_count": 12,
   "metadata": {
    "uuid": "2721ea32-9d3b-4ea6-a658-4808dd5cb49c"
   },
   "outputs": [],
   "source": [
    "x = torch.rand(1,10)\n",
    "w = torch.rand(2,10,requires_grad = True)"
   ]
  },
  {
   "cell_type": "code",
   "execution_count": 13,
   "metadata": {
    "uuid": "f5adbd46-fccf-4c96-bf80-d5ebb03793a3"
   },
   "outputs": [],
   "source": [
    "pred = x@w.t()"
   ]
  },
  {
   "cell_type": "code",
   "execution_count": 14,
   "metadata": {
    "uuid": "42baf10e-2573-4222-b2c1-4de7afb6b66c"
   },
   "outputs": [],
   "source": [
    "output = torch.sigmoid(pred)"
   ]
  },
  {
   "cell_type": "code",
   "execution_count": 15,
   "metadata": {
    "uuid": "28ff8ec7-1603-45ac-b384-bdc89ab7651b"
   },
   "outputs": [
    {
     "data": {
      "text/plain": [
       "tensor([[0.9192, 0.9236]], grad_fn=<SigmoidBackward>)"
      ]
     },
     "execution_count": 15,
     "metadata": {},
     "output_type": "execute_result"
    }
   ],
   "source": [
    "output"
   ]
  },
  {
   "cell_type": "code",
   "execution_count": 19,
   "metadata": {
    "uuid": "7d43ea8f-104d-477a-8bbf-5d46b6c9ff06"
   },
   "outputs": [],
   "source": [
    "loss = F.mse_loss(output,torch.ones(1,2))"
   ]
  },
  {
   "cell_type": "code",
   "execution_count": 20,
   "metadata": {
    "uuid": "92309939-5907-4059-9164-e59d3eb43ff8"
   },
   "outputs": [],
   "source": [
    "loss.backward()"
   ]
  },
  {
   "cell_type": "code",
   "execution_count": 21,
   "metadata": {
    "uuid": "cb292e97-657b-4b30-b0c2-8d8aaec27c74"
   },
   "outputs": [
    {
     "data": {
      "text/plain": [
       "tensor([[-1.8661e-03, -3.7264e-03, -5.5456e-03, -1.0047e-04, -2.7036e-03,\n",
       "         -5.0233e-03, -2.1731e-03, -1.8595e-03, -2.9901e-03, -3.8726e-03],\n",
       "        [-1.6780e-03, -3.3507e-03, -4.9865e-03, -9.0341e-05, -2.4310e-03,\n",
       "         -4.5169e-03, -1.9540e-03, -1.6720e-03, -2.6887e-03, -3.4822e-03]])"
      ]
     },
     "execution_count": 21,
     "metadata": {},
     "output_type": "execute_result"
    }
   ],
   "source": [
    "w.grad"
   ]
  },
  {
   "cell_type": "markdown",
   "metadata": {
    "cellType": "markdown",
    "uuid": "723f15ce-9c3b-46f6-a0aa-221a413c7a3a"
   },
   "source": [
    "# 2.链式法则求梯度"
   ]
  },
  {
   "cell_type": "code",
   "execution_count": 24,
   "metadata": {
    "uuid": "3e0ccd52-78af-46d3-9531-b9a208011c4b"
   },
   "outputs": [],
   "source": [
    "x = torch.tensor(1)\n",
    "w1 = torch.tensor(2.,requires_grad = True)\n",
    "b1 = torch.tensor(1)"
   ]
  },
  {
   "cell_type": "code",
   "execution_count": 26,
   "metadata": {
    "uuid": "9dc3416e-bd19-4266-902c-43a3efdfa4b1"
   },
   "outputs": [],
   "source": [
    "w2 = torch.tensor(2.,requires_grad = True)\n",
    "b2 = torch.tensor(1)"
   ]
  },
  {
   "cell_type": "code",
   "execution_count": 29,
   "metadata": {
    "uuid": "e98153c4-8e90-4af1-8d93-a3927b5ea20b"
   },
   "outputs": [],
   "source": [
    "y1 = x*w1+b1\n",
    "y2 = w2*y1+b2"
   ]
  },
  {
   "cell_type": "code",
   "execution_count": 30,
   "metadata": {
    "uuid": "4ab45a5f-6457-4a10-9034-c8754dd1baef"
   },
   "outputs": [],
   "source": [
    "dy2_dy1 = torch.autograd.grad(y2,[y1],retain_graph=True)\n",
    "dy1_dw1 = torch.autograd.grad(y1,[w1],retain_graph=True)\n",
    "dy2_dw1 = torch.autograd.grad(y2,[w1],retain_graph=True)"
   ]
  },
  {
   "cell_type": "code",
   "execution_count": 31,
   "metadata": {
    "uuid": "e4dbb861-a2f6-49ee-95db-4a3b1997ac6a"
   },
   "outputs": [
    {
     "data": {
      "text/plain": [
       "(tensor(2.),)"
      ]
     },
     "execution_count": 31,
     "metadata": {},
     "output_type": "execute_result"
    }
   ],
   "source": [
    "dy2_dw1"
   ]
  },
  {
   "cell_type": "code",
   "execution_count": 32,
   "metadata": {
    "uuid": "69b23d9e-61ff-4a07-b113-265cd10e9a2d"
   },
   "outputs": [
    {
     "data": {
      "text/plain": [
       "(tensor(1.),)"
      ]
     },
     "execution_count": 32,
     "metadata": {},
     "output_type": "execute_result"
    }
   ],
   "source": [
    "dy1_dw1"
   ]
  },
  {
   "cell_type": "code",
   "execution_count": 33,
   "metadata": {
    "uuid": "8cd3f8fd-27e0-47ed-95d2-b74bbb46c4f8"
   },
   "outputs": [
    {
     "data": {
      "text/plain": [
       "(tensor(2.),)"
      ]
     },
     "execution_count": 33,
     "metadata": {},
     "output_type": "execute_result"
    }
   ],
   "source": [
    "dy2_dy1"
   ]
  },
  {
   "cell_type": "markdown",
   "metadata": {
    "cellType": "markdown",
    "uuid": "0a4ea0b1-a10b-41c5-a1ef-e593ac8711f7"
   },
   "source": [
    "# 3.对Himmelblau函数的优化实例"
   ]
  },
  {
   "cell_type": "markdown",
   "metadata": {
    "cellType": "markdown",
    "uuid": "d6c27a20-be15-43e7-bc08-1be2131eb3a6"
   },
   "source": [
    "## np.meshgrid(X,Y)函数\n",
    "## 生成网格点坐标矩阵，比如：二维坐标系中，X轴可以取三个值1,2,3，Y轴可以取三个值7，8共可获得6个点的坐标：\n",
    "## (1,2),(2,7),(3,7)\n",
    "## (1,8),(2,8),(3,8)"
   ]
  },
  {
   "cell_type": "code",
   "execution_count": 39,
   "metadata": {
    "uuid": "7a61cf51-e23f-4de5-8cdc-038c1beb9c86"
   },
   "outputs": [],
   "source": [
    "# 首先可视化函数图像\n",
    "import numpy as np\n",
    "import matplotlib.pyplot as plt\n",
    "from mpl_toolkits.mplot3d import Axes3D\n",
    "from torch import optim"
   ]
  },
  {
   "cell_type": "code",
   "execution_count": 35,
   "metadata": {
    "uuid": "5d972677-fd98-4054-a656-bc222bb9677a"
   },
   "outputs": [],
   "source": [
    "def himmelblau(x):\n",
    "    return(x[0]**2+x[1]-11)**2+(x[0]+x[1]**2-7)**2\n",
    "x = np.arange(-6,6,0.1)\n",
    "y = np.arange(-6,6,0.1)\n",
    "X,Y = np.meshgrid(x,y)\n"
   ]
  },
  {
   "cell_type": "code",
   "execution_count": 36,
   "metadata": {
    "uuid": "3857f8b4-8353-4724-9159-2350d54a0390"
   },
   "outputs": [
    {
     "data": {
      "text/plain": [
       "array([[-6. , -5.9, -5.8, ...,  5.7,  5.8,  5.9],\n",
       "       [-6. , -5.9, -5.8, ...,  5.7,  5.8,  5.9],\n",
       "       [-6. , -5.9, -5.8, ...,  5.7,  5.8,  5.9],\n",
       "       ...,\n",
       "       [-6. , -5.9, -5.8, ...,  5.7,  5.8,  5.9],\n",
       "       [-6. , -5.9, -5.8, ...,  5.7,  5.8,  5.9],\n",
       "       [-6. , -5.9, -5.8, ...,  5.7,  5.8,  5.9]])"
      ]
     },
     "execution_count": 36,
     "metadata": {},
     "output_type": "execute_result"
    }
   ],
   "source": [
    "X"
   ]
  },
  {
   "cell_type": "code",
   "execution_count": 37,
   "metadata": {
    "uuid": "fa08a77d-5855-433d-9744-3255ba987d83"
   },
   "outputs": [],
   "source": [
    "Z = himmelblau([X,Y])"
   ]
  },
  {
   "cell_type": "code",
   "execution_count": 38,
   "metadata": {
    "uuid": "c0aaa4d5-d815-4547-b7fd-9306aea9c89e"
   },
   "outputs": [
    {
     "data": {
      "image/png": "[encoded data removed]",
      "text/plain": [
       "<Figure size 432x288 with 1 Axes>"
      ]
     },
     "metadata": {
      "needs_background": "light"
     },
     "output_type": "display_data"
    }
   ],
   "source": [
    "fig = plt.figure('himmeblau')\n",
    "ax = fig.gca(projection = '3d')\n",
    "ax.plot_surface(X,Y,Z)\n",
    "ax.view_init(60,-30)\n",
    "ax.set_xlabel('x')\n",
    "ax.set_ylabel('y')\n",
    "plt.show()"
   ]
  },
  {
   "cell_type": "markdown",
   "metadata": {
    "cellType": "markdown",
    "uuid": "a05c8643-f889-426c-903c-0585157fe0b1"
   },
   "source": [
    "## 使用随机梯度下降（SGD）进行优化\n",
    "* 优化目标，找到使函数最小的坐标"
   ]
  },
  {
   "cell_type": "code",
   "execution_count": 41,
   "metadata": {
    "uuid": "8d9d74ac-8d5a-4d3a-bc58-a61be0ab1ace"
   },
   "outputs": [
    {
     "name": "stdout",
     "output_type": "stream",
     "text": [
      "step = 0,x = tensor([0.0010, 0.0010], requires_grad=True),f(x) = 170.0\n",
      "step = 2000,x = tensor([2.3332, 1.9541], requires_grad=True),f(x) = 13.730910301208496\n",
      "step = 4000,x = tensor([2.9820, 2.0271], requires_grad=True),f(x) = 0.014858869835734367\n",
      "step = 6000,x = tensor([3.0000, 2.0000], requires_grad=True),f(x) = 1.1074007488787174e-08\n",
      "step = 8000,x = tensor([3.0000, 2.0000], requires_grad=True),f(x) = 1.5572823031106964e-09\n",
      "step = 10000,x = tensor([3.0000, 2.0000], requires_grad=True),f(x) = 1.8189894035458565e-10\n",
      "step = 12000,x = tensor([3.0000, 2.0000], requires_grad=True),f(x) = 1.6370904631912708e-11\n",
      "step = 14000,x = tensor([3.0000, 2.0000], requires_grad=True),f(x) = 1.8189894035458565e-12\n",
      "step = 16000,x = tensor([3., 2.], requires_grad=True),f(x) = 0.0\n",
      "step = 18000,x = tensor([3., 2.], requires_grad=True),f(x) = 0.0\n"
     ]
    }
   ],
   "source": [
    "x = torch.tensor([0.,0.],requires_grad = True)\n",
    "optimizer = optim.Adam([x],lr = 1e-3)\n",
    "for step in range(20000):\n",
    "    pred = himmelblau(x)\n",
    "    optimizer.zero_grad()\n",
    "    pred.backward()\n",
    "    optimizer.step()\n",
    "    if step % 2000==0:\n",
    "        print('step = {0},x = {1},f(x) = {2}'.format(step,x,pred))"
   ]
  },
  {
   "cell_type": "code",
   "execution_count": 42,
   "metadata": {
    "uuid": "54060e77-a86b-4a97-9b73-1e059ebb3beb"
   },
   "outputs": [
    {
     "name": "stdout",
     "output_type": "stream",
     "text": [
      "step = 0,x = tensor([ 3.9990e+00, -1.0000e-03], requires_grad=True),f(x) = 34.0\n",
      "step = 2000,x = tensor([ 3.5742, -1.7642], requires_grad=True),f(x) = 0.09904662519693375\n",
      "step = 4000,x = tensor([ 3.5844, -1.8481], requires_grad=True),f(x) = 2.1100277081131935e-09\n",
      "step = 6000,x = tensor([ 3.5844, -1.8481], requires_grad=True),f(x) = 2.41016095969826e-10\n",
      "step = 8000,x = tensor([ 3.5844, -1.8481], requires_grad=True),f(x) = 2.9103830456733704e-11\n",
      "step = 10000,x = tensor([ 3.5844, -1.8481], requires_grad=True),f(x) = 9.094947017729282e-13\n",
      "step = 12000,x = tensor([ 3.5844, -1.8481], requires_grad=True),f(x) = 0.0\n",
      "step = 14000,x = tensor([ 3.5844, -1.8481], requires_grad=True),f(x) = 0.0\n",
      "step = 16000,x = tensor([ 3.5844, -1.8481], requires_grad=True),f(x) = 0.0\n",
      "step = 18000,x = tensor([ 3.5844, -1.8481], requires_grad=True),f(x) = 0.0\n"
     ]
    }
   ],
   "source": [
    "## 改变初始化数值\n",
    "x = torch.tensor([4.,0.],requires_grad = True)\n",
    "optimizer = optim.Adam([x],lr = 1e-3)\n",
    "for step in range(20000):\n",
    "    pred = himmelblau(x)\n",
    "#     优化器保存之前的梯度信息\n",
    "    optimizer.zero_grad()\n",
    "    pred.backward()\n",
    "    optimizer.step()\n",
    "    if step % 2000==0:\n",
    "        print('step = {0},x = {1},f(x) = {2}'.format(step,x,pred))"
   ]
  },
  {
   "cell_type": "code",
   "execution_count": null,
   "metadata": {
    "uuid": "e33fa8f9-204f-4d77-b423-9218f6517095"
   },
   "outputs": [],
   "source": []
  }
 ],
 "metadata": {
  "kernelspec": {
   "display_name": "PyTorch",
   "language": "python",
   "name": "pytorch"
  },
  "language_info": {
   "codemirror_mode": {
    "name": "ipython",
    "version": 3
   },
   "file_extension": ".py",
   "mimetype": "text/x-python",
   "name": "python",
   "nbconvert_exporter": "python",
   "pygments_lexer": "ipython3",
   "version": "3.6.4"
  }
 },
 "nbformat": 4,
 "nbformat_minor": 2
}
